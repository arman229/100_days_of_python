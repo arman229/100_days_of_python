{
 "cells": [
  {
   "cell_type": "code",
   "execution_count": null,
   "id": "74a38086",
   "metadata": {},
   "outputs": [],
   "source": [
    "# Union of two sets \n",
    "# union method returns the new set\n",
    "# but update method updates the set"
   ]
  },
  {
   "cell_type": "code",
   "execution_count": 4,
   "id": "7c1f7f1c",
   "metadata": {},
   "outputs": [
    {
     "name": "stdout",
     "output_type": "stream",
     "text": [
      "{'f', 'd', 'a', 'e', 'g', 'b', 'c'}\n"
     ]
    }
   ],
   "source": [
    "set_a = {'a','b','c'}\n",
    "set_b = {'a','b','c','d'}\n",
    "set_c = {'g','f','e','d'}\n",
    "set_d = set_a.union(set_b,set_c)\n",
    "print(set_d)\n"
   ]
  },
  {
   "cell_type": "code",
   "execution_count": 7,
   "id": "f0a8f7b8",
   "metadata": {},
   "outputs": [
    {
     "name": "stdout",
     "output_type": "stream",
     "text": [
      "{'f', 'd', 'a', 'e', 'g', 'b', 'c'}\n",
      "None\n"
     ]
    }
   ],
   "source": [
    "set_a = {'a','b','c'}\n",
    "set_b = {'a','b','c','d'}\n",
    "set_c = {'g','f','e','d'}\n",
    "set_d = set_a.update(set_b,set_c)\n",
    "print(set_a)\n",
    "print(set_d)\n"
   ]
  },
  {
   "cell_type": "code",
   "execution_count": 9,
   "id": "108579df",
   "metadata": {},
   "outputs": [
    {
     "name": "stdout",
     "output_type": "stream",
     "text": [
      "{'a'}\n"
     ]
    }
   ],
   "source": [
    "set_a = {'a','b','c'}\n",
    "set_b = {'a','b','c','d'}\n",
    "set_c = {'a','f','e','d'}\n",
    "set_d = set_a.intersection(set_b,set_c)\n",
    "print(set_d)\n"
   ]
  },
  {
   "cell_type": "code",
   "execution_count": 11,
   "id": "8ceeefde",
   "metadata": {},
   "outputs": [
    {
     "name": "stdout",
     "output_type": "stream",
     "text": [
      "{'a'}\n"
     ]
    }
   ],
   "source": [
    "set_a = {'a','b','c'}\n",
    "set_b = {'a','b','c','d'}\n",
    "set_c = {'a','f','e','d'}\n",
    "set_d = set_a.intersection_update(set_b,set_c)\n",
    "print(set_a)\n"
   ]
  },
  {
   "cell_type": "code",
   "execution_count": null,
   "id": "d7cffa9d",
   "metadata": {},
   "outputs": [
    {
     "name": "stdout",
     "output_type": "stream",
     "text": [
      "{1, 2, 3, 6, 8, 9, 99}\n"
     ]
    }
   ],
   "source": [
    "# symmetric_difference: prints only value that are not similar in both\n",
    "\n",
    "set_a = {1,2,3,4,5,6,7}\n",
    "set_b = { 4,5,7,8,9,99}\n",
    "set_c = { 49,59,79,89,99,990}\n",
    "set_d = set_a.symmetric_difference(set_b) # symmetice_differece takes only one argument\n",
    "print(set_d)"
   ]
  },
  {
   "cell_type": "code",
   "execution_count": 16,
   "id": "7f002363",
   "metadata": {},
   "outputs": [
    {
     "name": "stdout",
     "output_type": "stream",
     "text": [
      "{1, 2, 3, 99, 6, 8, 9}\n"
     ]
    }
   ],
   "source": [
    "set_a = {1,2,3,4,5,6,7}\n",
    "set_b = { 4,5,7,8,9,99} \n",
    "set_d = set_a.symmetric_difference_update(set_b) # symmetice_differece takes only one argument\n",
    "print(set_a)"
   ]
  },
  {
   "cell_type": "code",
   "execution_count": 19,
   "id": "5b7646a1",
   "metadata": {},
   "outputs": [
    {
     "name": "stdout",
     "output_type": "stream",
     "text": [
      "{'afg'}\n"
     ]
    }
   ],
   "source": [
    "# Difference: in set difference means items that are in original set(first set) but not in other set\n",
    "country_set = {\"pak\",\"ind\",'afg'}\n",
    "other_set = {\"pak\",\"asia\",\"africa\"}\n",
    "other_set_2 = {\"ind\",\"asia\",\"africa\"}\n",
    "set_diff = country_set.difference(other_set,other_set_2)\n",
    "print(set_diff)"
   ]
  },
  {
   "cell_type": "code",
   "execution_count": 20,
   "id": "b4aff767",
   "metadata": {},
   "outputs": [
    {
     "name": "stdout",
     "output_type": "stream",
     "text": [
      "{'afg'}\n"
     ]
    }
   ],
   "source": [
    "country_set = {\"pak\",\"ind\",'afg'}\n",
    "other_set = {\"pak\",\"asia\",\"africa\"}\n",
    "other_set_2 = {\"ind\",\"asia\",\"africa\"}\n",
    "set_diff = country_set.difference_update(other_set,other_set_2)\n",
    "print(country_set)"
   ]
  },
  {
   "cell_type": "code",
   "execution_count": null,
   "id": "7b07522d",
   "metadata": {},
   "outputs": [],
   "source": [
    "# isdisjoint() : it check where sets have some common elemens or not if it has some common elements it return false otherwise it return true"
   ]
  },
  {
   "cell_type": "code",
   "execution_count": 21,
   "id": "803a6c77",
   "metadata": {},
   "outputs": [
    {
     "name": "stdout",
     "output_type": "stream",
     "text": [
      "True\n",
      "False\n"
     ]
    }
   ],
   "source": [
    "name_set = {'arman','asad'}\n",
    "name_set_2 = {'arman ashraf','asad ali'}\n",
    "name_set_3 = {'arman','asad'}\n",
    "\n",
    "set_resp=name_set.isdisjoint(name_set_2)\n",
    "set_resp_2=name_set.isdisjoint(name_set_3)\n",
    "print(set_resp)\n",
    "print(set_resp_2)"
   ]
  },
  {
   "cell_type": "code",
   "execution_count": 23,
   "id": "f172e203",
   "metadata": {},
   "outputs": [
    {
     "name": "stdout",
     "output_type": "stream",
     "text": [
      "True\n"
     ]
    }
   ],
   "source": [
    "# issuperset() it check where all element of other set are present in original set \n",
    "\n",
    "set_of_homes = {'home_2','home_1'}\n",
    "set_of_other_homes = {'home_2'}\n",
    "final_set = set_of_homes.issuperset(set_of_other_homes)\n",
    "print(final_set)"
   ]
  },
  {
   "cell_type": "code",
   "execution_count": 28,
   "id": "78ba4730",
   "metadata": {},
   "outputs": [
    {
     "name": "stdout",
     "output_type": "stream",
     "text": [
      "True\n"
     ]
    }
   ],
   "source": [
    "# issubset it check all elements of the original set are present in other set\n",
    "\n",
    "cities = {'sialkot','lahore'}\n",
    "city = {'sialkot'}\n",
    "new_city = city.issubset(cities                         )\n",
    "print(new_city)"
   ]
  },
  {
   "cell_type": "code",
   "execution_count": 29,
   "id": "7d21d226",
   "metadata": {},
   "outputs": [
    {
     "name": "stdout",
     "output_type": "stream",
     "text": [
      "{'arman', 24, 'mathematic'}\n"
     ]
    }
   ],
   "source": [
    "# add method add element in a set\n",
    "\n",
    "arman_set ={'arman',24}\n",
    "arman_set.add('mathematic')\n",
    "print(arman_set\n",
    "    )"
   ]
  },
  {
   "cell_type": "code",
   "execution_count": 30,
   "id": "a20af386",
   "metadata": {},
   "outputs": [
    {
     "name": "stdout",
     "output_type": "stream",
     "text": [
      "{'A', 'a', 'b', 'B'}\n"
     ]
    }
   ],
   "source": [
    "# update() if we want to add more than one value simple create a new set and update method to update it\n",
    "\n",
    "set_a = {'a','A'}\n",
    "set_b = {'b','B'}\n",
    "set_a.update(set_b)\n",
    "print(set_a)"
   ]
  },
  {
   "cell_type": "code",
   "execution_count": 33,
   "id": "b42f2e99",
   "metadata": {},
   "outputs": [
    {
     "name": "stdout",
     "output_type": "stream",
     "text": [
      "{'asif ali', 'memnon hassan'}\n",
      "None\n",
      "None\n",
      "{'memnon hassan'}\n"
     ]
    }
   ],
   "source": [
    "# remove/discard    The main difference between remove over discard is that if in a set we have not item present remove gives an error  if we want to remove it \n",
    "\n",
    "set_of_pres = {'arif alvi','asif ali','memnon hassan'}\n",
    "removed_item=set_of_pres.remove('arif alvi')\n",
    "print(set_of_pres)\n",
    "discard_item=set_of_pres.discard('asif ali')\n",
    "print(removed_item)\n",
    "print(discard_item)\n",
    "print(set_of_pres)"
   ]
  },
  {
   "cell_type": "code",
   "execution_count": 36,
   "id": "1684a8c4",
   "metadata": {},
   "outputs": [
    {
     "name": "stdout",
     "output_type": "stream",
     "text": [
      "1\n",
      "{3, 4, 5}\n"
     ]
    }
   ],
   "source": [
    "# pop method remove the item form the last in a set\n",
    "\n",
    "set_of_no = {1,3,4,5}\n",
    "remove_no = set_of_no.pop()\n",
    "print(remove_no)\n",
    "print(set_of_no)"
   ]
  },
  {
   "cell_type": "code",
   "execution_count": 37,
   "id": "fadd5cb4",
   "metadata": {},
   "outputs": [
    {
     "ename": "NameError",
     "evalue": "name 'set_of_shoes' is not defined",
     "output_type": "error",
     "traceback": [
      "\u001b[31m---------------------------------------------------------------------------\u001b[39m",
      "\u001b[31mNameError\u001b[39m                                 Traceback (most recent call last)",
      "\u001b[36mCell\u001b[39m\u001b[36m \u001b[39m\u001b[32mIn[37]\u001b[39m\u001b[32m, line 5\u001b[39m\n\u001b[32m      3\u001b[39m set_of_shoes = {\u001b[33m'\u001b[39m\u001b[33mbata\u001b[39m\u001b[33m'\u001b[39m,\u001b[33m'\u001b[39m\u001b[33maddidas\u001b[39m\u001b[33m'\u001b[39m}\n\u001b[32m      4\u001b[39m \u001b[38;5;28;01mdel\u001b[39;00m set_of_shoes\n\u001b[32m----> \u001b[39m\u001b[32m5\u001b[39m \u001b[38;5;28mprint\u001b[39m(\u001b[43mset_of_shoes\u001b[49m)\n",
      "\u001b[31mNameError\u001b[39m: name 'set_of_shoes' is not defined"
     ]
    }
   ],
   "source": [
    "# del delete the entire set\n",
    "\n",
    "set_of_shoes = {'bata','addidas'}\n",
    "del set_of_shoes\n",
    "print(set_of_shoes)"
   ]
  },
  {
   "cell_type": "code",
   "execution_count": 38,
   "id": "729bf8ef",
   "metadata": {},
   "outputs": [
    {
     "name": "stdout",
     "output_type": "stream",
     "text": [
      "set()\n"
     ]
    }
   ],
   "source": [
    "book_set = {'quran','hadith'}\n",
    "book_set.clear()\n",
    "print(book_set)"
   ]
  },
  {
   "cell_type": "code",
   "execution_count": 44,
   "id": "27f23868",
   "metadata": {},
   "outputs": [
    {
     "name": "stdout",
     "output_type": "stream",
     "text": [
      "<class 'set'>\n",
      "set()\n"
     ]
    }
   ],
   "source": [
    "book_set_emptys = set() \n",
    "print(type(book_set_emptys))\n",
    "print(book_set_emptys)\n",
    " "
   ]
  },
  {
   "cell_type": "code",
   "execution_count": 40,
   "id": "46391956",
   "metadata": {},
   "outputs": [
    {
     "name": "stdout",
     "output_type": "stream",
     "text": [
      "<class 'dict'>\n",
      "{}\n"
     ]
    }
   ],
   "source": [
    "book_set_empty = {} \n",
    "print(type(book_set_empty))\n",
    "print(book_set)"
   ]
  },
  {
   "cell_type": "code",
   "execution_count": null,
   "id": "90d1998d",
   "metadata": {},
   "outputs": [],
   "source": []
  }
 ],
 "metadata": {
  "kernelspec": {
   "display_name": "Python 3",
   "language": "python",
   "name": "python3"
  },
  "language_info": {
   "codemirror_mode": {
    "name": "ipython",
    "version": 3
   },
   "file_extension": ".py",
   "mimetype": "text/x-python",
   "name": "python",
   "nbconvert_exporter": "python",
   "pygments_lexer": "ipython3",
   "version": "3.13.3"
  }
 },
 "nbformat": 4,
 "nbformat_minor": 5
}
