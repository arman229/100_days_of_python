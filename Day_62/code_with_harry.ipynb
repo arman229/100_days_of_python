{
 "cells": [
  {
   "cell_type": "markdown",
   "id": "38b76800",
   "metadata": {},
   "source": [
    "# Access Modifiers :\n",
    " In python Access Modifiers define how accessible class variables or method are from outside the  class\n",
    "### There are three access modifers\n",
    "### 1.**public**\n",
    "A member(variable or method ) is public modifiers if it is accessible from anywhere inside or outside the class\n",
    "### 2.**Protected**\n",
    "A protected is just for convention not for strict rule it is use class and in subclass\n",
    "### 3.**private**\n",
    "A private memeber only accessible inside the class "
   ]
  },
  {
   "cell_type": "code",
   "execution_count": null,
   "id": "d40ce83f",
   "metadata": {},
   "outputs": [
    {
     "name": "stdout",
     "output_type": "stream",
     "text": [
      "arman\n",
      "Welcome to HBL\n",
      "you have  200 amount in your card\n"
     ]
    }
   ],
   "source": [
    "class Bank:\n",
    "    BANK_NAME=\"HBL\"\n",
    "    def __init__(self,name,amount):\n",
    "        self.name = name  \n",
    "        self._amount = amount \n",
    "\n",
    "    def bank_name(self):\n",
    "        print(f'Welcome to {Bank.BANK_NAME}')\n",
    "\n",
    "   \n",
    "    def _total_amount(self):\n",
    "        print(f\"you have  {self._amount} amount in your card\")\n",
    "\n",
    "user_1 = Bank('arman','1234','200')\n",
    "print(user_1.name) \n",
    "user_1.bank_name()\n",
    "user_1._total_amount()"
   ]
  },
  {
   "cell_type": "code",
   "execution_count": null,
   "id": "bf262dd5",
   "metadata": {},
   "outputs": [],
   "source": [
    "class Bank:\n",
    "    BANK_NAME=\"HBL\"\n",
    "    def __init__(self,name,card_no,amount):\n",
    "        self.name = name \n",
    "        self.__card_no = card_no\n",
    "        self._amount = amount \n",
    "\n",
    "    def bank_name(self):\n",
    "        print(f'Welcome to {Bank.BANK_NAME}')\n",
    "\n",
    "  \n",
    "    def __get_card(self):\n",
    "        print(f\"your card no is{self._card_no}\")\n",
    "        \n",
    "    def _total_amount(self):\n",
    "        print(f\"your card no is{self._amount}\")\n",
    "\n",
    "user_1 = Bank('arman','1234','200')\n",
    "print(user_1.name) \n",
    "user_1.bank_name()\n",
    "user_1._total_amount()"
   ]
  },
  {
   "cell_type": "code",
   "execution_count": 10,
   "id": "c54b2447",
   "metadata": {},
   "outputs": [
    {
     "name": "stdout",
     "output_type": "stream",
     "text": [
      "Arman\n",
      "Welcome to HBL\n",
      "Your balance is 200\n"
     ]
    }
   ],
   "source": [
    "class Bank:\n",
    "    bank_name = \"HBL\"  # Class variable\n",
    "\n",
    "    def __init__(self, name, card_no, amount):\n",
    "        self.name = name\n",
    "        self.__card_no = card_no\n",
    "        self._amount = amount\n",
    "\n",
    "    def display_bank_name(self):\n",
    "        print(f'Welcome to {Bank.bank_name}')  # Accessing class variable\n",
    "\n",
    "    def __get_card(self):\n",
    "        print(f\"Your card number is {self.__card_no}\")\n",
    "\n",
    "    def _total_amount(self):\n",
    "        print(f\"Your balance is {self._amount}\")\n",
    "\n",
    "# Usage\n",
    "user_1 = Bank('Arman', '1234', 200)\n",
    "print(user_1.name)\n",
    "user_1.display_bank_name()\n",
    "user_1._total_amount()\n"
   ]
  },
  {
   "cell_type": "markdown",
   "id": "8cc905d7",
   "metadata": {},
   "source": [
    "### protected modifiers\n",
    "\n",
    "In Python, a variable with a single underscore prefix  is called a \"protected\" variable by convention only, not by enforcement.\n",
    "\n",
    "> 💡 It is a convention that tells other developers:\n",
    "\n",
    "> “This attribute is for internal use or subclasses, not for external/public access.”\n",
    "\n",
    "Imagine a toolbox at work labeled:\n",
    "\n",
    "“For engineers only — not general staff”\n",
    "\n",
    "It's not locked 🔒, but clearly marked. If a non-engineer opens it and messes up, it's their responsibility — not the engineer's fault."
   ]
  },
  {
   "cell_type": "code",
   "execution_count": 15,
   "id": "cd3610b3",
   "metadata": {},
   "outputs": [],
   "source": [
    "class BankAccount:\n",
    "    def __init__(self, owner, initial_balance):\n",
    "        self.owner = owner\n",
    "        self._balance = initial_balance  # Protected attribute\n",
    "\n",
    "    def deposit(self, amount):\n",
    "        self._balance += amount\n",
    "\n",
    "    def get_balance(self):\n",
    "        return self._balance\n"
   ]
  },
  {
   "cell_type": "code",
   "execution_count": 17,
   "id": "99b1479f",
   "metadata": {},
   "outputs": [],
   "source": [
    "class SavingsAccount(BankAccount):\n",
    "    def apply_interest(self, rate):\n",
    "        # Subclass can safely access _balance\n",
    "        interest = self._balance * rate\n",
    "        self._balance += interest\n",
    "        print(f\"Interest of {interest} applied. New balance: {self._balance}\")\n"
   ]
  },
  {
   "cell_type": "code",
   "execution_count": 19,
   "id": "23005bf5",
   "metadata": {},
   "outputs": [
    {
     "name": "stdout",
     "output_type": "stream",
     "text": [
      "Interest of 75.0 applied. New balance: 1575.0\n",
      "1575.0\n",
      "-1000\n"
     ]
    }
   ],
   "source": [
    "account = SavingsAccount(\"Arman\", 1000)\n",
    "account.deposit(500)\n",
    "account.apply_interest(0.05)  # 5% interest\n",
    "print(account.get_balance())\n",
    "account._balance=-1000\n",
    "print(account._balance)\n"
   ]
  },
  {
   "cell_type": "code",
   "execution_count": null,
   "id": "471e82ed",
   "metadata": {},
   "outputs": [
    {
     "name": "stdout",
     "output_type": "stream",
     "text": [
      "1234\n",
      "your card no is1234\n"
     ]
    }
   ],
   "source": [
    "class Bank:\n",
    "    BANK_NAME=\"HBL\"\n",
    "    def __init__(self,name,card_no):\n",
    "        self.name = name \n",
    "        self.__card_no = card_no\n",
    "      \n",
    "    def __get_card(self):\n",
    "        print(f\"your card no is{self.__card_no}\")\n",
    "       \n",
    "user_1 = Bank('arman','1234','200') \n",
    "print(user_1._Bank__card_no)\n",
    "user_1._Bank__get_card()"
   ]
  },
  {
   "cell_type": "code",
   "execution_count": null,
   "id": "25cdc26d",
   "metadata": {},
   "outputs": [
    {
     "name": "stdout",
     "output_type": "stream",
     "text": [
      "1234\n",
      "1234\n"
     ]
    }
   ],
   "source": [
    "class Bank:\n",
    "    BANK_NAME=\"HBL\"\n",
    "    def __init__(self,name,card_no):\n",
    "        self.name = name \n",
    "        self.__card_no = card_no\n",
    "    def get_card_no(self):\n",
    "        print(self.__card_no)\n",
    "user_1 = Bank('arman','1234') \n",
    "print(user_1._Bank__card_no) # Name Mangling: By using the name mangling technique we can use a __private variabe outside the class\n",
    "user_1.get_card_no()"
   ]
  },
  {
   "cell_type": "code",
   "execution_count": null,
   "id": "ca2ecd91",
   "metadata": {},
   "outputs": [
    {
     "ename": "AttributeError",
     "evalue": "'ChildBank' object has no attribute '_ChildBank__card_no'",
     "output_type": "error",
     "traceback": [
      "\u001b[31m---------------------------------------------------------------------------\u001b[39m",
      "\u001b[31mAttributeError\u001b[39m                            Traceback (most recent call last)",
      "\u001b[36mCell\u001b[39m\u001b[36m \u001b[39m\u001b[32mIn[42]\u001b[39m\u001b[32m, line 12\u001b[39m\n\u001b[32m     10\u001b[39m         \u001b[38;5;28mprint\u001b[39m(\u001b[38;5;28mself\u001b[39m.__card_no)       \n\u001b[32m     11\u001b[39m user_1 = ChildBank(\u001b[33m'\u001b[39m\u001b[33marman\u001b[39m\u001b[33m'\u001b[39m,\u001b[33m'\u001b[39m\u001b[33m1234\u001b[39m\u001b[33m'\u001b[39m)  \n\u001b[32m---> \u001b[39m\u001b[32m12\u001b[39m \u001b[43muser_1\u001b[49m\u001b[43m.\u001b[49m\u001b[43mchild_card_info\u001b[49m\u001b[43m(\u001b[49m\u001b[43m)\u001b[49m \n",
      "\u001b[36mCell\u001b[39m\u001b[36m \u001b[39m\u001b[32mIn[42]\u001b[39m\u001b[32m, line 10\u001b[39m, in \u001b[36mChildBank.child_card_info\u001b[39m\u001b[34m(self)\u001b[39m\n\u001b[32m      9\u001b[39m \u001b[38;5;28;01mdef\u001b[39;00m\u001b[38;5;250m \u001b[39m\u001b[34mchild_card_info\u001b[39m(\u001b[38;5;28mself\u001b[39m):\n\u001b[32m---> \u001b[39m\u001b[32m10\u001b[39m     \u001b[38;5;28mprint\u001b[39m(\u001b[38;5;28;43mself\u001b[39;49m\u001b[43m.\u001b[49m\u001b[43m__card_no\u001b[49m)\n",
      "\u001b[31mAttributeError\u001b[39m: 'ChildBank' object has no attribute '_ChildBank__card_no'"
     ]
    }
   ],
   "source": [
    "class Bank:\n",
    "    BANK_NAME=\"HBL\"\n",
    "    def __init__(self,name,card_no):\n",
    "        self.name = name \n",
    "        self.__card_no = card_no # private attribute can only be  accessable in main class not in subclass\n",
    "    def get_card_no(self):\n",
    "        print(self.__card_no)\n",
    "class ChildBank(Bank):\n",
    "    def child_card_info(self):\n",
    "        print(self.__card_no)       \n",
    "user_1 = ChildBank('arman','1234')  \n",
    "user_1.child_card_info() "
   ]
  },
  {
   "cell_type": "code",
   "execution_count": null,
   "id": "84360a1d",
   "metadata": {},
   "outputs": [
    {
     "name": "stdout",
     "output_type": "stream",
     "text": [
      "1234\n"
     ]
    }
   ],
   "source": [
    "class Bank:\n",
    "    BANK_NAME=\"HBL\"\n",
    "    def __init__(self,name,card_no):\n",
    "        self.name = name \n",
    "        self.__card_no = card_no\n",
    "    def get_card_no(self):\n",
    "        print(self.__card_no)\n",
    "class ChildBank(Bank):\n",
    "    def child_card_info(self):\n",
    "        print(self._Bank__card_no)       \n",
    "user_1 = ChildBank('arman','1234')  \n",
    "user_1.child_card_info() "
   ]
  },
  {
   "cell_type": "code",
   "execution_count": null,
   "id": "a7e01ad9",
   "metadata": {},
   "outputs": [],
   "source": []
  }
 ],
 "metadata": {
  "kernelspec": {
   "display_name": "Python 3",
   "language": "python",
   "name": "python3"
  },
  "language_info": {
   "codemirror_mode": {
    "name": "ipython",
    "version": 3
   },
   "file_extension": ".py",
   "mimetype": "text/x-python",
   "name": "python",
   "nbconvert_exporter": "python",
   "pygments_lexer": "ipython3",
   "version": "3.13.5"
  }
 },
 "nbformat": 4,
 "nbformat_minor": 5
}
