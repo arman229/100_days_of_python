{
 "cells": [
  {
   "cell_type": "code",
   "execution_count": 1,
   "id": "ea3f9cc3",
   "metadata": {},
   "outputs": [
    {
     "name": "stdout",
     "output_type": "stream",
     "text": [
      "0):pak\n",
      "1):india\n",
      "2):brazil\n"
     ]
    }
   ],
   "source": [
    "# enumerate() this method iterates over iterable object and get value and index\n",
    "\n",
    "list_of_coun = ['pak','india','brazil']\n",
    "for index,val in enumerate(list_of_coun):\n",
    "    print(f\"{index}):{val}\")"
   ]
  },
  {
   "cell_type": "code",
   "execution_count": 3,
   "id": "b66a3d36",
   "metadata": {},
   "outputs": [
    {
     "name": "stdout",
     "output_type": "stream",
     "text": [
      "4):pak\n",
      "5):india\n",
      "6):brazil\n"
     ]
    }
   ],
   "source": [
    "list_of_coun = ['pak','india','brazil']\n",
    "for index,val in enumerate(list_of_coun,start=4): # By defulat it start from 0 if we are not providing the value of start\n",
    "    print(f\"{index}):{val}\")"
   ]
  },
  {
   "cell_type": "code",
   "execution_count": 7,
   "id": "59a873a5",
   "metadata": {},
   "outputs": [
    {
     "name": "stdout",
     "output_type": "stream",
     "text": [
      "0):name\n",
      "1):city\n"
     ]
    }
   ],
   "source": [
    "arman_into = {'name':\"arman\",'city':'sialkot'}\n",
    "for i,val in enumerate(arman_into):\n",
    "    print(f\"{i}):{val}\")"
   ]
  },
  {
   "cell_type": "code",
   "execution_count": 8,
   "id": "be8f3e33",
   "metadata": {},
   "outputs": [
    {
     "name": "stdout",
     "output_type": "stream",
     "text": [
      "0):arman\n",
      "1):sialkot\n"
     ]
    }
   ],
   "source": [
    "arman_into = {'name':\"arman\",'city':'sialkot'}\n",
    "for i,(arman_key,val) in enumerate(arman_into.items()):\n",
    "    print(f\"{i}):{val}\")"
   ]
  },
  {
   "cell_type": "code",
   "execution_count": null,
   "id": "4707d797",
   "metadata": {},
   "outputs": [],
   "source": []
  }
 ],
 "metadata": {
  "kernelspec": {
   "display_name": "Python 3",
   "language": "python",
   "name": "python3"
  },
  "language_info": {
   "codemirror_mode": {
    "name": "ipython",
    "version": 3
   },
   "file_extension": ".py",
   "mimetype": "text/x-python",
   "name": "python",
   "nbconvert_exporter": "python",
   "pygments_lexer": "ipython3",
   "version": "3.13.3"
  }
 },
 "nbformat": 4,
 "nbformat_minor": 5
}
