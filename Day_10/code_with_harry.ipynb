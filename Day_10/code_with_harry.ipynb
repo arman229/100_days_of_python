{
 "cells": [
  {
   "cell_type": "markdown",
   "id": "8f05919e",
   "metadata": {},
   "source": [
    "# Day 10 - Taking User Input in python\n",
    "In python, we can take user input directly by using input() function.This input function gives a return value as string/character hence we have to pass that into a variable\n",
    "## Syntax:\n",
    "```python\n",
    "variable=input()\n",
    "```\n",
    "But input function returns the value as string. Hence we have to typecast them whenever required to another datatype.\n",
    "## Example:\n",
    "```python\n",
    "variable=int(input())\n",
    "variable=float(input())\n",
    "```\n",
    "\n",
    "We can also display a text using input function. This will make input() function take user input and display a message as well\n",
    "## Example:\n",
    "```python\n",
    "a=input(\"Enter the name: \")\n",
    "print(a)\n",
    "```\n",
    "## Output:\n",
    "```\n",
    "Enter the name: Harry\n",
    "Harry\n",
    "``` "
   ]
  }
 ],
 "metadata": {
  "language_info": {
   "name": "python"
  }
 },
 "nbformat": 4,
 "nbformat_minor": 5
}
