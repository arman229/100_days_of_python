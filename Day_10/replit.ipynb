{
 "cells": [
  {
   "cell_type": "code",
   "execution_count": 1,
   "id": "6f65e595",
   "metadata": {},
   "outputs": [
    {
     "name": "stdout",
     "output_type": "stream",
     "text": [
      "per person amount: 943.50\n"
     ]
    }
   ],
   "source": [
    "bill= float(input(\"Enter the bill amount: \"))\n",
    "tip_percentage = float(input(\"Enter the tip percentage (e.g., 15 for 15%): \"))\n",
    "total_no_people = int(input(\"Enter the number of people: \"))\n",
    "tip_amount = bill * (tip_percentage / 100)\n",
    "total_amount = bill + tip_amount\n",
    "amount_per_person = total_amount / total_no_people\n",
    "print(f\"per person amount: {amount_per_person:.2f}\")"
   ]
  },
  {
   "cell_type": "code",
   "execution_count": null,
   "id": "e6aeeef8",
   "metadata": {},
   "outputs": [],
   "source": []
  }
 ],
 "metadata": {
  "kernelspec": {
   "display_name": "Python 3",
   "language": "python",
   "name": "python3"
  },
  "language_info": {
   "codemirror_mode": {
    "name": "ipython",
    "version": 3
   },
   "file_extension": ".py",
   "mimetype": "text/x-python",
   "name": "python",
   "nbconvert_exporter": "python",
   "pygments_lexer": "ipython3",
   "version": "3.13.3"
  }
 },
 "nbformat": 4,
 "nbformat_minor": 5
}
