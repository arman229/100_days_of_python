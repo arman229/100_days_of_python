{
 "cells": [
  {
   "cell_type": "code",
   "execution_count": 2,
   "id": "22a9ed9f",
   "metadata": {},
   "outputs": [
    {
     "name": "stdout",
     "output_type": "stream",
     "text": [
      "Accatable values are 0\n",
      "Accatable values are 1\n",
      "Accatable values are 2\n",
      "3 is not accatable in our code\n"
     ]
    }
   ],
   "source": [
    "# Python else in loop\n",
    "# else in loop only execute if the loop successfully completes otherwise else block is not run\n",
    "for i in range(5):\n",
    "    if i == 3:\n",
    "        print(f\"{i} is not accatable in our code\")\n",
    "        break\n",
    "    print(f\"Accatable values are {i}\")\n",
    "else:\n",
    "    print('Not run else block because loop break')    "
   ]
  },
  {
   "cell_type": "code",
   "execution_count": 4,
   "id": "8f882e92",
   "metadata": {},
   "outputs": [
    {
     "name": "stdout",
     "output_type": "stream",
     "text": [
      "Your age is less than 18\n"
     ]
    }
   ],
   "source": [
    "flag = True\n",
    "while flag:\n",
    "    user_input = int(input('Enter your age'))\n",
    "    if user_input < 18:\n",
    "        print('Your age is less than 18')\n",
    "        break\n",
    "    print('Your are eligible for vote casting')\n",
    "    flag= False\n",
    "else:\n",
    "    print(\"Please bring your ID card at polling station\")    "
   ]
  }
 ],
 "metadata": {
  "kernelspec": {
   "display_name": "Python 3",
   "language": "python",
   "name": "python3"
  },
  "language_info": {
   "codemirror_mode": {
    "name": "ipython",
    "version": 3
   },
   "file_extension": ".py",
   "mimetype": "text/x-python",
   "name": "python",
   "nbconvert_exporter": "python",
   "pygments_lexer": "ipython3",
   "version": "3.13.3"
  }
 },
 "nbformat": 4,
 "nbformat_minor": 5
}
