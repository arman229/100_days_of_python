{
 "cells": [
  {
   "cell_type": "markdown",
   "id": "79728c88",
   "metadata": {},
   "source": [
    "## Continue Statement\n",
    "The continue statement skips the rest of the loop statements and causes the next iteration to occur.\n",
    "## example\n",
    "```python\n",
    "for i in [2,3,4,6,8,0]:\n",
    "    if (i%2!=0):\n",
    "        continue\n",
    "    print(i)\n",
    "  ```\n",
    "  ## output\n",
    "  ```\n",
    "2\n",
    "4\n",
    "6\n",
    "8\n",
    "0\n",
    "\n",
    "``` "
   ]
  },
  {
   "cell_type": "code",
   "execution_count": 1,
   "id": "efc32a75",
   "metadata": {},
   "outputs": [
    {
     "name": "stdout",
     "output_type": "stream",
     "text": [
      "before the continue:0\n",
      "0\n",
      "after the continue\n",
      "before the continue:1\n",
      "1\n",
      "after the continue\n",
      "before the continue:2\n",
      "2\n",
      "after the continue\n",
      "before the continue:3\n",
      "3\n",
      "after the continue\n",
      "before the continue:4\n",
      "4\n",
      "after the continue\n",
      "before the continue:5\n",
      "before the continue:6\n",
      "6\n",
      "after the continue\n",
      "before the continue:7\n",
      "7\n",
      "after the continue\n",
      "before the continue:8\n",
      "8\n",
      "after the continue\n",
      "before the continue:9\n",
      "9\n",
      "after the continue\n"
     ]
    }
   ],
   "source": [
    "for i in range(10):\n",
    "    print(f\"before the continue:{i}\")\n",
    "    if i == 5:\n",
    "        continue\n",
    "    print(i)\n",
    "    print(\"after the continue\")"
   ]
  },
  {
   "cell_type": "markdown",
   "id": "ecd812de",
   "metadata": {},
   "source": [
    "# break statement\n",
    "The break statement enables a program to skip over a part of the code. A break statement terminates the very loop it lies within.\n",
    "## example\n",
    "\n",
    "```python '\n",
    "for i in range(1,101,1):\n",
    "    print(i ,end=\" \")\n",
    "    if(i==50):\n",
    "        break\n",
    "    else:\n",
    "        print(\"Mississippi\")\n",
    "print(\"Thank you\")\n",
    "```\n",
    "### output\n",
    "```\n",
    "1 Mississippi\n",
    "2 Mississippi\n",
    "3 Mississippi\n",
    "4 Mississippi\n",
    "5 Mississippi\n",
    ".\n",
    ".\n",
    ".\n",
    "50 Mississippi\n",
    "```"
   ]
  },
  {
   "cell_type": "code",
   "execution_count": 2,
   "id": "8c035055",
   "metadata": {},
   "outputs": [
    {
     "name": "stdout",
     "output_type": "stream",
     "text": [
      "before the break:0\n",
      "0\n",
      "after the break\n",
      "before the break:1\n",
      "1\n",
      "after the break\n",
      "before the break:2\n",
      "2\n",
      "after the break\n",
      "before the break:3\n",
      "3\n",
      "after the break\n",
      "before the break:4\n",
      "4\n",
      "after the break\n",
      "before the break:5\n"
     ]
    }
   ],
   "source": [
    "for i in range(10):\n",
    "    print(f\"before the break:{i}\")\n",
    "    if i == 5:\n",
    "        break\n",
    "    print(i)\n",
    "    print(\"after the break\")"
   ]
  }
 ],
 "metadata": {
  "kernelspec": {
   "display_name": "Python 3",
   "language": "python",
   "name": "python3"
  },
  "language_info": {
   "codemirror_mode": {
    "name": "ipython",
    "version": 3
   },
   "file_extension": ".py",
   "mimetype": "text/x-python",
   "name": "python",
   "nbconvert_exporter": "python",
   "pygments_lexer": "ipython3",
   "version": "3.13.3"
  }
 },
 "nbformat": 4,
 "nbformat_minor": 5
}
