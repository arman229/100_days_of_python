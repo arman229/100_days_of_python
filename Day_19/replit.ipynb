{
 "cells": [
  {
   "cell_type": "code",
   "execution_count": 10,
   "id": "d4a65fe7",
   "metadata": {},
   "outputs": [
    {
     "name": "stdout",
     "output_type": "stream",
     "text": [
      "\u001b[33m Loan calculator \u001b[0m\n",
      "year -1 is 1050.0 \n",
      "year -2 is 1102.5 \n",
      "year -3 is 1157.62 \n",
      "year -4 is 1215.51 \n",
      "year -5 is 1276.28 \n",
      "year -6 is 1340.1 \n",
      "year -7 is 1407.1 \n",
      "year -8 is 1477.46 \n",
      "year -9 is 1551.33 \n",
      "year -10 is 1628.89 \n",
      "You paid 628.89 interest in total\n"
     ]
    }
   ],
   "source": [
    "print(\"\\033[33m Loan calculator \\033[0m\")\n",
    "total_amount = 1000\n",
    "\n",
    "for i in range(1,11):\n",
    "    find_interest = total_amount*5/100\n",
    "    total_amount += find_interest\n",
    "    print(f\"year -{i} is {round(total_amount,2)} \")\n",
    "print(f\"You paid {total_amount - 1000:.2f} interest in total\")    \n",
    "      "
   ]
  }
 ],
 "metadata": {
  "kernelspec": {
   "display_name": "Python 3",
   "language": "python",
   "name": "python3"
  },
  "language_info": {
   "codemirror_mode": {
    "name": "ipython",
    "version": 3
   },
   "file_extension": ".py",
   "mimetype": "text/x-python",
   "name": "python",
   "nbconvert_exporter": "python",
   "pygments_lexer": "ipython3",
   "version": "3.13.3"
  }
 },
 "nbformat": 4,
 "nbformat_minor": 5
}
