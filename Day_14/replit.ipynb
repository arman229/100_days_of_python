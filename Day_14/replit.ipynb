{
 "cells": [
  {
   "cell_type": "code",
   "execution_count": 2,
   "id": "8f1a2f3f",
   "metadata": {},
   "outputs": [
    {
     "name": "stdout",
     "output_type": "stream",
     "text": [
      "E P I C    🪨  📄 ✂️    B A T T L E\n",
      " \n",
      "Select your move (R, P or S)\n",
      "\n",
      "Invalid Move Player 1!\n"
     ]
    }
   ],
   "source": [
    "from getpass import getpass as input\n",
    "print(\"E P I C    🪨  📄 ✂️    B A T T L E\\n \")\n",
    "print(\"Select your move (R, P or S)\\n\") \n",
    "player1Move = input(\"Player 1 > \\n\") \n",
    "player2Move = input(\"Player 2 > \\n\") \n",
    "\n",
    "if player1Move==\"R\":\n",
    "  if player2Move==\"R\":\n",
    "    print(\"You both picked Rock, draw!\")\n",
    "  elif player2Move==\"S\":\n",
    "    print(\"Player1 smashed Player2's Scissors into dust with their Rock!\")\n",
    "  elif player2Move==\"P\":\n",
    "    print(\"Player1's Rock is smothered by Player2's Paper!\")\n",
    "  else:\n",
    "    print(\"Invalid Move Player 2!\")\n",
    "elif player1Move==\"P\":\n",
    "  if player2Move==\"R\":\n",
    "    print(\"Player2's Rock is smothered by Player1's Paper!\")\n",
    "  elif player2Move==\"S\":\n",
    "    print(\"Player1's Paper is cut into tiny pieces by Player2's Scissors!\")\n",
    "  elif player2Move==\"P\":\n",
    "    print(\"Two bits of paper flap at each other. Dissapointing. Draw.\")\n",
    "  else:\n",
    "    print(\"Invalid Move Player 2!\")\n",
    "elif player1Move==\"S\":\n",
    "  if player2Move==\"R\":\n",
    "    print(\"Player 2's Rock makes metal-dust out of Player1's Scissors\")\n",
    "  elif player2Move==\"S\":\n",
    "    print(\"Ka-Shing! Scissors bounce off each other like a dodgy sword fight! Draw.\")\n",
    "  elif player2Move==\"P\":\n",
    "    print(\"Player1's Scissors make confetti out of Player2's paper!\")\n",
    "  else:\n",
    "    print(\"Invalid Move Player 2!\")\n",
    "else:\n",
    "  print(\"Invalid Move Player 1!\")"
   ]
  }
 ],
 "metadata": {
  "kernelspec": {
   "display_name": "Python 3",
   "language": "python",
   "name": "python3"
  },
  "language_info": {
   "codemirror_mode": {
    "name": "ipython",
    "version": 3
   },
   "file_extension": ".py",
   "mimetype": "text/x-python",
   "name": "python",
   "nbconvert_exporter": "python",
   "pygments_lexer": "ipython3",
   "version": "3.13.3"
  }
 },
 "nbformat": 4,
 "nbformat_minor": 5
}
