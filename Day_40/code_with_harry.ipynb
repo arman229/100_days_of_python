{
 "cells": [
  {
   "cell_type": "code",
   "execution_count": 52,
   "id": "1a4a39b6",
   "metadata": {},
   "outputs": [
    {
     "name": "stdout",
     "output_type": "stream",
     "text": [
      "arman\n"
     ]
    }
   ],
   "source": [
    "import random\n",
    "import string\n",
    "\n",
    "def secret_code():\n",
    "    user_msg= input('Enter a message').strip()\n",
    "    user_pref = input('What do you want encode or decode').strip().lower()\n",
    "    if user_msg and user_pref:\n",
    "        if user_pref == 'encode':\n",
    "            if len(user_msg) >=3:\n",
    "                end_char =  user_msg[3:]   +user_msg[:3]\n",
    "                random_3_char = ''.join(random.choices(string.ascii_letters,k=3))\n",
    "                apppend_3_char = random_3_char + end_char + random_3_char\n",
    "                return apppend_3_char\n",
    "            else:\n",
    "                reverse_msg = user_msg[::-1]\n",
    "                return reverse_msg\n",
    "            \n",
    "        elif user_pref == 'decode':\n",
    "            if len(user_msg) >=9:\n",
    "                remove_first_last_item = user_msg[3:-3]\n",
    "                start_char = remove_first_last_item[-3:] + remove_first_last_item[:-3]\n",
    "                return start_char\n",
    "                \n",
    "                \n",
    "            else:\n",
    "                reverse_msg = user_msg[::-1]\n",
    "                return reverse_msg    \n",
    "        else:\n",
    "            print('You are choosing the wrong prefrence')    \n",
    "    else:\n",
    "        print('Please provide msg and your prefrence')    \n",
    "    \n",
    "    \n",
    "print(secret_code()    )"
   ]
  },
  {
   "cell_type": "code",
   "execution_count": 48,
   "id": "5d803978",
   "metadata": {},
   "outputs": [
    {
     "name": "stdout",
     "output_type": "stream",
     "text": [
      "anarm\n",
      "arm\n",
      "an\n"
     ]
    }
   ],
   "source": [
    "\n",
    "remove_first_last_item = 'anarm'\n",
    "print(remove_first_last_item)\n",
    "print(remove_first_last_item[-3:])\n",
    "print(remove_first_last_item[:-3])"
   ]
  },
  {
   "cell_type": "code",
   "execution_count": 3,
   "id": "c707b9d6",
   "metadata": {},
   "outputs": [
    {
     "name": "stdout",
     "output_type": "stream",
     "text": [
      "[1, 2, 3, 4, 5, 6]\n",
      "[4, 5, 6]\n"
     ]
    }
   ],
   "source": [
    "mylist =  [1,2,3,4,5,6]\n",
    "new_list = mylist[3:]\n",
    "print(mylist)\n",
    "print(new_list)"
   ]
  },
  {
   "cell_type": "code",
   "execution_count": 6,
   "id": "a12596be",
   "metadata": {},
   "outputs": [
    {
     "name": "stdout",
     "output_type": "stream",
     "text": [
      "armanashraf\n"
     ]
    }
   ],
   "source": [
    "first = \"arman\"\n",
    "last = \"ashraf\"\n",
    "\n",
    "full = first + last\n",
    "print(full)  # Output: armanashraf\n"
   ]
  },
  {
   "cell_type": "code",
   "execution_count": 18,
   "id": "fe0d1e94",
   "metadata": {},
   "outputs": [
    {
     "name": "stdout",
     "output_type": "stream",
     "text": [
      "wxX\n"
     ]
    }
   ],
   "source": [
    "import random\n",
    "import string \n",
    "\n",
    "random_chars = ''.join(random.choices(string.ascii_letters,k=3))\n",
    "print(random_chars)\n"
   ]
  },
  {
   "cell_type": "code",
   "execution_count": null,
   "id": "4a214cc4",
   "metadata": {},
   "outputs": [],
   "source": []
  },
  {
   "cell_type": "code",
   "execution_count": null,
   "id": "62ddfad6",
   "metadata": {},
   "outputs": [],
   "source": []
  }
 ],
 "metadata": {
  "kernelspec": {
   "display_name": "Python 3",
   "language": "python",
   "name": "python3"
  },
  "language_info": {
   "codemirror_mode": {
    "name": "ipython",
    "version": 3
   },
   "file_extension": ".py",
   "mimetype": "text/x-python",
   "name": "python",
   "nbconvert_exporter": "python",
   "pygments_lexer": "ipython3",
   "version": "3.13.3"
  }
 },
 "nbformat": 4,
 "nbformat_minor": 5
}
