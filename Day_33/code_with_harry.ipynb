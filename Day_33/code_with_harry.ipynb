{
 "cells": [
  {
   "cell_type": "code",
   "execution_count": null,
   "id": "b84af9a3",
   "metadata": {},
   "outputs": [],
   "source": [
    "# Dict \n",
    "# Dictionary is a collection which is ordered , changaeble and don't allow duplicate key \n"
   ]
  },
  {
   "cell_type": "code",
   "execution_count": null,
   "id": "e701c9f4",
   "metadata": {},
   "outputs": [
    {
     "name": "stdout",
     "output_type": "stream",
     "text": [
      "dict_keys(['name', 'age'])\n",
      "dict_values(['arman', 24])\n",
      "dict_items([('name', 'arman'), ('age', 24)])\n",
      "24\n",
      "\n"
     ]
    }
   ],
   "source": [
    "arman_dict = {\"name\":\"arman\",\"age\":24}\n",
    "arman_keys = arman_dict.keys() # it return all the keys in a dict\n",
    "print(arman_keys)\n",
    "arman_values = arman_dict.values() # it return all the values in a dict\n",
    "print(arman_values)\n",
    "arman_items = arman_dict.items() # it return all the key value pairs\n",
    "print(arman_items)\n",
    "single_value = arman_dict['age']\n",
    "print(single_value)\n",
    "new_single_value = arman_dict.get('ages','') # if there is no key matches it will return the default value that we pass in single arguments\n",
    "print(new_single_value)"
   ]
  },
  {
   "cell_type": "code",
   "execution_count": null,
   "id": "16f35ddf",
   "metadata": {},
   "outputs": [],
   "source": []
  }
 ],
 "metadata": {
  "kernelspec": {
   "display_name": "Python 3",
   "language": "python",
   "name": "python3"
  },
  "language_info": {
   "codemirror_mode": {
    "name": "ipython",
    "version": 3
   },
   "file_extension": ".py",
   "mimetype": "text/x-python",
   "name": "python",
   "nbconvert_exporter": "python",
   "pygments_lexer": "ipython3",
   "version": "3.13.3"
  }
 },
 "nbformat": 4,
 "nbformat_minor": 5
}
