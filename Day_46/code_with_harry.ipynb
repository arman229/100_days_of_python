{
 "cells": [
  {
   "cell_type": "code",
   "execution_count": null,
   "id": "11c5f0a5",
   "metadata": {},
   "outputs": [],
   "source": [
    "# os\n",
    "# os is a built in module that are used to interact with operating system level task like creating a file, reading ......."
   ]
  },
  {
   "cell_type": "code",
   "execution_count": null,
   "id": "05f1cf55",
   "metadata": {},
   "outputs": [],
   "source": [
    "import os\n",
    "with open('file.txt','w') as f:\n",
    "    f.write(\"this is text\")\n",
    "    "
   ]
  },
  {
   "cell_type": "code",
   "execution_count": 2,
   "id": "03c73e80",
   "metadata": {},
   "outputs": [
    {
     "name": "stdout",
     "output_type": "stream",
     "text": [
      "['code_with_harry.ipynb', 'file.txt', 'replit.ipynb']\n"
     ]
    }
   ],
   "source": [
    "print(os.listdir('.'))"
   ]
  },
  {
   "cell_type": "markdown",
   "id": "908a7fae",
   "metadata": {},
   "source": [
    "# Difference between makedirs and mkdir\n",
    "makedirs are used when we have parant directory that dosn't exit and we want to create nested directory we simple make by using the makedirs\n",
    "mkdir is used when we simple wants to create a directory"
   ]
  },
  {
   "cell_type": "code",
   "execution_count": 13,
   "id": "903df53c",
   "metadata": {},
   "outputs": [],
   "source": [
    "os.makedirs('newfolders/arman')"
   ]
  },
  {
   "cell_type": "code",
   "execution_count": 12,
   "id": "ae224d0e",
   "metadata": {},
   "outputs": [
    {
     "ename": "FileNotFoundError",
     "evalue": "[WinError 3] The system cannot find the path specified: 'newdirs/arman'",
     "output_type": "error",
     "traceback": [
      "\u001b[31m---------------------------------------------------------------------------\u001b[39m",
      "\u001b[31mFileNotFoundError\u001b[39m                         Traceback (most recent call last)",
      "\u001b[36mCell\u001b[39m\u001b[36m \u001b[39m\u001b[32mIn[12]\u001b[39m\u001b[32m, line 2\u001b[39m\n\u001b[32m      1\u001b[39m \u001b[38;5;28;01mimport\u001b[39;00m\u001b[38;5;250m \u001b[39m\u001b[34;01mos\u001b[39;00m \n\u001b[32m----> \u001b[39m\u001b[32m2\u001b[39m \u001b[43mos\u001b[49m\u001b[43m.\u001b[49m\u001b[43mmkdir\u001b[49m\u001b[43m(\u001b[49m\u001b[33;43m\"\u001b[39;49m\u001b[33;43mnewdirs/arman\u001b[39;49m\u001b[33;43m\"\u001b[39;49m\u001b[43m)\u001b[49m\n",
      "\u001b[31mFileNotFoundError\u001b[39m: [WinError 3] The system cannot find the path specified: 'newdirs/arman'"
     ]
    }
   ],
   "source": [
    "import os \n",
    "os.mkdir(\"newdirs/arman\")"
   ]
  },
  {
   "cell_type": "code",
   "execution_count": 24,
   "id": "2b7796ca",
   "metadata": {},
   "outputs": [
    {
     "name": "stdout",
     "output_type": "stream",
     "text": [
      " Volume in drive E is Software programming\n",
      " Volume Serial Number is CC38-8CBB\n",
      "\n",
      " Directory of e:\\code\\Learn_python\\Day_46\n",
      "\n",
      "14/06/2025  06:32 am    <DIR>          .\n",
      "14/06/2025  06:45 am    <DIR>          ..\n",
      "13/06/2025  12:21 pm    <DIR>          arman\n",
      "14/06/2025  06:46 am             3,830 code_with_harry.ipynb\n",
      "13/06/2025  12:10 pm                12 file.txt\n",
      "14/06/2025  06:32 am    <DIR>          newdir\n",
      "14/06/2025  06:31 am    <DIR>          newfolder\n",
      "14/06/2025  06:32 am    <DIR>          newfolders\n",
      "09/06/2025  04:32 pm                 0 replit.ipynb\n",
      "               3 File(s)          3,842 bytes\n",
      "               6 Dir(s)  97,697,017,856 bytes free\n",
      "\n"
     ]
    }
   ],
   "source": [
    "import subprocess\n",
    "output = subprocess.check_output(\"dir\", shell=True, text=True)\n",
    "print(output)\n"
   ]
  },
  {
   "cell_type": "code",
   "execution_count": 17,
   "id": "749ce7af",
   "metadata": {},
   "outputs": [
    {
     "name": "stdout",
     "output_type": "stream",
     "text": [
      "e:\\code\\Learn_python\\Day_46\n"
     ]
    }
   ],
   "source": [
    "import os \n",
    "print(os.getcwd())"
   ]
  },
  {
   "cell_type": "code",
   "execution_count": 26,
   "id": "06ef1010",
   "metadata": {},
   "outputs": [
    {
     "name": "stdout",
     "output_type": "stream",
     "text": [
      "None\n"
     ]
    }
   ],
   "source": [
    "import os\n",
    "rename_folder = os.rename('arman','./armanashraf')\n",
    "print(rename_folder)"
   ]
  },
  {
   "cell_type": "code",
   "execution_count": 5,
   "id": "9e2018b2",
   "metadata": {},
   "outputs": [
    {
     "name": "stdout",
     "output_type": "stream",
     "text": [
      "['arman', 'arman2']\n"
     ]
    }
   ],
   "source": [
    "import os\n",
    "folders=os.listdir(f'newfolder')\n",
    "print(folders)\n",
    " "
   ]
  },
  {
   "cell_type": "code",
   "execution_count": null,
   "id": "ad51aae7",
   "metadata": {},
   "outputs": [
    {
     "name": "stdout",
     "output_type": "stream",
     "text": [
      "e:\\code\\Learn_python\\Day_46\\armanashraf\n"
     ]
    }
   ],
   "source": [
    "import os\n",
    "if not os.path.exists('armanashraf'):\n",
    "\tos.makedirs('armanashraf')\n",
    "os.chdir('armanashraf')\n",
    "print(os.getcwd())"
   ]
  },
  {
   "cell_type": "code",
   "execution_count": null,
   "id": "6e47eb7c",
   "metadata": {},
   "outputs": [],
   "source": []
  }
 ],
 "metadata": {
  "kernelspec": {
   "display_name": "Python 3",
   "language": "python",
   "name": "python3"
  },
  "language_info": {
   "codemirror_mode": {
    "name": "ipython",
    "version": 3
   },
   "file_extension": ".py",
   "mimetype": "text/x-python",
   "name": "python",
   "nbconvert_exporter": "python",
   "pygments_lexer": "ipython3",
   "version": "3.13.3"
  }
 },
 "nbformat": 4,
 "nbformat_minor": 5
}
