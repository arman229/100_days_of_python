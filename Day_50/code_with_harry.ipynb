{
 "cells": [
  {
   "cell_type": "code",
   "execution_count": 2,
   "id": "7545c69a",
   "metadata": {},
   "outputs": [],
   "source": [
    "with open('file.txt','+w') as f:\n",
    "    f.write(\"Hi i am arman\")"
   ]
  },
  {
   "cell_type": "code",
   "execution_count": 5,
   "id": "5f500c9a",
   "metadata": {},
   "outputs": [],
   "source": [
    "with open('file.txt','a') as f:\n",
    "    f.write(\"\\nI am in second line\")"
   ]
  },
  {
   "cell_type": "code",
   "execution_count": 13,
   "id": "3c8ed158",
   "metadata": {},
   "outputs": [
    {
     "name": "stdout",
     "output_type": "stream",
     "text": [
      "Hi i am arman\n",
      "I am in second line\n"
     ]
    }
   ],
   "source": [
    "with open('file.txt','r') as f:\n",
    "    while True:\n",
    "        line_by_line = f.readline()\n",
    "        if not line_by_line:\n",
    "            break\n",
    "        print(line_by_line.strip())"
   ]
  },
  {
   "cell_type": "code",
   "execution_count": 14,
   "id": "566a8014",
   "metadata": {},
   "outputs": [],
   "source": [
    "list_of_names = ['arman\\n','ali\\n','asad\\n']\n",
    "with open('file.txt','w') as f:\n",
    "    f.writelines(list_of_names)"
   ]
  },
  {
   "cell_type": "code",
   "execution_count": null,
   "id": "4af3ffca",
   "metadata": {},
   "outputs": [],
   "source": []
  }
 ],
 "metadata": {
  "kernelspec": {
   "display_name": "Python 3",
   "language": "python",
   "name": "python3"
  },
  "language_info": {
   "codemirror_mode": {
    "name": "ipython",
    "version": 3
   },
   "file_extension": ".py",
   "mimetype": "text/x-python",
   "name": "python",
   "nbconvert_exporter": "python",
   "pygments_lexer": "ipython3",
   "version": "3.13.5"
  }
 },
 "nbformat": 4,
 "nbformat_minor": 5
}
