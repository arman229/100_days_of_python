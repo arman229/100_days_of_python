{
 "cells": [
  {
   "cell_type": "markdown",
   "id": "dd3cc50e",
   "metadata": {},
   "source": [
    "# Introduction to Loops\n",
    "Sometimes a programmer wants to execute a group of statements a certain number of times. This can be done using loops. Based on this loops are further classified into following main types; \n",
    "- for loop\n",
    "- while loop \n",
    "# The for Loop\n",
    "for loops can iterate over a sequence of iterable objects in python. Iterating over a sequence is nothing but iterating over strings, lists, tuples, sets and dictionaries.\n",
    "\n",
    "## Example: iterating over a string:\n",
    "\n",
    "```python \n",
    "name = 'arman ashraf'\n",
    "for i in name:\n",
    "    print(i, end=\", \")\n",
    "```\n",
    "## Output:\n",
    "a, r, m, a, n,  , a, s, h, r, a, f, \n",
    "\n",
    "## Example: iterating over a list:\n",
    "\n",
    "``` python \n",
    "colors = [\"Red\", \"Green\", \"Blue\", \"Yellow\"]\n",
    "for x in colors:\n",
    "    print(x)\n",
    "```\n",
    "## Output:\n",
    "\n",
    "Red\\n\n",
    "Green\\n\n",
    "Blue\\n\n",
    "Yellow\\n\n",
    "\n",
    "Similarly, we can use loops for lists, sets and dictionaries.\n",
    "## range():\n",
    "What if we do not want to iterate over a sequence? What if we want to use for loop for a specific number of times?\n",
    "\n",
    "Here, we can use the range() function.\n",
    "\n",
    "## Example:\n",
    "```python\n",
    "for k in range(5):\n",
    "    print(k)\n",
    "```\n",
    "## Output:\n",
    "\n",
    "0\\n\n",
    "1\\n\n",
    "2\\n\n",
    "3\\n\n",
    "4\\n\n",
    "Here, we can see that the loop starts from 0 by default and increments at each iteration.\n",
    "\n",
    " \n",
    "\n",
    "But we can also loop over a specific range.\n",
    "\n",
    "## Example:\n",
    "```python\n",
    "for k in range(4,9):\n",
    "    print(k)\n",
    "```\n",
    "## Output:\n",
    "\n",
    "4\\n\n",
    "5\\n\n",
    "6\\n\n",
    "7\\n\n",
    "8\\n\n",
    " "
   ]
  },
  {
   "cell_type": "code",
   "execution_count": 4,
   "id": "0966a850",
   "metadata": {},
   "outputs": [
    {
     "name": "stdout",
     "output_type": "stream",
     "text": [
      "'Red'\n",
      "'Green'\n",
      "'Blue'\n",
      "'Yellow'\n"
     ]
    }
   ],
   "source": [
    "colors = [\"Red\", \"Green\", \"Blue\", \"Yellow\"]\n",
    "for x in colors:\n",
    "    print(f'{x!r}')"
   ]
  },
  {
   "cell_type": "code",
   "execution_count": null,
   "id": "3ac74920",
   "metadata": {},
   "outputs": [],
   "source": []
  }
 ],
 "metadata": {
  "kernelspec": {
   "display_name": "Python 3",
   "language": "python",
   "name": "python3"
  },
  "language_info": {
   "codemirror_mode": {
    "name": "ipython",
    "version": 3
   },
   "file_extension": ".py",
   "mimetype": "text/x-python",
   "name": "python",
   "nbconvert_exporter": "python",
   "pygments_lexer": "ipython3",
   "version": "3.13.3"
  }
 },
 "nbformat": 4,
 "nbformat_minor": 5
}
