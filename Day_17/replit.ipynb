{
 "cells": [
  {
   "cell_type": "code",
   "execution_count": 2,
   "id": "ef29de38",
   "metadata": {},
   "outputs": [
    {
     "name": "stdout",
     "output_type": "stream",
     "text": [
      "You are in a corridor, do you go left or right?\n",
      "Ahh! You're a genius, you've won\n",
      "You are in a corridor, do you go left or right?\n",
      "You have fallen to your death\n"
     ]
    }
   ],
   "source": [
    "while True:\n",
    "  print(\"You are in a corridor, do you go left or right?\")\n",
    "  direction = input(\"> \")\n",
    "  if direction == \"left\":\n",
    "    print(\"You have fallen to your death\")\n",
    "    break\n",
    "  elif direction == \"right\":\n",
    "    continue\n",
    "  else:\n",
    "    print(\"Ahh! You're a genius, you've won\")"
   ]
  },
  {
   "cell_type": "code",
   "execution_count": 3,
   "id": "29469319",
   "metadata": {},
   "outputs": [
    {
     "name": "stdout",
     "output_type": "stream",
     "text": [
      "You are in a corridor, do you go left or right?\n",
      "Ahh! You're a genius, you've won\n"
     ]
    },
    {
     "ename": "SystemExit",
     "evalue": "",
     "output_type": "error",
     "traceback": [
      "An exception has occurred, use %tb to see the full traceback.\n",
      "\u001b[31mSystemExit\u001b[39m\n"
     ]
    },
    {
     "name": "stderr",
     "output_type": "stream",
     "text": [
      "C:\\Users\\arman\\AppData\\Roaming\\Python\\Python313\\site-packages\\IPython\\core\\interactiveshell.py:3678: UserWarning: To exit: use 'exit', 'quit', or Ctrl-D.\n",
      "  warn(\"To exit: use 'exit', 'quit', or Ctrl-D.\", stacklevel=1)\n"
     ]
    }
   ],
   "source": [
    "import sys\n",
    "    \n",
    "while True:\n",
    "  print(\"You are in a corridor, do you go left or right?\")\n",
    "  direction = input(\"> \")\n",
    "  if direction == \"left\":\n",
    "    print(\"You have fallen to your death\")\n",
    "    break\n",
    "  elif direction == \"right\":\n",
    "    continue\n",
    "  else:\n",
    "    print(\"Ahh! You're a genius, you've won\")\n",
    "    sys.exit()\n",
    "\n",
    "print(\"The game is over, you have lost\")    "
   ]
  },
  {
   "cell_type": "code",
   "execution_count": 1,
   "id": "18d46bbc",
   "metadata": {},
   "outputs": [
    {
     "name": "stdout",
     "output_type": "stream",
     "text": [
      "E P I C    🪨  📄 ✂️    B A T T L E\n",
      " \n",
      "Select your move (R, P or S)\n",
      "\n",
      "You both picked Rock, draw!\n",
      "Player 1 score: 0\n",
      "Player 2 score: 0\n",
      "Player1's Rock is smothered by Player2's Paper!\n",
      "Player 1 score: 0\n",
      "Player 2 score: 1\n",
      "Player1's Rock is smothered by Player2's Paper!\n",
      "Player 1 score: 0\n",
      "Player 2 score: 2\n",
      "Player1's Rock is smothered by Player2's Paper!\n",
      "Player 1 score: 0\n",
      "Player 2 score: 3\n",
      "Player 2 wins!\n"
     ]
    }
   ],
   "source": [
    "from getpass import getpass as input\n",
    "print(\"E P I C    🪨  📄 ✂️    B A T T L E\\n \")\n",
    "print(\"Select your move (R, P or S)\\n\")\n",
    "\n",
    "player1score = 0\n",
    "player2score = 0\n",
    "\n",
    "while True: \n",
    "    player1Move = input(\"Player 1 > \\n\") \n",
    "    player2Move = input(\"Player 2 > \\n\") \n",
    "\n",
    "    if player1Move==\"R\":\n",
    "        if player2Move==\"R\":\n",
    "            print(\"You both picked Rock, draw!\")\n",
    "        elif player2Move==\"S\":\n",
    "            print(\"Player1 smashed Player2's Scissors into dust with their Rock!\")\n",
    "            player1score += 1\n",
    "        elif player2Move==\"P\":\n",
    "            print(\"Player1's Rock is smothered by Player2's Paper!\")\n",
    "            player2score += 1\n",
    "        else:\n",
    "            print(\"Invalid Move Player 2!\")\n",
    "    elif player1Move==\"P\":\n",
    "        if player2Move==\"R\":\n",
    "            print(\"Player2's Rock is smothered by Player1's Paper!\")\n",
    "            player1score += 1\n",
    "        elif player2Move==\"S\":\n",
    "            print(\"Player1's Paper is cut into tiny pieces by Player2's Scissors!\")\n",
    "            player2score += 1\n",
    "        elif player2Move==\"P\":\n",
    "            print(\"Two bits of paper flap at each other. Dissapointing. Draw.\")\n",
    "        else:\n",
    "            print(\"Invalid Move Player 2!\")\n",
    "    elif player1Move==\"S\":\n",
    "        if player2Move==\"R\":\n",
    "            print(\"Player 2's Rock makes metal-dust out of Player1's Scissors\")\n",
    "            player2score += 1\n",
    "        elif player2Move==\"S\":\n",
    "            print(\"Ka-Shing! Scissors bounce off each other like a dodgy sword fight! Draw.\")\n",
    "            \n",
    "        elif player2Move==\"P\":\n",
    "            print(\"Player1's Scissors make confetti out of Player2's paper!\")\n",
    "            player1score += 1\n",
    "        else:\n",
    "            print(\"Invalid Move Player 2!\")\n",
    "    else:\n",
    "        print(\"Invalid Move Player 1!\")\n",
    "        \n",
    "        \n",
    "    print(\"Player 1 score: \" + str(player1score))\n",
    "    print(\"Player 2 score: \" + str(player2score))\n",
    "    if player1score == 3 and player2score == 3:\n",
    "        print(\"Game Over! It's a draw!\")\n",
    "        break\n",
    "    elif player1score == 3:\n",
    "        print(\"Player 1 wins!\")\n",
    "        break\n",
    "    elif player2score == 3:\n",
    "        print(\"Player 2 wins!\")\n",
    "        break\n",
    "    else:\n",
    "        continue   "
   ]
  }
 ],
 "metadata": {
  "kernelspec": {
   "display_name": "Python 3",
   "language": "python",
   "name": "python3"
  },
  "language_info": {
   "codemirror_mode": {
    "name": "ipython",
    "version": 3
   },
   "file_extension": ".py",
   "mimetype": "text/x-python",
   "name": "python",
   "nbconvert_exporter": "python",
   "pygments_lexer": "ipython3",
   "version": "3.13.3"
  }
 },
 "nbformat": 4,
 "nbformat_minor": 5
}
