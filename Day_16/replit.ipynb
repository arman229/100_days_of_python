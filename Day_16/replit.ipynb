{
 "cells": [
  {
   "cell_type": "code",
   "execution_count": 5,
   "id": "d4ab77f5",
   "metadata": {},
   "outputs": [
    {
     "name": "stdout",
     "output_type": "stream",
     "text": [
      "\u001b[35mFill in the blank lyrics!\u001b[0m\n",
      "(Type in the blank lyrics and see if you are as cool as me.)\n",
      "\n",
      "Never going to ______ you up\n",
      "yes\n",
      "Nope, try again.\n",
      "\n",
      "Never going to ______ you up\n",
      "yes\n",
      "Nope, try again.\n",
      "\n",
      "Never going to ______ you up\n",
      "give\n",
      "\n",
      "Well done! It only took you 3 attempts.\n"
     ]
    }
   ],
   "source": [
    "print(\"\\033[35mFill in the blank lyrics!\\033[0m\") \n",
    "print(\"(Type in the blank lyrics and see if you are as cool as me.)\\n\")\n",
    "attempts = 0\n",
    "while True:\n",
    "    question = \"Never going to ______ you up\"\n",
    "    answer = input(question).strip().lower()\n",
    "    print(question)\n",
    "    print(answer)\n",
    "    attempts += 1\n",
    "    if answer == \"give\":\n",
    "        break\n",
    "    else:\n",
    "        print(\"Nope, try again.\\n\") \n",
    "print(f\"\\nWell done! It only took you {attempts} attempts.\")        "
   ]
  }
 ],
 "metadata": {
  "kernelspec": {
   "display_name": "Python 3",
   "language": "python",
   "name": "python3"
  },
  "language_info": {
   "codemirror_mode": {
    "name": "ipython",
    "version": 3
   },
   "file_extension": ".py",
   "mimetype": "text/x-python",
   "name": "python",
   "nbconvert_exporter": "python",
   "pygments_lexer": "ipython3",
   "version": "3.13.3"
  }
 },
 "nbformat": 4,
 "nbformat_minor": 5
}
