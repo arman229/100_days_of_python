{
 "cells": [
  {
   "cell_type": "markdown",
   "id": "b14f6397",
   "metadata": {},
   "source": [
    "# Snake Water Game"
   ]
  },
  {
   "cell_type": "code",
   "execution_count": 13,
   "id": "4f42d502",
   "metadata": {},
   "outputs": [
    {
     "name": "stdout",
     "output_type": "stream",
     "text": [
      "user choise1,computer choice: 2\n",
      "you win\n"
     ]
    }
   ],
   "source": [
    "import random\n",
    "\n",
    "user_input= int(input('please select 0 for Snake 1 for water 2 for gun').strip())\n",
    "computer_choice = random.choice([1,2,3])\n",
    "print(f\"user choise{user_input},computer choice: {computer_choice}\")\n",
    "if user_input in [0,1,2]:\n",
    "    if user_input == computer_choice:\n",
    "        print(f\"Draw game\")\n",
    "\n",
    "    elif (user_input==0 and computer_choice==1) or\\\n",
    "        (user_input==1 and computer_choice==2) or\\\n",
    "        (user_input==2 and computer_choice==0):\n",
    "        print('you win')\n",
    "    else:\n",
    "        print(f'You lose')\n",
    "    \n",
    "else:\n",
    "    print('You choose the wrong option')\n"
   ]
  },
  {
   "cell_type": "code",
   "execution_count": 9,
   "id": "467d0bb8",
   "metadata": {},
   "outputs": [
    {
     "name": "stdout",
     "output_type": "stream",
     "text": [
      "1 <class 'int'>\n"
     ]
    }
   ],
   "source": [
    "import random\n",
    "computer_choice = random.choice([1,2,3])\n",
    "print(computer_choice,type(computer_choice))"
   ]
  },
  {
   "cell_type": "code",
   "execution_count": null,
   "id": "13a7753d",
   "metadata": {},
   "outputs": [],
   "source": []
  },
  {
   "cell_type": "code",
   "execution_count": null,
   "id": "3d1fd35f",
   "metadata": {},
   "outputs": [],
   "source": []
  }
 ],
 "metadata": {
  "kernelspec": {
   "display_name": "Python 3",
   "language": "python",
   "name": "python3"
  },
  "language_info": {
   "codemirror_mode": {
    "name": "ipython",
    "version": 3
   },
   "file_extension": ".py",
   "mimetype": "text/x-python",
   "name": "python",
   "nbconvert_exporter": "python",
   "pygments_lexer": "ipython3",
   "version": "3.13.5"
  }
 },
 "nbformat": 4,
 "nbformat_minor": 5
}
