{
 "cells": [
  {
   "cell_type": "code",
   "execution_count": null,
   "id": "ed67df47",
   "metadata": {},
   "outputs": [],
   "source": [
    "print (\"Are you a superfan of 'The Big Bang Theory' or a fake fan?\\n\")\n",
    "print(\"Answer these questions to find out.\\n\")\n",
    "Glasses = input(\"Does someone wear glasses? \")\n",
    "if Glasses == \"yes\":\n",
    "  print(\"Correct!\")\n",
    "else:\n",
    "  print(\"Wrong!\")\n",
    "  WhoGlasses = input(\"And who wears glasses? \")\n",
    "  if WhoGlasses == \"Leonard\":\n",
    "    print(\"You got it\")\n",
    "  else:\n",
    "    print(\"Try again!\")"
   ]
  }
 ],
 "metadata": {
  "language_info": {
   "name": "python"
  }
 },
 "nbformat": 4,
 "nbformat_minor": 5
}
