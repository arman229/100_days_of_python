{
 "cells": [
  {
   "cell_type": "markdown",
   "id": "d04f68bd",
   "metadata": {},
   "source": [
    "# Operators\n",
    "Python has different types of operators for different operations. To create a calculator we require arithmetic operators.\n",
    "# Arithmetic operators\n",
    "\n",
    "\n",
    "|   Operator             |Operator Name                          |Example                         |\n",
    "|----------------|-------------------------------|-----------------------------|\n",
    "|+|`Addition`            |``` 15+7 ```            |\n",
    "|-|`Subtraction`            |``` 15-7 ```            |\n",
    "|*|`Multiplication`            |``` 5*7 ```            |\n",
    "|**|`Exponential`            |``` 5**3 ```            |\n",
    "|/|`Division`            |``` 5/3 ```            |\n",
    "|%|`Modulus`            |``` 15%7 ```            |\n",
    "|//|`Floor Division`            |``` 15//7 ```            |\n",
    "\n",
    "# Exercise\n",
    "```python\n",
    "n = 15\n",
    "m = 7\n",
    "ans1 = n+m\n",
    "print(\"Addition of\",n,\"and\",m,\"is\", ans1)\n",
    "ans2 = n-m\n",
    "print(\"Subtraction of\",n,\"and\",m,\"is\", ans2)\n",
    "ans3 = n*m\n",
    "print(\"Multiplication of\",n,\"and\",m,\"is\", ans3)\n",
    "ans4 = n/m\n",
    "print(\"Division of\",n,\"and\",m,\"is\", ans4)\n",
    "ans5 = n%m\n",
    "print(\"Modulus of\",n,\"and\",m,\"is\", ans5)\n",
    "ans6 = n//m\n",
    "print(\"Floor Division of\",n,\"and\",m,\"is\", ans6)\n",
    "```\n",
    "# Explaination\n",
    "Here 'n' and 'm' are two variables in which the integer value is being stored. Variables 'ans1' , 'ans2' ,'ans3', 'ans4','ans5' and 'ans6' contains the outputs corresponding to addition, subtraction,multiplication, division, modulus and floor division respectively."
   ]
  },
  {
   "cell_type": "code",
   "execution_count": 2,
   "id": "4c7aedeb",
   "metadata": {},
   "outputs": [
    {
     "name": "stdout",
     "output_type": "stream",
     "text": [
      "2\n",
      "-3\n",
      "2\n",
      "-3\n"
     ]
    }
   ],
   "source": [
    "print(7//3)\n",
    "print(-7//3)\n",
    "print(5//2)\n",
    "print(-5//2)"
   ]
  },
  {
   "cell_type": "code",
   "execution_count": 4,
   "id": "2e02a806",
   "metadata": {},
   "outputs": [
    {
     "name": "stdout",
     "output_type": "stream",
     "text": [
      "2\n",
      "-3\n"
     ]
    }
   ],
   "source": [
    "import math\n",
    "print(math.floor(2.5))\n",
    "print(math.floor(-2.5))"
   ]
  },
  {
   "cell_type": "code",
   "execution_count": null,
   "id": "c78f46fb",
   "metadata": {},
   "outputs": [],
   "source": []
  }
 ],
 "metadata": {
  "kernelspec": {
   "display_name": "Python 3",
   "language": "python",
   "name": "python3"
  },
  "language_info": {
   "codemirror_mode": {
    "name": "ipython",
    "version": 3
   },
   "file_extension": ".py",
   "mimetype": "text/x-python",
   "name": "python",
   "nbconvert_exporter": "python",
   "pygments_lexer": "ipython3",
   "version": "3.13.3"
  }
 },
 "nbformat": 4,
 "nbformat_minor": 5
}
