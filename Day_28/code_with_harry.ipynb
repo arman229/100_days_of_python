{
 "cells": [
  {
   "cell_type": "code",
   "execution_count": 5,
   "id": "eb0b34f8",
   "metadata": {},
   "outputs": [
    {
     "name": "stdout",
     "output_type": "stream",
     "text": [
      "Hello, ARMAN!\n",
      "Hello, {name.upper()}!\n",
      "My name is Arman\n",
      "My name is arman, i am from pakistan\n",
      "My name is pakistan, i am from arman\n"
     ]
    }
   ],
   "source": [
    "# f-string\n",
    "# f-strings are a way to embed expressions inside string literals, using curly braces `{}`.\n",
    "name = \"Arman\"  \n",
    "print(f\"Hello, {name.upper()}!\")  # Output: Hello, ARMAN!\n",
    "print(f\"Hello, {{name.upper()}}!\")  \n",
    "comple_intro = \"My name is {name}\".format(name=name)\n",
    "print(comple_intro)  \n",
    "comple_intro = \"My name is {0}, i am from {1}\".format(\"arman\", \"pakistan\")\n",
    "print(comple_intro)  \n",
    "comple_intro = \"My name is {1}, i am from {0}\".format('arman','pakistan')\n",
    "print(comple_intro)  "
   ]
  },
  {
   "cell_type": "code",
   "execution_count": null,
   "id": "977fc4de",
   "metadata": {},
   "outputs": [],
   "source": []
  }
 ],
 "metadata": {
  "kernelspec": {
   "display_name": "Python 3",
   "language": "python",
   "name": "python3"
  },
  "language_info": {
   "codemirror_mode": {
    "name": "ipython",
    "version": 3
   },
   "file_extension": ".py",
   "mimetype": "text/x-python",
   "name": "python",
   "nbconvert_exporter": "python",
   "pygments_lexer": "ipython3",
   "version": "3.13.3"
  }
 },
 "nbformat": 4,
 "nbformat_minor": 5
}
