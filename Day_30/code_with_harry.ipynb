{
 "cells": [
  {
   "cell_type": "markdown",
   "id": "2fc122f5",
   "metadata": {},
   "source": [
    "# Recursion\n",
    "Recursion is the process of defining something in terms of itself.\n",
    "In programming recursion is a process where function solves a problem by calling itself one or more time until it reaches a basic,solvable condition"
   ]
  },
  {
   "cell_type": "code",
   "execution_count": 1,
   "id": "918dd7d5",
   "metadata": {},
   "outputs": [
    {
     "name": "stdout",
     "output_type": "stream",
     "text": [
      "The factorial of 44 is 2658271574788448768043625811014615890319638528000000000\n"
     ]
    }
   ],
   "source": [
    "def find_factorial(n:int)->int:\n",
    "    if n == 0 or n == 1:\n",
    "        return 1\n",
    "    else:\n",
    "        return n*find_factorial(n - 1)\n",
    "def main():\n",
    "    n = int(input(\"Enter a number to find its factorial: \"))\n",
    "    if n < 0:\n",
    "        print(\"Factorial is not defined for negative numbers.\")\n",
    "    else:\n",
    "        result = find_factorial(n)\n",
    "        print(f\"The factorial of {n} is {result}\")\n",
    "main()        "
   ]
  },
  {
   "cell_type": "code",
   "execution_count": null,
   "id": "0d86c385",
   "metadata": {},
   "outputs": [
    {
     "name": "stdout",
     "output_type": "stream",
     "text": [
      "The Fabonacci of first 6 is [0, 1, 1, 2, 3, 5]\n"
     ]
    }
   ],
   "source": [
    "def find_fabonchi(n:int)->list[int]: \n",
    "    if n == 0: \n",
    "        return [0]\n",
    "    elif n == 1:       \n",
    "        return [0,1]\n",
    "    else:\n",
    "        new_fablist=[0,1]\n",
    "        n1:int = 0\n",
    "        n2:int = 1\n",
    "        for _ in range(n-2):  \n",
    "            nth = n1 + n2\n",
    "            n1 = n2\n",
    "            n2 = nth\n",
    "            new_fablist.append(nth) \n",
    "        return new_fablist\n",
    "def main_fabonchi():\n",
    "    n = int(input(\"Enter a number to find its Fabonacci: \"))\n",
    "    if n < 0:\n",
    "        print(\"Fabonacci is not defined for negative numbers.\")\n",
    "    else:\n",
    "        result = find_fabonchi(n)\n",
    "        print(f\"The Fabonacci of first {n} is {result}\")\n",
    "main_fabonchi()        "
   ]
  },
  {
   "cell_type": "code",
   "execution_count": null,
   "id": "53896624",
   "metadata": {},
   "outputs": [],
   "source": [
    "def recursive_fibonacci(n: int) -> list[int]:\n",
    "    if n <= 0:\n",
    "        return [0]\n",
    "    elif n == 1:\n",
    "        return [0, 1]\n",
    "    else: \n",
    "        prev = recursive_fibonacci(n - 1)  \n",
    "        next_value = prev[-1] + prev[-2]\n",
    "        prev.append(next_value)\n",
    "        return prev\n",
    "    \n",
    "print(recursive_fibonacci(4))"
   ]
  },
  {
   "cell_type": "code",
   "execution_count": 19,
   "id": "904d943e",
   "metadata": {},
   "outputs": [
    {
     "data": {
      "text/plain": [
       "[0, 1, 1, 2, 3, 5]"
      ]
     },
     "execution_count": 19,
     "metadata": {},
     "output_type": "execute_result"
    }
   ],
   "source": [
    "def recursive_fibonacci(n:int)->list[int]:\n",
    "    if n==0:\n",
    "        return [0]\n",
    "    elif n == 1:\n",
    "        return [0,1]\n",
    "    else:\n",
    "        find_recursive=recursive_fibonacci(n-1)\n",
    "        final_resp = find_recursive[-1]+find_recursive[-2]\n",
    "        find_recursive.append(final_resp)\n",
    "        return find_recursive\n",
    "recursive_fibonacci(5)"
   ]
  },
  {
   "cell_type": "code",
   "execution_count": null,
   "id": "e671bc79",
   "metadata": {},
   "outputs": [],
   "source": []
  }
 ],
 "metadata": {
  "kernelspec": {
   "display_name": "Python 3",
   "language": "python",
   "name": "python3"
  },
  "language_info": {
   "codemirror_mode": {
    "name": "ipython",
    "version": 3
   },
   "file_extension": ".py",
   "mimetype": "text/x-python",
   "name": "python",
   "nbconvert_exporter": "python",
   "pygments_lexer": "ipython3",
   "version": "3.13.3"
  }
 },
 "nbformat": 4,
 "nbformat_minor": 5
}
