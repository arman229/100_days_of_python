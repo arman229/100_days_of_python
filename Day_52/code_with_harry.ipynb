{
 "cells": [
  {
   "cell_type": "markdown",
   "id": "12c880cf",
   "metadata": {},
   "source": [
    "# lambda function\n",
    "lambda function is a function that takes any no of arguments but have only one expression . it is also known as anonmus function\n",
    "expression: it always return some value\n",
    "statement: it may or may not be return value"
   ]
  },
  {
   "cell_type": "code",
   "execution_count": 1,
   "id": "8556ef4f",
   "metadata": {},
   "outputs": [
    {
     "name": "stdout",
     "output_type": "stream",
     "text": [
      "6\n"
     ]
    }
   ],
   "source": [
    "lambda_fun = lambda x: x*2\n",
    "print(lambda_fun(3))"
   ]
  },
  {
   "cell_type": "code",
   "execution_count": null,
   "id": "bbcac254",
   "metadata": {},
   "outputs": [
    {
     "name": "stdout",
     "output_type": "stream",
     "text": [
      "hi\n",
      "None\n"
     ]
    }
   ],
   "source": [
    "# It is a valid but not good practics\n",
    "lambda_fun = lambda x: print('hi')\n",
    "print(lambda_fun(3))"
   ]
  },
  {
   "cell_type": "code",
   "execution_count": null,
   "id": "cf3d4eb2",
   "metadata": {},
   "outputs": [],
   "source": []
  }
 ],
 "metadata": {
  "kernelspec": {
   "display_name": "Python 3",
   "language": "python",
   "name": "python3"
  },
  "language_info": {
   "codemirror_mode": {
    "name": "ipython",
    "version": 3
   },
   "file_extension": ".py",
   "mimetype": "text/x-python",
   "name": "python",
   "nbconvert_exporter": "python",
   "pygments_lexer": "ipython3",
   "version": "3.13.5"
  }
 },
 "nbformat": 4,
 "nbformat_minor": 5
}
