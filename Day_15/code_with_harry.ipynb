{
 "cells": [
  {
   "cell_type": "code",
   "execution_count": 1,
   "id": "b6a1acb9",
   "metadata": {},
   "outputs": [
    {
     "name": "stdout",
     "output_type": "stream",
     "text": [
      "Good Afternoon!\n"
     ]
    }
   ],
   "source": [
    "import time\n",
    "def greating_time():\n",
    "    current_hour = int(time.strftime(\"%H\"))\n",
    "    if current_hour >=5 and current_hour < 12:\n",
    "        print(\"Good Morning!\")\n",
    "    elif current_hour >=12 and current_hour < 18:\n",
    "        print(\"Good Afternoon!\")\n",
    "    else:\n",
    "        print(\"Good Evening!\") \n",
    "        \n",
    "greating_time()        "
   ]
  },
  {
   "cell_type": "code",
   "execution_count": 1,
   "id": "857b5b11",
   "metadata": {},
   "outputs": [
    {
     "name": "stdout",
     "output_type": "stream",
     "text": [
      "18:17:19\n",
      "18\n",
      "17\n",
      "19\n"
     ]
    }
   ],
   "source": [
    "import time\n",
    "timestamp = time.strftime('%H:%M:%S')\n",
    "print(timestamp)\n",
    "timestamp = time.strftime('%H')\n",
    "print(timestamp)\n",
    "timestamp = time.strftime('%M')\n",
    "print(timestamp)\n",
    "timestamp = time.strftime('%S')\n",
    "print(timestamp)"
   ]
  }
 ],
 "metadata": {
  "kernelspec": {
   "display_name": "Python 3",
   "language": "python",
   "name": "python3"
  },
  "language_info": {
   "codemirror_mode": {
    "name": "ipython",
    "version": 3
   },
   "file_extension": ".py",
   "mimetype": "text/x-python",
   "name": "python",
   "nbconvert_exporter": "python",
   "pygments_lexer": "ipython3",
   "version": "3.13.3"
  }
 },
 "nbformat": 4,
 "nbformat_minor": 5
}
