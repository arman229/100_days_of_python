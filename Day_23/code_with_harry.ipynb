{
 "cells": [
  {
   "cell_type": "markdown",
   "id": "6a6a4933",
   "metadata": {},
   "source": [
    "# List Methods\n",
    "## `.sort()` This method sort the list in asciding order and update the original list"
   ]
  },
  {
   "cell_type": "code",
   "execution_count": 1,
   "id": "fad592c0",
   "metadata": {},
   "outputs": [
    {
     "ename": "TypeError",
     "evalue": "'<' not supported between instances of 'int' and 'str'",
     "output_type": "error",
     "traceback": [
      "\u001b[31m---------------------------------------------------------------------------\u001b[39m",
      "\u001b[31mTypeError\u001b[39m                                 Traceback (most recent call last)",
      "\u001b[36mCell\u001b[39m\u001b[36m \u001b[39m\u001b[32mIn[1]\u001b[39m\u001b[32m, line 2\u001b[39m\n\u001b[32m      1\u001b[39m alpha_list = [\u001b[33m'\u001b[39m\u001b[33mF\u001b[39m\u001b[33m'\u001b[39m,\u001b[33m'\u001b[39m\u001b[33mA\u001b[39m\u001b[33m'\u001b[39m,\u001b[33m'\u001b[39m\u001b[33mz\u001b[39m\u001b[33m'\u001b[39m, \u001b[33m'\u001b[39m\u001b[33mb\u001b[39m\u001b[33m'\u001b[39m, \u001b[33m'\u001b[39m\u001b[33mc\u001b[39m\u001b[33m'\u001b[39m, \u001b[33m'\u001b[39m\u001b[33md\u001b[39m\u001b[33m'\u001b[39m, \u001b[33m'\u001b[39m\u001b[33my\u001b[39m\u001b[33m'\u001b[39m, \u001b[33m'\u001b[39m\u001b[33mf\u001b[39m\u001b[33m'\u001b[39m, \u001b[33m'\u001b[39m\u001b[33mg\u001b[39m\u001b[33m'\u001b[39m, \u001b[33m'\u001b[39m\u001b[33mh\u001b[39m\u001b[33m'\u001b[39m, \u001b[33m'\u001b[39m\u001b[33mi\u001b[39m\u001b[33m'\u001b[39m, \u001b[33m'\u001b[39m\u001b[33mj\u001b[39m\u001b[33m'\u001b[39m,\u001b[32m1\u001b[39m,\u001b[32m2\u001b[39m,\u001b[32m3\u001b[39m]\n\u001b[32m----> \u001b[39m\u001b[32m2\u001b[39m sort_list = \u001b[43malpha_list\u001b[49m\u001b[43m.\u001b[49m\u001b[43msort\u001b[49m\u001b[43m(\u001b[49m\u001b[43m)\u001b[49m\n\u001b[32m      3\u001b[39m \u001b[38;5;28mprint\u001b[39m(sort_list)\n",
      "\u001b[31mTypeError\u001b[39m: '<' not supported between instances of 'int' and 'str'"
     ]
    }
   ],
   "source": [
    "alpha_list = ['F','A','z', 'b', 'c', 'd', 'y', 'f', 'g', 'h', 'i', 'j',1,2,3]\n",
    "sort_list = alpha_list.sort()\n",
    "print(sort_list)\n"
   ]
  },
  {
   "cell_type": "code",
   "execution_count": 3,
   "id": "43d3739b",
   "metadata": {},
   "outputs": [
    {
     "name": "stdout",
     "output_type": "stream",
     "text": [
      "['A', 'F', 'b', 'c', 'd', 'f', 'g', 'h', 'i', 'j', 'y', 'z']\n"
     ]
    }
   ],
   "source": [
    "alpha_list = ['F','A','z', 'b', 'c', 'd', 'y', 'f', 'g', 'h', 'i', 'j']\n",
    "sort_list = alpha_list.sort()\n",
    "print(alpha_list)\n"
   ]
  },
  {
   "cell_type": "code",
   "execution_count": 10,
   "id": "8730416a",
   "metadata": {},
   "outputs": [
    {
     "name": "stdout",
     "output_type": "stream",
     "text": [
      "36\n"
     ]
    }
   ],
   "source": [
    "print(ord('$'))  # 65"
   ]
  },
  {
   "cell_type": "code",
   "execution_count": 9,
   "id": "fa8bdbb8",
   "metadata": {},
   "outputs": [
    {
     "name": "stdout",
     "output_type": "stream",
     "text": [
      "['z', 'y', 'j', 'i', 'h', 'g', 'f', 'd', 'c', 'b', 'F', 'A', '$']\n"
     ]
    }
   ],
   "source": [
    "alpha_list = ['F','A','z', 'b', 'c', 'd', 'y', 'f', 'g', 'h', 'i', 'j','$']\n",
    "sort_list = alpha_list.sort(reverse=True)\n",
    "print(alpha_list)\n"
   ]
  },
  {
   "cell_type": "code",
   "execution_count": 11,
   "id": "a0765a56",
   "metadata": {},
   "outputs": [
    {
     "name": "stdout",
     "output_type": "stream",
     "text": [
      "[35, 33, 31, 9, 8, 7, 6, 4, 2]\n"
     ]
    }
   ],
   "source": [
    "no_list = [31, 2, 33, 4, 35, 6, 7, 8, 9,]\n",
    "# sort_list = no_list.sort()\n",
    "sort_list = no_list.sort(reverse=True)\n",
    "print(no_list)"
   ]
  },
  {
   "cell_type": "markdown",
   "id": "c8bc29e7",
   "metadata": {},
   "source": [
    "## `reverse()`: This method reverse the order of the list\n"
   ]
  },
  {
   "cell_type": "code",
   "execution_count": null,
   "id": "7452ea87",
   "metadata": {},
   "outputs": [],
   "source": [
    "alpha_list = ['A','F','A','z', 'b', 'c', 'd', 'y', 'f', 'g', 'h', 'i', 'j']\n",
    "alpha_list.reverse()\n",
    "print(alpha_list)"
   ]
  },
  {
   "cell_type": "markdown",
   "id": "88bca854",
   "metadata": {},
   "source": [
    "## `index()` This method return the index of the first occurance of the list item\n"
   ]
  },
  {
   "cell_type": "code",
   "execution_count": 19,
   "id": "bfb76b82",
   "metadata": {},
   "outputs": [
    {
     "name": "stdout",
     "output_type": "stream",
     "text": [
      "2\n",
      "4\n"
     ]
    }
   ],
   "source": [
    "names = ['arman', 'saad', 'asad', 'ali','asad']\n",
    "index_of_asad = names.index('asad')\n",
    "slice_of_asad = names.index('asad', 3,8)  # Start searching from index 2\n",
    "print(index_of_asad)\n",
    "print(slice_of_asad)"
   ]
  },
  {
   "cell_type": "code",
   "execution_count": 11,
   "id": "7d379b4b",
   "metadata": {},
   "outputs": [
    {
     "name": "stdout",
     "output_type": "stream",
     "text": [
      "-1\n"
     ]
    }
   ],
   "source": [
    "names = ['arman', 'saad', 'asad', 'ali', 'asad']\n",
    "try:\n",
    "\tindex_of_asad = names.index('asads')\n",
    "except ValueError:\n",
    "\tindex_of_asad = -1  # Assign -1 if the element is not found\n",
    "print(index_of_asad)"
   ]
  },
  {
   "cell_type": "markdown",
   "id": "40fa3597",
   "metadata": {},
   "source": [
    "## `count()` method to count occurrences of an element"
   ]
  },
  {
   "cell_type": "code",
   "execution_count": null,
   "id": "250df8dd",
   "metadata": {},
   "outputs": [
    {
     "name": "stdout",
     "output_type": "stream",
     "text": [
      "0\n"
     ]
    }
   ],
   "source": [
    "names = ['arman', 'saad', 'asad', 'ali','asad']\n",
    "count_of_asad = names.count('asad')\n",
    "print(count_of_asad)"
   ]
  },
  {
   "cell_type": "markdown",
   "id": "fc9e2be5",
   "metadata": {},
   "source": [
    "## `copy()` returns the copy of list"
   ]
  },
  {
   "cell_type": "code",
   "execution_count": 27,
   "id": "cb39744a",
   "metadata": {},
   "outputs": [
    {
     "name": "stdout",
     "output_type": "stream",
     "text": [
      "['arman', 'saad', 'asad', 'ali', 'asad']\n"
     ]
    }
   ],
   "source": [
    "names = ['arman', 'saad', 'asad', 'ali','asad']\n",
    "copy_of_names = names.copy()\n",
    "print(copy_of_names)"
   ]
  },
  {
   "cell_type": "code",
   "execution_count": 1,
   "id": "3d18cef0",
   "metadata": {},
   "outputs": [
    {
     "name": "stdout",
     "output_type": "stream",
     "text": [
      "[31, 2, 33, 4, 35, 6, 3, 3, 8, 9]\n"
     ]
    }
   ],
   "source": [
    "no_list = [31, 2, 33, 4, 35, 6, 3,3,3, 8, 9]\n",
    "no_list.remove(3)\n",
    "print(no_list)"
   ]
  },
  {
   "cell_type": "code",
   "execution_count": 12,
   "id": "5b44de30",
   "metadata": {},
   "outputs": [
    {
     "name": "stdout",
     "output_type": "stream",
     "text": [
      "[31, 2, 4, 35, 6, 3, 3, 3, 8, 9]\n"
     ]
    }
   ],
   "source": [
    "no_list = [31, 2, 33, 4, 35, 6, 3,3,3, 8, 9]\n",
    "del no_list[2]  # Remove the element at index 2\n",
    "print(no_list)"
   ]
  },
  {
   "cell_type": "code",
   "execution_count": 4,
   "id": "c54d8e33",
   "metadata": {},
   "outputs": [
    {
     "name": "stdout",
     "output_type": "stream",
     "text": [
      "[]\n"
     ]
    }
   ],
   "source": [
    "no_list = [31, 2, 33, 4, 35, 6, 7, 8, 9]\n",
    "no_list.clear()\n",
    "print(no_list)"
   ]
  },
  {
   "cell_type": "code",
   "execution_count": 5,
   "id": "7102b082",
   "metadata": {},
   "outputs": [
    {
     "ename": "NameError",
     "evalue": "name 'no_list' is not defined",
     "output_type": "error",
     "traceback": [
      "\u001b[31m---------------------------------------------------------------------------\u001b[39m",
      "\u001b[31mNameError\u001b[39m                                 Traceback (most recent call last)",
      "\u001b[36mCell\u001b[39m\u001b[36m \u001b[39m\u001b[32mIn[5]\u001b[39m\u001b[32m, line 3\u001b[39m\n\u001b[32m      1\u001b[39m no_list = [\u001b[32m31\u001b[39m, \u001b[32m2\u001b[39m, \u001b[32m33\u001b[39m, \u001b[32m4\u001b[39m, \u001b[32m35\u001b[39m, \u001b[32m6\u001b[39m, \u001b[32m3\u001b[39m,\u001b[32m3\u001b[39m,\u001b[32m3\u001b[39m, \u001b[32m8\u001b[39m, \u001b[32m9\u001b[39m]\n\u001b[32m      2\u001b[39m \u001b[38;5;28;01mdel\u001b[39;00m no_list\n\u001b[32m----> \u001b[39m\u001b[32m3\u001b[39m \u001b[38;5;28mprint\u001b[39m(\u001b[43mno_list\u001b[49m)\n",
      "\u001b[31mNameError\u001b[39m: name 'no_list' is not defined"
     ]
    }
   ],
   "source": [
    "no_list = [31, 2, 33, 4, 35, 6, 3,3,3, 8, 9]\n",
    "del no_list\n",
    "print(no_list)"
   ]
  },
  {
   "cell_type": "markdown",
   "id": "e6fe29d6",
   "metadata": {},
   "source": [
    "## `append()` This method append the list items at the end of the existing list"
   ]
  },
  {
   "cell_type": "code",
   "execution_count": 28,
   "id": "52578e72",
   "metadata": {},
   "outputs": [
    {
     "name": "stdout",
     "output_type": "stream",
     "text": [
      "['arman', 'saad', 'asad', 'ali', 'asad', 'sameer']\n"
     ]
    }
   ],
   "source": [
    "names = ['arman', 'saad', 'asad', 'ali','asad']\n",
    "names.append('sameer')\n",
    "print(names)"
   ]
  },
  {
   "cell_type": "code",
   "execution_count": 29,
   "id": "ac6441b3",
   "metadata": {},
   "outputs": [
    {
     "name": "stdout",
     "output_type": "stream",
     "text": [
      "['arman', 'saad', 'asad', 'ali', 'asad', ['wali', 'sami']]\n"
     ]
    }
   ],
   "source": [
    "names = ['arman', 'saad', 'asad', 'ali','asad']\n",
    "names.append(['wali', 'sami'])\n",
    "print(names)"
   ]
  },
  {
   "cell_type": "markdown",
   "id": "60f0598b",
   "metadata": {},
   "source": [
    "## `insert()` this method add the item at specfic index\n",
    "This means the new element will be placed before the item that currently occupies that index."
   ]
  },
  {
   "cell_type": "code",
   "execution_count": null,
   "id": "0a0a9ad0",
   "metadata": {},
   "outputs": [
    {
     "name": "stdout",
     "output_type": "stream",
     "text": [
      "['arman', 'hatim', 'saad', 'asad', 'ali', 'asad']\n"
     ]
    }
   ],
   "source": [
    "\n",
    "names = ['arman', 'saad', 'asad', 'ali','asad']\n",
    "names.insert(1, 'hatim')\n",
    "names.insert(-1, 'hatim ali')\n",
    "print(names)"
   ]
  },
  {
   "cell_type": "markdown",
   "id": "0b7e6b39",
   "metadata": {},
   "source": [
    "## `extend()` this method concatenate two list \n",
    "   OR\n",
    "This method adds an entire list or any other collection datatype (set, tuple, dictionary) to the existing list."
   ]
  },
  {
   "cell_type": "code",
   "execution_count": null,
   "id": "6c94ee8f",
   "metadata": {},
   "outputs": [
    {
     "name": "stdout",
     "output_type": "stream",
     "text": [
      "['arman', 'saad', 'asad', 'ali', 'asad', 'hatim', 'sameer']\n",
      "['arman', 'saad', 'asad', 'ali', 'asad', 'hatim', 'sameer', 'hatim', 'sameer']\n",
      "['arman', 'saad', 'asad', 'ali', 'asad', 'hatim', 'sameer', 'hatim', 'sameer', 'hatim', 25]\n"
     ]
    }
   ],
   "source": [
    "list_1 = ['arman', 'saad', 'asad', 'ali','asad']\n",
    "tuple_1 = ('hatim', 'sameer')\n",
    "list_1.extend(tuple_1)\n",
    "print(list_1)\n",
    "set_1 = {'hatim', 'sameer'}\n",
    "list_1.extend(set_1)\n",
    "print(list_1)\n",
    "dict_1 = {'name': 'hatim', 'age': 25}\n",
    "list_1.extend(dict_1)\n",
    "print(list_1)"
   ]
  },
  {
   "cell_type": "code",
   "execution_count": 46,
   "id": "d2b8895f",
   "metadata": {},
   "outputs": [
    {
     "name": "stdout",
     "output_type": "stream",
     "text": [
      "['arman', 'saad', 'asad', 'ali', 'asad', 'hatim', 'sameer', 'sami']\n",
      "['arman', 'saad', 'asad', 'ali', 'asad', 'hatim', 'sameer', 'sami']\n"
     ]
    }
   ],
   "source": [
    "list_1 = ['arman', 'saad', 'asad', 'ali','asad']\n",
    "list_2 = ['hatim', 'sameer', 'sami']\n",
    "new_list = list_1 + list_2\n",
    "print(new_list)\n",
    "list_1.extend(list_2)\n",
    "print(list_1)"
   ]
  },
  {
   "cell_type": "markdown",
   "id": "291e09a3",
   "metadata": {},
   "source": [
    "## `sorted()` \n",
    "this is a powerful method to sort the iterable object without changing the original iterable object \n",
    "`sorted(iterable, key=None, reverse=False)`\n",
    "key:It customize how the list items are sort\n"
   ]
  },
  {
   "cell_type": "code",
   "execution_count": 52,
   "id": "307671cd",
   "metadata": {},
   "outputs": [
    {
     "name": "stdout",
     "output_type": "stream",
     "text": [
      "['apple', 'banana', 'cherry']\n"
     ]
    }
   ],
   "source": [
    "fruits = ['apple', 'banana', 'cherry']\n",
    "new_sorted_list = sorted(fruits,key=len,)\n",
    "print(new_sorted_list)"
   ]
  },
  {
   "cell_type": "code",
   "execution_count": 53,
   "id": "e72ab1fb",
   "metadata": {},
   "outputs": [
    {
     "name": "stdout",
     "output_type": "stream",
     "text": [
      "[{'name': 'saad', 'age': 22, 'grade': 'B'}, {'name': 'asad', 'age': 23, 'grade': 'C'}, {'name': 'ali', 'age': 24, 'grade': 'A'}, {'name': 'arman', 'age': 25, 'grade': 'A'}]\n"
     ]
    }
   ],
   "source": [
    "student_data = [\n",
    "    {'name': 'arman', 'age': 25, 'grade': 'A'},\n",
    "    {'name': 'saad', 'age': 22, 'grade': 'B'},\n",
    "    {'name': 'asad', 'age': 23, 'grade': 'C'},\n",
    "    {'name': 'ali', 'age': 24, 'grade': 'A'},\n",
    "]\n",
    "new_sorted_list = sorted(student_data, key=lambda x: x['age'])\n",
    "print(new_sorted_list)"
   ]
  },
  {
   "cell_type": "code",
   "execution_count": 15,
   "id": "e7808ec7",
   "metadata": {},
   "outputs": [
    {
     "name": "stdout",
     "output_type": "stream",
     "text": [
      "[1, 2, 3, 4]\n",
      "5\n",
      "3\n",
      "[1, 2, 4]\n"
     ]
    }
   ],
   "source": [
    "my_list = [1, 2, 3, 4, 5]\n",
    "remove_item = my_list.pop()\n",
    "print(my_list)\n",
    "print(remove_item)  # Output the removed item\n",
    "sec_remove = my_list.pop(2)  # Remove the item at index 2\n",
    "print(sec_remove)\n",
    "print(my_list)"
   ]
  },
  {
   "cell_type": "code",
   "execution_count": null,
   "id": "b1dcaf0f",
   "metadata": {},
   "outputs": [],
   "source": []
  }
 ],
 "metadata": {
  "kernelspec": {
   "display_name": "Python 3",
   "language": "python",
   "name": "python3"
  },
  "language_info": {
   "codemirror_mode": {
    "name": "ipython",
    "version": 3
   },
   "file_extension": ".py",
   "mimetype": "text/x-python",
   "name": "python",
   "nbconvert_exporter": "python",
   "pygments_lexer": "ipython3",
   "version": "3.13.3"
  }
 },
 "nbformat": 4,
 "nbformat_minor": 5
}
