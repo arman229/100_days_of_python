{
 "cells": [
  {
   "cell_type": "code",
   "execution_count": null,
   "id": "713d0982",
   "metadata": {},
   "outputs": [],
   "source": [
    "# Exception in python\n",
    "# Exception or error handling is one of the most important component in our application if we are not handle this our application will \n",
    "# be crash so we use try except block in try we write the code where we may have an error if in try block we have an error than exception \n",
    "# block will execute "
   ]
  },
  {
   "cell_type": "code",
   "execution_count": 1,
   "id": "2a99e36e",
   "metadata": {},
   "outputs": [
    {
     "name": "stdout",
     "output_type": "stream",
     "text": [
      "Errors  '>=' not supported between instances of 'str' and 'int'\n"
     ]
    }
   ],
   "source": [
    "try:\n",
    "    user_input = input('Enter your age')\n",
    "    if user_input >=18:\n",
    "        print('You are eligiable for vote casting')\n",
    "except Exception as e:\n",
    "    print(\"Errors \",e)        "
   ]
  },
  {
   "cell_type": "code",
   "execution_count": null,
   "id": "a80c15e1",
   "metadata": {},
   "outputs": [],
   "source": []
  }
 ],
 "metadata": {
  "kernelspec": {
   "display_name": "Python 3",
   "language": "python",
   "name": "python3"
  },
  "language_info": {
   "codemirror_mode": {
    "name": "ipython",
    "version": 3
   },
   "file_extension": ".py",
   "mimetype": "text/x-python",
   "name": "python",
   "nbconvert_exporter": "python",
   "pygments_lexer": "ipython3",
   "version": "3.13.3"
  }
 },
 "nbformat": 4,
 "nbformat_minor": 5
}
