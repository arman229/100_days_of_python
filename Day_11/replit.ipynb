{
 "cells": [
  {
   "cell_type": "code",
   "execution_count": 2,
   "id": "6224584c",
   "metadata": {},
   "outputs": [
    {
     "name": "stdout",
     "output_type": "stream",
     "text": [
      "There are 31536000 seconds in a year with 365 days.\n"
     ]
    }
   ],
   "source": [
    "no_of_days:int = int(input(\"Enter the number of days in a year: \"))\n",
    "if no_of_days == 365:\n",
    "    no_of_sec = no_of_days * 24 * 60 * 60\n",
    "    print(f\"There are {no_of_sec} seconds in a year with {no_of_days} days.\")\n",
    "elif no_of_days == 366:\n",
    "    no_of_sec = no_of_days * 24 * 60 * 60\n",
    "    print(f\"There are {no_of_sec} seconds in a leap year with {no_of_days} days.\")\n",
    "else:\n",
    "    print(\"Invalid number of days. Please enter 365 or 366.\")\n",
    "        \n",
    "    \n"
   ]
  }
 ],
 "metadata": {
  "kernelspec": {
   "display_name": "Python 3",
   "language": "python",
   "name": "python3"
  },
  "language_info": {
   "codemirror_mode": {
    "name": "ipython",
    "version": 3
   },
   "file_extension": ".py",
   "mimetype": "text/x-python",
   "name": "python",
   "nbconvert_exporter": "python",
   "pygments_lexer": "ipython3",
   "version": "3.13.3"
  }
 },
 "nbformat": 4,
 "nbformat_minor": 5
}
