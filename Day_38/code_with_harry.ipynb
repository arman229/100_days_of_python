{
 "cells": [
  {
   "cell_type": "code",
   "execution_count": null,
   "id": "d8c2950b",
   "metadata": {},
   "outputs": [
    {
     "name": "stdout",
     "output_type": "stream",
     "text": [
      "Error Salary cannot be negative value\n"
     ]
    }
   ],
   "source": [
    "# Raising custom error \n",
    "# In python we can raise our own custom error by using the raise keyword\n",
    "\n",
    "def check_for_tax(sal:int):\n",
    "    if sal < 0:\n",
    "        raise ValueError('Salary cannot be negative value')\n",
    "    \n",
    "try:    \n",
    "    check_for_tax(-44)  \n",
    "except Exception as e:\n",
    "    print('Error',e)    \n",
    "      "
   ]
  },
  {
   "cell_type": "code",
   "execution_count": 18,
   "id": "7f65296e",
   "metadata": {},
   "outputs": [
    {
     "name": "stdout",
     "output_type": "stream",
     "text": [
      "900\n",
      "You must be at least 18 years old.\n",
      "('You must be at least 18 years old.', 900)\n",
      "Error ('You must be at least 18 years old.', 900)\n"
     ]
    }
   ],
   "source": [
    "class InvalidAgeError(Exception):\n",
    "    def __init__(self, message='You must be at least 18 years old.'):\n",
    "        self.message = message\n",
    "        self.code = 900\n",
    "        super().__init__(self.message,self.code)\n",
    "\n",
    "def age_validater(age:int):\n",
    "    if age< 18:\n",
    "        raise InvalidAgeError()\n",
    "    return 'Pass'\n",
    "\n",
    "\n",
    "try:\n",
    "    print(age_validater(9))\n",
    "    \n",
    "except InvalidAgeError as e:\n",
    "    print(e.code)\n",
    "    print(e.message)\n",
    "    print(e.args)\n",
    "    print('Error',e)    \n",
    "except Exception as e:\n",
    "    print('Error',e)    "
   ]
  },
  {
   "cell_type": "code",
   "execution_count": 22,
   "id": "3ad900ff",
   "metadata": {},
   "outputs": [],
   "source": [
    "class customclass:\n",
    "    ...   # these are same\n",
    "    pass \n",
    "    \n",
    "    \n",
    "    "
   ]
  },
  {
   "cell_type": "code",
   "execution_count": null,
   "id": "e97c9069",
   "metadata": {},
   "outputs": [],
   "source": []
  }
 ],
 "metadata": {
  "kernelspec": {
   "display_name": "Python 3",
   "language": "python",
   "name": "python3"
  },
  "language_info": {
   "codemirror_mode": {
    "name": "ipython",
    "version": 3
   },
   "file_extension": ".py",
   "mimetype": "text/x-python",
   "name": "python",
   "nbconvert_exporter": "python",
   "pygments_lexer": "ipython3",
   "version": "3.13.3"
  }
 },
 "nbformat": 4,
 "nbformat_minor": 5
}
