{
 "cells": [
  {
   "cell_type": "markdown",
   "id": "1cf399de",
   "metadata": {},
   "source": [
    "Function Parameters are the names listed in function defination\n",
    "Function Arguments are the real values passed to the Funtion\n",
    "### There are 6 types of arguments we can pass in a function\n"
   ]
  },
  {
   "cell_type": "code",
   "execution_count": 2,
   "id": "01bd3a3e",
   "metadata": {},
   "outputs": [
    {
     "name": "stdout",
     "output_type": "stream",
     "text": [
      "259200\n"
     ]
    }
   ],
   "source": [
    "# 1. Default arguments\n",
    "# These are the arguments that have a default value assigned to them in the function definition.\n",
    "# If no value is provided for these arguments when the function is called, the default value is used.\n",
    "def calculate_sec(name,day=1):\n",
    "    return day * 24 * 60 * 60\n",
    "print(calculate_sec(day=3,name='ali'))  # 86400"
   ]
  },
  {
   "cell_type": "code",
   "execution_count": 3,
   "id": "339cbe31",
   "metadata": {},
   "outputs": [
    {
     "name": "stdout",
     "output_type": "stream",
     "text": [
      "50\n"
     ]
    }
   ],
   "source": [
    "# 2. Positional arguments:\n",
    "#  These are the arguments that are passed to a function in the order they are defined.\n",
    "def calculate_area(length, width):\n",
    "    return length * width\n",
    "\n",
    "print(calculate_area(5, 10))  # 50\n"
   ]
  },
  {
   "cell_type": "code",
   "execution_count": 4,
   "id": "a4e42758",
   "metadata": {},
   "outputs": [
    {
     "name": "stdout",
     "output_type": "stream",
     "text": [
      "100\n"
     ]
    }
   ],
   "source": [
    "# 3. Keyword arguments:\n",
    "# These are the arguments that are passed to a function by explicitly specifying the parameter name.\n",
    "def calculate_volume(length, width, height):\n",
    "    return length * width * height\n",
    "print(calculate_volume(length=5, width=10, height=2))  # 100"
   ]
  },
  {
   "cell_type": "code",
   "execution_count": 6,
   "id": "207e4597",
   "metadata": {},
   "outputs": [
    {
     "name": "stdout",
     "output_type": "stream",
     "text": [
      "10\n",
      "24\n"
     ]
    }
   ],
   "source": [
    "# 4. Variable-length arguments:\n",
    "# These are the arguments that allow you to pass a variable number of arguments to a function.\n",
    "# it has two types \n",
    "# a) aribitray arguments: in arbitray arguments we can pass any number of arguments to the function as a tuple.\n",
    "def calculate_sum(*args):\n",
    "    return sum(args)\n",
    "print(calculate_sum(1, 2, 3, 4))  # 10\n",
    "# b) Arbitrary keyword arguments: in keyword arguments we can pass any number of arguments to the function as a dictionary.\n",
    "def calculate_product(**kwargs):\n",
    "    product = 1\n",
    "    for value in kwargs.values():\n",
    "        product *= value\n",
    "    return product\n",
    "print(calculate_product(a=2, b=3, c=4))  # 24"
   ]
  },
  {
   "cell_type": "code",
   "execution_count": 34,
   "id": "cd67cc11",
   "metadata": {},
   "outputs": [
    {
     "name": "stdout",
     "output_type": "stream",
     "text": [
      "Name: ali, Sum: 6, Product: 6\n"
     ]
    }
   ],
   "source": [
    "def calculate_sum_and_product(age,*args,name='arman', **kwargs):\n",
    "    total_sum = sum(args)\n",
    "    total_product = 1\n",
    "    for value in kwargs.values():\n",
    "        total_product *= value\n",
    "    return f\"Name: {name}, Sum: {total_sum}, Product: {total_product}\"\n",
    "print(calculate_sum_and_product(4, 1, 2, 3,name='ali', a=2, b=3))  # Name: ali, Sum: 6, Product: 6"
   ]
  },
  {
   "cell_type": "code",
   "execution_count": 3,
   "id": "473bb627",
   "metadata": {},
   "outputs": [
    {
     "name": "stdout",
     "output_type": "stream",
     "text": [
      "80.0\n"
     ]
    }
   ],
   "source": [
    "# 5. Only keyword arguments:\n",
    "# These are the arguments that can only be passed by keyword and not by position.\n",
    "def calculate_discount(price, *, discount_rate):\n",
    "    return price * (1 - discount_rate)\n",
    "print(calculate_discount(100,discount_rate=0.2))  # 80.0\n",
    "# print(calculate_discount(100,0.2))   # This will raise an error because discount_rate is a keyword-only argument"
   ]
  },
  {
   "cell_type": "code",
   "execution_count": 21,
   "id": "c7b43ed4",
   "metadata": {},
   "outputs": [
    {
     "name": "stdout",
     "output_type": "stream",
     "text": [
      "50 \n"
     ]
    }
   ],
   "source": [
    "# 6. Positional-only arguments:\n",
    "# These are the arguments that can only be passed by position and not by keyword.\n",
    "def calculate_total(price,quantity,/):\n",
    "\n",
    "    resp = price * quantity\n",
    "    return f\"{resp} \"\n",
    "print(calculate_total(10, 5,))  # 50"
   ]
  },
  {
   "cell_type": "markdown",
   "id": "7ba7a73e",
   "metadata": {},
   "source": [
    "\n"
   ]
  },
  {
   "cell_type": "code",
   "execution_count": null,
   "id": "466e6fae",
   "metadata": {},
   "outputs": [
    {
     "name": "stdout",
     "output_type": "stream",
     "text": [
      "Name: Arman, Age: 24, Country: Pakistan, Continent: Asia, Hobbies: programming, learning, Height: 5, Weight: 68, Education: [12, 10]\n"
     ]
    }
   ],
   "source": [
    "# Combining different types of arguments:\n",
    "\n",
    "# Order:\n",
    "# 1. Positional arguments\n",
    "# 2. Keyword arguments (or positional if allowed)\n",
    "# 3. Arbitrary-length arguments\n",
    "# 4. Keyword-only arguments\n",
    "# 5. Arbitrary keyword arguments\n",
    "def complete_function(name, age, /, continant, contry='Pakistan', *hobbies, height, weight, **kwargs):\n",
    "    intro = (\n",
    "        f\"Name: {name}, Age: {age}, Country: {contry}, Continent: {continant}, \"\n",
    "        f\"Hobbies: {', '.join(hobbies)}, Height: {height}, Weight: {weight}, \"\n",
    "        f\"Education: {[edu for edu in kwargs.values()]}\"\n",
    "    )\n",
    "    return intro\n",
    "\n",
    "print(complete_function(\n",
    "    'Arman', 24, 'Asia', 'Pakistan',\n",
    "    'programming', 'learning',\n",
    "    height=5, weight=68,\n",
    "    inter=12,matric=10\n",
    "))"
   ]
  },
  {
   "cell_type": "code",
   "execution_count": null,
   "id": "1e81e1de",
   "metadata": {},
   "outputs": [],
   "source": [
    "#Positional argument cannot appear after keyword arguments\n",
    "# Note positional arguments must come before keyword arguments in the function definition. or pass keyword arguments in simple positional arguments."
   ]
  }
 ],
 "metadata": {
  "kernelspec": {
   "display_name": "Python 3",
   "language": "python",
   "name": "python3"
  },
  "language_info": {
   "codemirror_mode": {
    "name": "ipython",
    "version": 3
   },
   "file_extension": ".py",
   "mimetype": "text/x-python",
   "name": "python",
   "nbconvert_exporter": "python",
   "pygments_lexer": "ipython3",
   "version": "3.13.3"
  }
 },
 "nbformat": 4,
 "nbformat_minor": 5
}
