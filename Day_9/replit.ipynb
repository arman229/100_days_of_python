{
 "cells": [
  {
   "cell_type": "code",
   "execution_count": 2,
   "id": "9b0b2dcf",
   "metadata": {},
   "outputs": [
    {
     "name": "stdout",
     "output_type": "stream",
     "text": [
      "Hey, Baby Boomer! How you doing?\n"
     ]
    }
   ],
   "source": [
    "\n",
    "birthYear = int(input(\"What year were you born? \"))\n",
    "if birthYear <= 1946 and birthYear >= 1925:\n",
    "  print(\"You are a Traditionalist.\")\n",
    "elif birthYear >= 1947 and birthYear <= 1964:\n",
    "  print(\"Hey, Baby Boomer! How you doing?\")\n",
    "elif birthYear >= 1965 and birthYear <= 1981:\n",
    "  print(\"Gen X! What's up?\")\n",
    "elif birthYear >= 1982 and birthYear <= 1995:\n",
    "  print(\"Millenials! The age of tech!\")\n",
    "elif birthYear >= 1996:\n",
    "  print(\"Hey, Gen Z! TikTok much?\")\n",
    "else: \n",
    "  print(\"Try again!\")"
   ]
  }
 ],
 "metadata": {
  "kernelspec": {
   "display_name": "Python 3",
   "language": "python",
   "name": "python3"
  },
  "language_info": {
   "codemirror_mode": {
    "name": "ipython",
    "version": 3
   },
   "file_extension": ".py",
   "mimetype": "text/x-python",
   "name": "python",
   "nbconvert_exporter": "python",
   "pygments_lexer": "ipython3",
   "version": "3.13.3"
  }
 },
 "nbformat": 4,
 "nbformat_minor": 5
}
