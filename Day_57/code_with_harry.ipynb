{
 "cells": [
  {
   "cell_type": "code",
   "execution_count": 1,
   "id": "18eb2705",
   "metadata": {},
   "outputs": [
    {
     "name": "stdout",
     "output_type": "stream",
     "text": [
      "arman\n",
      "24\n"
     ]
    }
   ],
   "source": [
    "#creating a class\n",
    "\n",
    "class Student:\n",
    "    name:str = 'arman'\n",
    "    age: str = 24\n",
    "arman = Student()\n",
    "print(arman.name)\n",
    "print(arman.age)\n"
   ]
  },
  {
   "cell_type": "code",
   "execution_count": 4,
   "id": "fe24b5d8",
   "metadata": {},
   "outputs": [
    {
     "name": "stdout",
     "output_type": "stream",
     "text": [
      "My school name is High school  Sialkot\n",
      "My school name is Govt Hight school  sialkot\n"
     ]
    }
   ],
   "source": [
    "# Self is a refrence to the current instance of the class\n",
    "class SchoolForm:\n",
    "    school_name = \"High school  Sialkot\"\n",
    "    def schoolname(self):\n",
    "        print(f\"My school name is {self.school_name}\")\n",
    "school = SchoolForm()\n",
    "school.schoolname()  \n",
    "school.school_name='Govt Hight school  sialkot'     \n",
    "school.schoolname()"
   ]
  },
  {
   "cell_type": "code",
   "execution_count": null,
   "id": "323d4d62",
   "metadata": {},
   "outputs": [],
   "source": []
  }
 ],
 "metadata": {
  "kernelspec": {
   "display_name": "Python 3",
   "language": "python",
   "name": "python3"
  },
  "language_info": {
   "codemirror_mode": {
    "name": "ipython",
    "version": 3
   },
   "file_extension": ".py",
   "mimetype": "text/x-python",
   "name": "python",
   "nbconvert_exporter": "python",
   "pygments_lexer": "ipython3",
   "version": "3.13.5"
  }
 },
 "nbformat": 4,
 "nbformat_minor": 5
}
