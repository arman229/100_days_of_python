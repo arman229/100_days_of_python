{
 "cells": [
  {
   "cell_type": "code",
   "execution_count": 1,
   "id": "0f37ad84",
   "metadata": {},
   "outputs": [],
   "source": [
    "from reportlab.pdfgen import canvas\n",
    "def create_pdf(filename,text):\n",
    "    c = canvas.Canvas(filename)\n",
    "    c.drawString(100,750,text)\n",
    "    c.save()\n",
    "create_pdf('sample1.pdf','This is content of PDF 1')    \n",
    "create_pdf('sample2.pdf','This is content of PDF 2')    "
   ]
  },
  {
   "cell_type": "code",
   "execution_count": 2,
   "id": "abfae918",
   "metadata": {},
   "outputs": [
    {
     "name": "stdout",
     "output_type": "stream",
     "text": [
      "['sample1.pdf', 'sample2.pdf']\n"
     ]
    }
   ],
   "source": [
    "import os\n",
    "from pypdf import PdfReader,PdfWriter,PdfMerger\n",
    "pdf_files = [pdfile  for pdfile in os.listdir() if pdfile.endswith('.pdf')][0:2]\n",
    "print(pdf_files)\n",
    "\n",
    "def mergepdf(pdf_list,output_path):\n",
    "    merger = PdfWriter()\n",
    "    for pdf in pdf_list:\n",
    "        merger.append(pdf)\n",
    "    merger.write(output_path)\n",
    "    merger.close()\n",
    "\n",
    "def add_password(input_pdf,output_pdf,psd):\n",
    "    reader = PdfReader(input_pdf)\n",
    "    writer = PdfWriter()\n",
    "    for page in reader.pages:\n",
    "        writer.add_page(page)\n",
    "    writer.encrypt(psd) \n",
    "    with open(output_pdf,'wb') as f:\n",
    "        writer.write(f)\n",
    "    print(f\"password protected pdf saved\")\n",
    "# add_password('sample1.pdf','sample1_protected.pdf','123')  \n",
    "mergepdf(pdf_files,'combined_pdf.pdf')      "
   ]
  },
  {
   "cell_type": "code",
   "execution_count": null,
   "id": "0ba78a15",
   "metadata": {},
   "outputs": [],
   "source": []
  }
 ],
 "metadata": {
  "kernelspec": {
   "display_name": "Python 3",
   "language": "python",
   "name": "python3"
  },
  "language_info": {
   "codemirror_mode": {
    "name": "ipython",
    "version": 3
   },
   "file_extension": ".py",
   "mimetype": "text/x-python",
   "name": "python",
   "nbconvert_exporter": "python",
   "pygments_lexer": "ipython3",
   "version": "3.13.5"
  }
 },
 "nbformat": 4,
 "nbformat_minor": 5
}
