{
 "cells": [
  {
   "cell_type": "code",
   "execution_count": 1,
   "id": "2ed0eae3",
   "metadata": {},
   "outputs": [
    {
     "name": "stdout",
     "output_type": "stream",
     "text": [
      "{'name': 'imran khan', 'age': 72, 'famous': 'yes'}\n"
     ]
    }
   ],
   "source": [
    "# Dict Methods\n",
    "# update() this method update the value in dict it it exist otherwise it will create a new key\n",
    "pm_of_pak = {\"name\":\"imran khan\",\"age\":72}\n",
    "pm_of_pak.update({\"famous\":\"yes\"}\n",
    "                 )\n",
    "print(pm_of_pak)"
   ]
  },
  {
   "cell_type": "code",
   "execution_count": 2,
   "id": "1a5d45cb",
   "metadata": {},
   "outputs": [
    {
     "name": "stdout",
     "output_type": "stream",
     "text": [
      "{}\n"
     ]
    }
   ],
   "source": [
    "# clear() this method will clear all the items in a dict \n",
    "city_wise_pop = {'sialkot':444,'lahore':8898}\n",
    "city_wise_pop.clear()\n",
    "print(city_wise_pop)"
   ]
  },
  {
   "cell_type": "code",
   "execution_count": 8,
   "id": "1575d5f0",
   "metadata": {},
   "outputs": [
    {
     "name": "stdout",
     "output_type": "stream",
     "text": [
      "1947 <class 'str'>\n",
      "('india', '1947') <class 'tuple'>\n",
      "{}\n"
     ]
    }
   ],
   "source": [
    "\n",
    "# pop method remove the key value if in dict it has key that are matching  \n",
    "# popitem method remove the last item in a  dict  and return a tuple\n",
    "country_become = {'pakistan':'1947',\"india\":'1947'}\n",
    "remove_item1= country_become.pop('pakistan')\n",
    "remove_item2= country_become.popitem()\n",
    "\n",
    "\n",
    "print(remove_item1,type(remove_item1))\n",
    "print(remove_item2,type(remove_item2))\n",
    "print(country_become)"
   ]
  },
  {
   "cell_type": "code",
   "execution_count": null,
   "id": "ad3a2709",
   "metadata": {},
   "outputs": [
    {
     "ename": "KeyError",
     "evalue": "'ages'",
     "output_type": "error",
     "traceback": [
      "\u001b[31m---------------------------------------------------------------------------\u001b[39m",
      "\u001b[31mKeyError\u001b[39m                                  Traceback (most recent call last)",
      "\u001b[36mCell\u001b[39m\u001b[36m \u001b[39m\u001b[32mIn[11]\u001b[39m\u001b[32m, line 3\u001b[39m\n\u001b[32m      1\u001b[39m \u001b[38;5;66;03m# del behave in two ways\u001b[39;00m\n\u001b[32m      2\u001b[39m pm_of_pak = {\u001b[33m\"\u001b[39m\u001b[33mname\u001b[39m\u001b[33m\"\u001b[39m:\u001b[33m\"\u001b[39m\u001b[33mimran khan\u001b[39m\u001b[33m\"\u001b[39m,\u001b[33m\"\u001b[39m\u001b[33mage\u001b[39m\u001b[33m\"\u001b[39m:\u001b[32m72\u001b[39m}\n\u001b[32m----> \u001b[39m\u001b[32m3\u001b[39m \u001b[38;5;28;01mdel\u001b[39;00m \u001b[43mpm_of_pak\u001b[49m\u001b[43m[\u001b[49m\u001b[33;43m\"\u001b[39;49m\u001b[33;43mages\u001b[39;49m\u001b[33;43m\"\u001b[39;49m\u001b[43m]\u001b[49m\n\u001b[32m      4\u001b[39m \u001b[38;5;28mprint\u001b[39m(pm_of_pak)\n\u001b[32m      5\u001b[39m \u001b[38;5;28;01mdel\u001b[39;00m pm_of_pak\n",
      "\u001b[31mKeyError\u001b[39m: 'ages'"
     ]
    }
   ],
   "source": [
    "# del behave in two ways we can remove the item in a dict by passing the key and we can delete the entire dict \n",
    "pm_of_pak = {\"name\":\"imran khan\",\"age\":72}\n",
    "del pm_of_pak[\"age\"]\n",
    "print(pm_of_pak)\n",
    "del pm_of_pak\n",
    "print(pm_of_pak)"
   ]
  },
  {
   "cell_type": "code",
   "execution_count": null,
   "id": "65252e4d",
   "metadata": {},
   "outputs": [],
   "source": [
    "\n"
   ]
  }
 ],
 "metadata": {
  "kernelspec": {
   "display_name": "Python 3",
   "language": "python",
   "name": "python3"
  },
  "language_info": {
   "codemirror_mode": {
    "name": "ipython",
    "version": 3
   },
   "file_extension": ".py",
   "mimetype": "text/x-python",
   "name": "python",
   "nbconvert_exporter": "python",
   "pygments_lexer": "ipython3",
   "version": "3.13.3"
  }
 },
 "nbformat": 4,
 "nbformat_minor": 5
}
