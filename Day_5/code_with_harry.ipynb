{
 "cells": [
  {
   "cell_type": "markdown",
   "id": "e7a9ca49",
   "metadata": {},
   "source": [
    "# Day 5 - Comments, Escape sequence & Print in Python\n",
    "\n",
    "Welcome to Day 5 of 100DaysOfCode. Today we will talk about Comments, Escape Sequences and little bit more about print statement in Python.\n",
    "We will also throw some light on Escape Sequences\n",
    "\n",
    "# Python Comments\n",
    "A comment is a part of the coding file that the programmer does not want to execute, rather the programmer uses it to either explain a block of code or to avoid the execution of a specific part of code while testing.\n",
    "\n",
    "## Single-Line Comments:\n",
    "\n",
    "To write a comment just add a ‘#’ at the start of the line.\n",
    "\n",
    "### Example 1\n",
    "\n",
    "```python\n",
    "#This is a 'Single-Line Comment'\n",
    "print(\"This is a print statement.\")\n",
    "``` \n",
    "\n",
    "Output:\n",
    "\n",
    "```markup\n",
    "This is a print statement. \n",
    "``` \n",
    "\n",
    "### Example 2\n",
    "\n",
    "```python\n",
    "print(\"Hello World !!!\") #Printing Hello World\n",
    "```\n",
    "\n",
    "Output:\n",
    "\n",
    "```markup\n",
    "Hello World !!!\n",
    "``` \n",
    "\n",
    "### Example 3:\n",
    "\n",
    "```python\n",
    "print(\"Python Program\")\n",
    "#print(\"Python Program\")\n",
    "``` \n",
    "\n",
    "### Output: \n",
    "\n",
    "```markup\n",
    "Python Program\n",
    "``` \n",
    "## Multi-Line Comments:\n",
    "\n",
    "To write multi-line comments you can use ‘#’ at each line or you can use the multiline string.\n",
    "\n",
    "**Example 1:** The use of ‘#’.\n",
    "\n",
    "```python\n",
    "#It will execute a block of code if a specified condition is true.\n",
    "#If the condition is false then it will execute another block of code.\n",
    "p = 7\n",
    "if (p > 5):\n",
    "    print(\"p is greater than 5.\")\n",
    "else:\n",
    "    print(\"p is not greater than 5.\")\n",
    "```\n",
    "\n",
    "\n",
    "Output:\n",
    "\n",
    "```markup\n",
    "p is greater than 5.\n",
    "```\n",
    "\n",
    "\n",
    "**Example 2:** The use of multiline string.\n",
    "\n",
    "```python\n",
    "\"\"\"This is an if-else statement.\n",
    "It will execute a block of code if a specified condition is true.\n",
    "If the condition is false then it will execute another block of code.\"\"\"\n",
    "p = 7\n",
    "if (p > 5):\n",
    "    print(\"p is greater than 5.\")\n",
    "else:\n",
    "    print(\"p is not greater than 5.\")\n",
    "```\n",
    "\n",
    "\n",
    "### Output\n",
    "\n",
    "```markup\n",
    "p is greater than 5.\n",
    "```\n",
    "\n",
    "# Escape Sequence Characters\n",
    "\n",
    "To insert characters that cannot be directly used in a string, we use an escape sequence character.\n",
    "\n",
    "An escape sequence character is a backslash  `\\`  followed by the character you want to insert.\n",
    "\n",
    "An example of a character that cannot be directly used in a string is a double quote inside a string that is surrounded by double quotes:\n",
    "\n",
    "```python\n",
    "print(\"This doesnt \"execute\")\n",
    "print(\"This will \\\" execute\")\n",
    "```\n",
    "\n",
    "# More on Print statement\n",
    "The syntax of a print statement looks something like this:\n",
    "\n",
    "```python\n",
    "print(object(s), sep=separator, end=end, file=file, flush=flush)\n",
    "```\n",
    "\n",
    "## Other Parameters of Print Statement \n",
    "1. object(s): Any object, and as many as you like. Will be converted to string before printed\n",
    "2. sep='separator': Specify how to separate the objects, if there is more than one. Default is ' '\n",
    "3. end='end': Specify what to print at the end. Default is '\\n' (line feed)\n",
    "4. file: An object with a write method. Default is sys.stdout\n",
    "5. flush=flush\n",
    "\n",
    "    - What it is: flush is a boolean keyword argument (meaning it can be True or False).\n",
    "\n",
    "    - What it does: It controls whether the output buffer should be \"flushed\" immediately.\n",
    "\n",
    "    - Default Value: False.\n",
    "\n",
    "    - How it works:\n",
    "\n",
    "        - When flush is False, Python's print() function (and underlying operating system mechanisms) often buffers the output. This means it collects a small amount of text in memory before actually writing it to the console or file. Buffering improves performance.\n",
    "        - When flush is True, it forces the output to be written immediately to the destination (console or file) without waiting for the buffer to fill up or for the program to complete.\n",
    "        - This is typically used in scenarios where you need to see output right away, such as during long-running processes, real-time logging, or interactive command-line applications, where waiting for a buffer to fill might cause a delay in seeing progress.\n",
    "    Parameters 2 to 4 are optional "
   ]
  },
  {
   "cell_type": "code",
   "execution_count": 2,
   "id": "3adef5b2",
   "metadata": {},
   "outputs": [
    {
     "ename": "SyntaxError",
     "evalue": "unterminated string literal (detected at line 1) (444023554.py, line 1)",
     "output_type": "error",
     "traceback": [
      "  \u001b[36mCell\u001b[39m\u001b[36m \u001b[39m\u001b[32mIn[2]\u001b[39m\u001b[32m, line 1\u001b[39m\n\u001b[31m    \u001b[39m\u001b[31mprint('hi\u001b[39m\n          ^\n\u001b[31mSyntaxError\u001b[39m\u001b[31m:\u001b[39m unterminated string literal (detected at line 1)\n"
     ]
    }
   ],
   "source": [
    "print('hi \n",
    "      i am arman')"
   ]
  },
  {
   "cell_type": "code",
   "execution_count": 1,
   "id": "0860611f",
   "metadata": {},
   "outputs": [
    {
     "name": "stdout",
     "output_type": "stream",
     "text": [
      "hi \n",
      " i am arman\n",
      "'hi \\n i am arman'\n"
     ]
    }
   ],
   "source": [
    "# comments by using the #\n",
    "print(\"hi \\n i am arman\")\n",
    "intro=\"hi \\n i am arman\"\n",
    "print(f\"{intro!r}\")"
   ]
  },
  {
   "cell_type": "code",
   "execution_count": 4,
   "id": "a4ecc8a4",
   "metadata": {},
   "outputs": [
    {
     "name": "stdout",
     "output_type": "stream",
     "text": [
      "hi \n",
      " i am arman\n"
     ]
    }
   ],
   "source": [
    "\"\"\"This is a multi-line comment\n",
    "\"\"\"\n",
    "\n",
    "print(\"hi \\n i am arman\")"
   ]
  },
  {
   "cell_type": "code",
   "execution_count": 5,
   "id": "c1733e6f",
   "metadata": {},
   "outputs": [
    {
     "name": "stdout",
     "output_type": "stream",
     "text": [
      "i am \"good\" at python\n"
     ]
    }
   ],
   "source": [
    "print(\"i am \\\"good\\\" at python\")"
   ]
  },
  {
   "cell_type": "code",
   "execution_count": null,
   "id": "e9ea7582",
   "metadata": {},
   "outputs": [
    {
     "name": "stdout",
     "output_type": "stream",
     "text": [
      "I am good at python*i am from pak!"
     ]
    }
   ],
   "source": [
    "print(\"I am good at python\",\"i am from pak\",sep=\"*\",end=\"!\") # By default sep=space and end=\\n\n"
   ]
  },
  {
   "cell_type": "code",
   "execution_count": 11,
   "id": "b361c324",
   "metadata": {},
   "outputs": [
    {
     "name": "stdout",
     "output_type": "stream",
     "text": [
      "<class '_io.TextIOWrapper'>\n"
     ]
    }
   ],
   "source": [
    "import os\n",
    "with open(\"test.txt\", \"w\") as f: \n",
    "    print(type(f))\n",
    "    print(\"hi \\n i am arman\", file=f)  "
   ]
  },
  {
   "cell_type": "code",
   "execution_count": 10,
   "id": "700ff686",
   "metadata": {},
   "outputs": [
    {
     "name": "stdout",
     "output_type": "stream",
     "text": [
      "✅ This is normal output\n"
     ]
    },
    {
     "name": "stderr",
     "output_type": "stream",
     "text": [
      "❌ This is an error message\n"
     ]
    }
   ],
   "source": [
    "import sys\n",
    "\n",
    "print(\"✅ This is normal output\", file=sys.stdout)\n",
    "print(\"❌ This is an error message\", file=sys.stderr)\n"
   ]
  },
  {
   "cell_type": "code",
   "execution_count": null,
   "id": "54e573c3",
   "metadata": {},
   "outputs": [],
   "source": []
  }
 ],
 "metadata": {
  "kernelspec": {
   "display_name": "Python 3",
   "language": "python",
   "name": "python3"
  },
  "language_info": {
   "codemirror_mode": {
    "name": "ipython",
    "version": 3
   },
   "file_extension": ".py",
   "mimetype": "text/x-python",
   "name": "python",
   "nbconvert_exporter": "python",
   "pygments_lexer": "ipython3",
   "version": "3.13.3"
  }
 },
 "nbformat": 4,
 "nbformat_minor": 5
}
