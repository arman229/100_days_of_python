{
 "cells": [
  {
   "cell_type": "code",
   "execution_count": null,
   "id": "e5f08bde",
   "metadata": {},
   "outputs": [
    {
     "name": "stdout",
     "output_type": "stream",
     "text": [
      "Woof\n"
     ]
    }
   ],
   "source": [
    "catsOrDogs = input(\"Are you a cat person? Or a dog person?: \")\n",
    "if catsOrDogs == \"cat\":\n",
    "    print(\"Meow\")\n",
    "else:\n",
    "    print(\"Woof\")"
   ]
  },
  {
   "cell_type": "code",
   "execution_count": null,
   "id": "f91acc55",
   "metadata": {},
   "outputs": [
    {
     "name": "stdout",
     "output_type": "stream",
     "text": [
      "Woof\n"
     ]
    }
   ],
   "source": [
    "catsOrDogs = input(\"Are you a cat person? Or a dog person?: \")\n",
    "if catsOrDogs == \"cat\":\n",
    "    print(\"Meow\")\n",
    "else:\n",
    "    print(\"Woof\")"
   ]
  },
  {
   "cell_type": "code",
   "execution_count": null,
   "id": "dae48430",
   "metadata": {},
   "outputs": [
    {
     "name": "stdout",
     "output_type": "stream",
     "text": [
      "Woof\n"
     ]
    }
   ],
   "source": [
    "catsOrDogs = input(\"Are you a cat person? Or a dog person?: \")\n",
    "if catsOrDogs == \"cat\":\n",
    "    print(\"Meow\")\n",
    "else:\n",
    "    print(\"Woof\")"
   ]
  },
  {
   "cell_type": "code",
   "execution_count": 5,
   "id": "b7e00d6b",
   "metadata": {},
   "outputs": [
    {
     "name": "stdout",
     "output_type": "stream",
     "text": [
      "Tea is better.\n"
     ]
    }
   ],
   "source": [
    "drink = input(\"Do you prefer coffee or tea?\")\n",
    "if drink == \"coffee\":\n",
    "  print(\"Tea is better.\")\n",
    "else:\n",
    "  print(\"Excellent choice.\")"
   ]
  },
  {
   "cell_type": "code",
   "execution_count": 6,
   "id": "145804db",
   "metadata": {},
   "outputs": [
    {
     "name": "stdout",
     "output_type": "stream",
     "text": [
      "Which character are you from 'Avengers?'\n",
      "\n",
      "Answer these questions and let's find out.\n",
      "\n",
      "Please use Y or N for yes and no.\n",
      "You must be the Hulk!\n",
      "I guess you are not like anyone from 'Avengers.'\n"
     ]
    }
   ],
   "source": [
    "print(\"Which character are you from 'Avengers?'\")\n",
    "print()\n",
    "print(\"Answer these questions and let's find out.\")\n",
    "print()\n",
    "print(\"Please use Y or N for yes and no.\")\n",
    "\n",
    "likeGreen = input(\"Do you like the color green?: \")\n",
    "if likeGreen == \"Y\":\n",
    "  print(\"You must be the Hulk!\")\n",
    "\n",
    "IronIsCool = input(\"Do you think building robots is cool?: \")  \n",
    "if IronIsCool == \"Y\":\n",
    "  print(\"You must be Iron Man. Cool suit!\")\n",
    "\n",
    "TimeTravel = input(\"Do you like traveling through time?: \")  \n",
    "if TimeTravel == \"Y\":\n",
    "  print(\"You must be Captain America!\")\n",
    "\n",
    "Strong = input(\"Are you super strong?: \")\n",
    "if Strong == \"Y\":\n",
    "  print(\"You have got to be Thor!\")\n",
    "else:\n",
    "  print(\"I guess you are not like anyone from 'Avengers.'\")"
   ]
  }
 ],
 "metadata": {
  "kernelspec": {
   "display_name": "Python 3",
   "language": "python",
   "name": "python3"
  },
  "language_info": {
   "codemirror_mode": {
    "name": "ipython",
    "version": 3
   },
   "file_extension": ".py",
   "mimetype": "text/x-python",
   "name": "python",
   "nbconvert_exporter": "python",
   "pygments_lexer": "ipython3",
   "version": "3.13.3"
  }
 },
 "nbformat": 4,
 "nbformat_minor": 5
}
