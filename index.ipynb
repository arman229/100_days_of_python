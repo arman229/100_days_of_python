{
 "cells": [
  {
   "cell_type": "code",
   "execution_count": 1,
   "id": "011b9c67",
   "metadata": {},
   "outputs": [],
   "source": [
    "import os \n",
    "for i in range(61,71):\n",
    "    folder_name = f\"Day_{i}\"\n",
    "    if not os.path.exists(folder_name):\n",
    "        os.mkdir(folder_name)\n",
    "    file_1 = os.path.join(folder_name,'code_with_harry.ipynb')    \n",
    "    file_2 = os.path.join(folder_name,'replit.ipynb')   \n",
    "    for fi in [file_1,file_2]:\n",
    "        if not  os.path.exists(fi):\n",
    "            with open(fi,'w') as f:\n",
    "                pass\n",
    " "
   ]
  },
  {
   "cell_type": "code",
   "execution_count": null,
   "id": "6c794cb5",
   "metadata": {},
   "outputs": [],
   "source": []
  }
 ],
 "metadata": {
  "kernelspec": {
   "display_name": "Python 3",
   "language": "python",
   "name": "python3"
  },
  "language_info": {
   "codemirror_mode": {
    "name": "ipython",
    "version": 3
   },
   "file_extension": ".py",
   "mimetype": "text/x-python",
   "name": "python",
   "nbconvert_exporter": "python",
   "pygments_lexer": "ipython3",
   "version": "3.13.5"
  }
 },
 "nbformat": 4,
 "nbformat_minor": 5
}
