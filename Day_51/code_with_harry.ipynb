{
 "cells": [
  {
   "cell_type": "code",
   "execution_count": null,
   "id": "c53d9f36",
   "metadata": {},
   "outputs": [
    {
     "name": "stdout",
     "output_type": "stream",
     "text": [
      "hi\n"
     ]
    }
   ],
   "source": [
    "# seek() This method moves the cursor in a file from current postion to seek position\n",
    "# tell() This method returns the current position within a file\n",
    "# truncate() This method truncate the text in a file"
   ]
  },
  {
   "cell_type": "code",
   "execution_count": 5,
   "id": "7d3b4ba4",
   "metadata": {},
   "outputs": [
    {
     "name": "stdout",
     "output_type": "stream",
     "text": [
      "10\n",
      "man\n"
     ]
    }
   ],
   "source": [
    "with open('text.txt','+w') as f:\n",
    "    f.write('Hi i am arman')\n",
    "    # f.truncate(6)\n",
    "with open('text.txt','r') as f:\n",
    "    f.seek(10)\n",
    "    current_position = f.tell()\n",
    "    print(current_position)\n",
    "    print(f.read())    "
   ]
  },
  {
   "cell_type": "code",
   "execution_count": null,
   "id": "8847a22b",
   "metadata": {},
   "outputs": [],
   "source": []
  }
 ],
 "metadata": {
  "kernelspec": {
   "display_name": "Python 3",
   "language": "python",
   "name": "python3"
  },
  "language_info": {
   "codemirror_mode": {
    "name": "ipython",
    "version": 3
   },
   "file_extension": ".py",
   "mimetype": "text/x-python",
   "name": "python",
   "nbconvert_exporter": "python",
   "pygments_lexer": "ipython3",
   "version": "3.13.5"
  }
 },
 "nbformat": 4,
 "nbformat_minor": 5
}
