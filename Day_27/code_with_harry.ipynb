{
 "cells": [
  {
   "cell_type": "code",
   "execution_count": 7,
   "id": "b60829ed",
   "metadata": {},
   "outputs": [
    {
     "name": "stdout",
     "output_type": "stream",
     "text": [
      "Welcome to KBC Game!\n",
      "Answer the questions to win money. One wrong answer, and the game ends!\n",
      "\n",
      "--- Question 1 ---\n",
      "Who is current president of Pakistan\n",
      "A. Asif Ali Zardari\n",
      "B. Imran Khan\n",
      "C. Nawaz Sharif\n",
      "D. Bilawal Bhutto\n",
      "Incorrect! The correct answer was A.\n",
      "Game Over! Better luck next time.\n",
      "\n",
      "--- Game Summary ---\n",
      "Thanks for playing!\n",
      "Your total winnings: $0\n"
     ]
    }
   ],
   "source": [
    "def kbg():\n",
    "    total_winnings = 0\n",
    "    list_of_questions = [{'id':1,\"question\":\"Who is current president of Pakistan\",\"options\":[\"A. Asif Ali Zardari\",\"B. Imran Khan\",\"C. Nawaz Sharif\",\"D. Bilawal Bhutto\"],\"answer\":\"A\",\"prize\":1000},]\n",
    "    print(\"Welcome to KBC Game!\")\n",
    "    print(\"Answer the questions to win money. One wrong answer, and the game ends!\\n\")\n",
    "    for i in list_of_questions:\n",
    "        print(f\"--- Question {i['id']} ---\")\n",
    "        print(i['question'])\n",
    "        for option in i['options']:\n",
    "            print(option)\n",
    "        while True:\n",
    "            user_answer = input(\"Your answer (A, B, C, or D): \").strip().upper()\n",
    "            if user_answer in ['A', 'B', 'C', 'D']:\n",
    "                break\n",
    "            else:\n",
    "                print(\"Invalid input. Please enter A, B, C, or D.\")\n",
    "                \n",
    "        if user_answer == i['answer']:\n",
    "            total_winnings += i['prize']\n",
    "            print(f\"Correct! You've won {i['prize']}! 🎉\")\n",
    "        else:\n",
    "            print(f\"Incorrect! The correct answer was {i['answer']}.\")\n",
    "            print(\"Game Over! Better luck next time.\\n\")\n",
    "            break    \n",
    "    print(\"--- Game Summary ---\")\n",
    "    print(\"Thanks for playing!\") \n",
    "    print(f\"Your total winnings: ${total_winnings}\")   \n",
    "kbg()"
   ]
  }
 ],
 "metadata": {
  "kernelspec": {
   "display_name": "Python 3",
   "language": "python",
   "name": "python3"
  },
  "language_info": {
   "codemirror_mode": {
    "name": "ipython",
    "version": 3
   },
   "file_extension": ".py",
   "mimetype": "text/x-python",
   "name": "python",
   "nbconvert_exporter": "python",
   "pygments_lexer": "ipython3",
   "version": "3.13.3"
  }
 },
 "nbformat": 4,
 "nbformat_minor": 5
}
