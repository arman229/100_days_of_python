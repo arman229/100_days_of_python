{
 "cells": [
  {
   "cell_type": "markdown",
   "id": "894f8713",
   "metadata": {},
   "source": [
    "# Inheritance in python\n",
    "# inheritance means one class use other class properties and methods \n",
    "            "
   ]
  },
  {
   "cell_type": "code",
   "execution_count": 4,
   "id": "1e8ec5d9",
   "metadata": {},
   "outputs": [
    {
     "name": "stdout",
     "output_type": "stream",
     "text": [
      "ashraf\n"
     ]
    }
   ],
   "source": [
    "\n",
    "class Father:\n",
    "    def __init__(self,name,country):\n",
    "        self.name = name\n",
    "        self.country = country\n",
    "    def print_name(self):\n",
    "        print(self.name)\n",
    "father = Father('ashraf','pakistan')\n",
    "father.print_name()"
   ]
  },
  {
   "cell_type": "code",
   "execution_count": 15,
   "id": "991b0186",
   "metadata": {},
   "outputs": [
    {
     "name": "stdout",
     "output_type": "stream",
     "text": [
      "ashraf pakistan\n",
      "arman pakistan 24\n"
     ]
    }
   ],
   "source": [
    "\n",
    "class Father:\n",
    "    def __init__(self,name,country):\n",
    "        self.name = name\n",
    "        self.country = country\n",
    "        self.age = None\n",
    "    def print_name(self):\n",
    "        if self.age !=None:\n",
    "            print(self.name,self.country,self.age)\n",
    "        else:\n",
    "            print(self.name,self.country)\n",
    "class Child(Father):\n",
    "    def __init__(self,name,country,age):\n",
    "        super().__init__(name,country)\n",
    "        self.age = age\n",
    "\n",
    "father = Father('ashraf','pakistan')\n",
    "father.print_name()\n",
    "\n",
    "son_1 = Child('arman','pakistan','24')\n",
    "son_1.print_name()"
   ]
  },
  {
   "cell_type": "code",
   "execution_count": 16,
   "id": "e905685c",
   "metadata": {},
   "outputs": [
    {
     "name": "stdout",
     "output_type": "stream",
     "text": [
      "ashraf pakistan\n",
      "arman pakistan 24\n"
     ]
    }
   ],
   "source": [
    "class Father:\n",
    "    def __init__(self, name, country):\n",
    "        self.name = name\n",
    "        self.country = country\n",
    "\n",
    "    def print_name(self):\n",
    "        if hasattr(self, 'age'):\n",
    "            print(self.name, self.country, self.age)\n",
    "        else:\n",
    "            print(self.name, self.country)\n",
    "\n",
    "class Child(Father):\n",
    "    def __init__(self, name, country, age):\n",
    "        super().__init__(name, country)\n",
    "        self.age = age\n",
    "\n",
    "father = Father('ashraf', 'pakistan')\n",
    "father.print_name()\n",
    "\n",
    "son_1 = Child('arman', 'pakistan', '24')\n",
    "son_1.print_name()\n"
   ]
  },
  {
   "cell_type": "code",
   "execution_count": null,
   "id": "1f998f24",
   "metadata": {},
   "outputs": [],
   "source": [
    "# Types of inheritance\n",
    "# single inheritance: one child inherits form one parent\n",
    "\n",
    "class Father:\n",
    "    def __init__(self,name,country):\n",
    "        self.name = name\n",
    "        self.country = country\n",
    "        self.age = None\n",
    "    def print_name(self):\n",
    "        if self.age !=None:\n",
    "            print(self.name,self.country,self.age)\n",
    "        else:\n",
    "            print(self.name,self.country)\n",
    "class Child(Father):\n",
    "    def __init__(self,name,country,age):\n",
    "        super().__init__(name,country)\n",
    "        self.age = age\n",
    "\n",
    "father = Father('ashraf','pakistan')\n",
    "father.print_name()\n",
    "\n",
    "son_1 = Child('arman','pakistan','24')\n",
    "son_1.print_name()"
   ]
  },
  {
   "cell_type": "code",
   "execution_count": 21,
   "id": "4d6318e3",
   "metadata": {},
   "outputs": [
    {
     "name": "stdout",
     "output_type": "stream",
     "text": [
      "mother\n",
      "arman\n"
     ]
    }
   ],
   "source": [
    "# Multiple inheritance: one child inherits from multiple parents\n",
    "# super(): super is a built in function in python that allows us to call methods from parent or superclass\n",
    "class Father:\n",
    "    def __init__(self,**kwargs):\n",
    "        self.name = kwargs.get('name','')\n",
    "    def print_name(self):\n",
    "        print('father')\n",
    "        print(self.name,)\n",
    "\n",
    "class Mother:\n",
    "    def __init__(self,**kwargs):\n",
    "        self.age = kwargs.get('age','')\n",
    "        self.name = kwargs.get('name','')\n",
    "\n",
    "    def print_name(self):\n",
    "        print('mother')\n",
    "        print(self.name)\n",
    "\n",
    "    def print_age(self):\n",
    "        print(self.age)\n",
    "\n",
    "\n",
    "class Child(Mother,Father):\n",
    "    def __init__(self,age,name,height):\n",
    "        super().__init__(age=age,name=name)\n",
    "        self.height = height\n",
    "        \n",
    "\n",
    " \n",
    "son_1 = Child(24,'arman',6)\n",
    "son_1.print_name()"
   ]
  },
  {
   "cell_type": "code",
   "execution_count": 24,
   "id": "df5e3593",
   "metadata": {},
   "outputs": [
    {
     "name": "stdout",
     "output_type": "stream",
     "text": [
      "father\n",
      "arman\n",
      "24\n"
     ]
    }
   ],
   "source": [
    "class Father:\n",
    "    def __init__(self, name):\n",
    "        self.name = name \n",
    "    def print_name(self):\n",
    "        print('father')\n",
    "        print(self.name)\n",
    "\n",
    "class Mother:\n",
    "    def __init__(self, age, name):\n",
    "        self.age = age\n",
    "        self.name = name\n",
    "\n",
    "    def print_name(self):\n",
    "        print('mother')\n",
    "        print(self.name)\n",
    "\n",
    "    def print_age(self):\n",
    "        print(self.age)\n",
    "\n",
    "class Child(Father, Mother):\n",
    "    def __init__(self, age, name, height):\n",
    "        Father.__init__(self, name)\n",
    "        Mother.__init__(self, age, name)\n",
    "        self.height = height\n",
    "\n",
    "son_1 = Child(24, 'arman', 6)\n",
    "son_1.print_name()  \n",
    "son_1.print_age()   \n"
   ]
  },
  {
   "cell_type": "code",
   "execution_count": 28,
   "id": "3c0d87f7",
   "metadata": {},
   "outputs": [
    {
     "name": "stdout",
     "output_type": "stream",
     "text": [
      "A\n",
      "B\n",
      "C\n"
     ]
    }
   ],
   "source": [
    "# multilevel inheritance: It's a chain of inheritance one level after another\n",
    "class A:\n",
    "    def print_a(slef):\n",
    "        print('A')\n",
    "class B(A):\n",
    "    def print_b(slef):\n",
    "        print('B')\n",
    "\n",
    "class C(B):\n",
    "    def print_c(slef):\n",
    "        print('C')                \n",
    "c = C() \n",
    "c.print_a()        \n",
    "c.print_b()        \n",
    "c.print_c()        "
   ]
  },
  {
   "cell_type": "code",
   "execution_count": 32,
   "id": "85b564b3",
   "metadata": {},
   "outputs": [
    {
     "name": "stdout",
     "output_type": "stream",
     "text": [
      "arman\n"
     ]
    }
   ],
   "source": [
    "# Hierarchical  inheritance: one parant many children\n",
    "\n",
    "class Father:\n",
    "    def __init__(self,name):\n",
    "        self.name = name\n",
    "    def print_name(self):\n",
    "        print(self.name)\n",
    "\n",
    "class Child1(Father):\n",
    "    def __init__(self,name):\n",
    "        super().__init__(name)\n",
    "\n",
    "class Child2(Father):\n",
    "    \n",
    "    def __init__(self,name):\n",
    "        super().__init__(name) \n",
    "\n",
    "arman= Child1('arman')\n",
    "arman.print_name()"
   ]
  },
  {
   "cell_type": "code",
   "execution_count": 36,
   "id": "1973fcd5",
   "metadata": {},
   "outputs": [
    {
     "name": "stdout",
     "output_type": "stream",
     "text": [
      "arman\n"
     ]
    }
   ],
   "source": [
    "# Hybrid inheritance: Combination of multiple types\n",
    " \n",
    "\n",
    "class Father:\n",
    "    def __init__(self,name):\n",
    "        self.name = name\n",
    "    def print_name(self):\n",
    "        print(self.name)\n",
    "\n",
    "class Mother:\n",
    "    def __init__(self,name):\n",
    "        self.name = name\n",
    "    def print_name(self):\n",
    "        print(self.name)\n",
    "class Child1(Father,Mother):\n",
    "    def __init__(self,name):\n",
    "        super().__init__(name)\n",
    "\n",
    "class Child2(Father,Mother):\n",
    "    \n",
    "    def __init__(self,name):\n",
    "        super().__init__(name) \n",
    "\n",
    "arman= Child1('arman')\n",
    "arman.print_name()"
   ]
  },
  {
   "cell_type": "code",
   "execution_count": null,
   "id": "d714c234",
   "metadata": {},
   "outputs": [],
   "source": []
  }
 ],
 "metadata": {
  "kernelspec": {
   "display_name": "Python 3",
   "language": "python",
   "name": "python3"
  },
  "language_info": {
   "codemirror_mode": {
    "name": "ipython",
    "version": 3
   },
   "file_extension": ".py",
   "mimetype": "text/x-python",
   "name": "python",
   "nbconvert_exporter": "python",
   "pygments_lexer": "ipython3",
   "version": "3.13.5"
  }
 },
 "nbformat": 4,
 "nbformat_minor": 5
}
