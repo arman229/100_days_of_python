{
 "cells": [
  {
   "cell_type": "code",
   "execution_count": 2,
   "id": "3c2c84f5",
   "metadata": {},
   "outputs": [
    {
     "name": "stdout",
     "output_type": "stream",
     "text": [
      "Welcome to school\n",
      "Ghazali school system\n"
     ]
    }
   ],
   "source": [
    "# @property: This is a special decorator in python that lets you use a method as variable\n",
    "\n",
    "class School:\n",
    "    s_name='Ghazali school system'\n",
    "    def __init__(self):\n",
    "        print('Welcome to school')\n",
    "\n",
    "    def  get_school_name(self):\n",
    "        return f\"{self.s_name}\"\n",
    "    \n",
    "school = School()\n",
    "print(school.get_school_name())    "
   ]
  },
  {
   "cell_type": "code",
   "execution_count": 7,
   "id": "32bc3210",
   "metadata": {},
   "outputs": [
    {
     "name": "stdout",
     "output_type": "stream",
     "text": [
      "Welcome to school\n",
      "Ghazali school system\n"
     ]
    }
   ],
   "source": [
    "# @property: This is a special decorator in python that lets you use a method as variable\n",
    "\n",
    "class Schools:\n",
    "    s_name='Ghazali school system'\n",
    "    def __init__(self):\n",
    "        print('Welcome to school')\n",
    "    @property\n",
    "    def  get_school_name(self):\n",
    "        return f\"{self.s_name}\"\n",
    "    \n",
    "Schools = Schools()\n",
    "print(Schools.get_school_name)    "
   ]
  },
  {
   "cell_type": "code",
   "execution_count": null,
   "id": "f6f8a741",
   "metadata": {},
   "outputs": [
    {
     "name": "stdout",
     "output_type": "stream",
     "text": [
      "13455\n",
      "122222\n",
      "arman\n",
      "122222\n"
     ]
    }
   ],
   "source": [
    "class CreditCard:\n",
    "    def __init__(self,card_no,name):\n",
    "        self._card_no=card_no\n",
    "        self.name=name\n",
    "    # this is getter method\n",
    "    def get_card_no(self):\n",
    "        return self._card_no\n",
    "    # this is setter method\n",
    "    def update_card_no(self,new_val):\n",
    "        self._card_no = new_val\n",
    "\n",
    "arman_credit=CreditCard(13455,'arman')\n",
    "print(arman_credit.get_card_no()) \n",
    "arman_credit.update_card_no(122222)\n",
    "print(arman_credit.get_card_no()) \n",
    "print(arman_credit.name) \n",
    "print(arman_credit._card_no) \n"
   ]
  },
  {
   "cell_type": "code",
   "execution_count": null,
   "id": "31add951",
   "metadata": {},
   "outputs": [],
   "source": [
    "# Getters ans Setters methods used to get and set the value of class attributes especially when they are private or protected"
   ]
  },
  {
   "cell_type": "code",
   "execution_count": 9,
   "id": "0ae75126",
   "metadata": {},
   "outputs": [
    {
     "name": "stdout",
     "output_type": "stream",
     "text": [
      "[13455, 33, 34]\n"
     ]
    }
   ],
   "source": [
    "class CreditCard:\n",
    "    def __init__(self,card_nu,name):\n",
    "        self._card_no=card_nu\n",
    "        self.name=name\n",
    "    # this is getter method\n",
    "    @property\n",
    "    def card_no(self):\n",
    "        return self._card_no\n",
    "    @card_no.setter\n",
    "    def card_no(self,new_val):\n",
    "        self._card_no = new_val\n",
    "\n",
    "arman_credit=CreditCard([13455,33,34],'arman')\n",
    "print(arman_credit.card_no)  "
   ]
  },
  {
   "cell_type": "code",
   "execution_count": null,
   "id": "9789bb74",
   "metadata": {},
   "outputs": [
    {
     "name": "stdout",
     "output_type": "stream",
     "text": [
      "Your passport on the way and category is normal\n",
      "Deleter called\n"
     ]
    }
   ],
   "source": [
    "# Property is just like a hotel manager who know what is the  price of pasta. if someone ask it simple response\n",
    "# if govt ask to update the price the manager update it and delete it. \n",
    "class PassportMakes:\n",
    "    def __init__(self,category):\n",
    "        self._category=category\n",
    "    @property\n",
    "    def passport(self):\n",
    "        return f\"Your passport on the way and category is {self._category}\"\n",
    "    \n",
    "    @passport.deleter\n",
    "    def passport(self):\n",
    "        print(\"Deleter called\")\n",
    "        del self._category\n",
    "        return f\"your passport application is withdrawing\"  \n",
    "    @passport.setter  \n",
    "    def passport(self,new_value):\n",
    "        self._category=new_value\n",
    "        return f\"Your passport is reached on destination\"\n",
    "\n",
    "psp= PassportMakes('normal')  \n",
    " \n",
    "print(psp.passport)\n",
    "psp.passport='urgent'\n",
    "del psp.passport "
   ]
  },
  {
   "cell_type": "code",
   "execution_count": 21,
   "id": "58dbbf39",
   "metadata": {},
   "outputs": [
    {
     "name": "stdout",
     "output_type": "stream",
     "text": [
      "Your passport on the way and category is normal\n",
      "Deleter called\n"
     ]
    }
   ],
   "source": [
    "class PassportMakes:\n",
    "    def __init__(self,category):\n",
    "        self._category=category\n",
    "    \n",
    "    def get_psp(self):\n",
    "        return f\"Your passport on the way and category is {self._category}\"\n",
    "    \n",
    "    \n",
    "    def del_psp(self):\n",
    "        print(\"Deleter called\")\n",
    "        del self._category\n",
    "        return f\"your passport application is withdrawing\"  \n",
    "     \n",
    "    def set_psp(self,new_value):\n",
    "        self._category=new_value\n",
    "        return f\"Your passport is reached on destination\"\n",
    "    psp_propertry = property(get_psp,set_psp,del_psp)\n",
    "psp= PassportMakes('normal')  \n",
    " \n",
    "print(psp.psp_propertry)\n",
    "psp.psp_propertry='urgent'\n",
    "del psp.psp_propertry\n",
    "# print(psp.psp_propertry)\n",
    "\n"
   ]
  },
  {
   "cell_type": "code",
   "execution_count": null,
   "id": "dc2661f5",
   "metadata": {},
   "outputs": [],
   "source": []
  }
 ],
 "metadata": {
  "kernelspec": {
   "display_name": "Python 3",
   "language": "python",
   "name": "python3"
  },
  "language_info": {
   "codemirror_mode": {
    "name": "ipython",
    "version": 3
   },
   "file_extension": ".py",
   "mimetype": "text/x-python",
   "name": "python",
   "nbconvert_exporter": "python",
   "pygments_lexer": "ipython3",
   "version": "3.13.5"
  }
 },
 "nbformat": 4,
 "nbformat_minor": 5
}
