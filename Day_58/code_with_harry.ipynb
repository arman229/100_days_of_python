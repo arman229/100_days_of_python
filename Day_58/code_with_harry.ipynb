{
 "cells": [
  {
   "cell_type": "code",
   "execution_count": null,
   "id": "8bb12756",
   "metadata": {},
   "outputs": [
    {
     "name": "stdout",
     "output_type": "stream",
     "text": [
      "this is a college class\n"
     ]
    }
   ],
   "source": [
    "# constructors: constructors is a special method that automotically call when we make an instane of a class\n",
    "# it dosn't return any value except None\n",
    "# There are two types of constructor 1) Default constructor 2) parameterized constructor\n",
    "\n",
    "\n",
    "\n",
    "\n",
    "\n",
    "\n",
    "class College:\n",
    "    def __init__(self):\n",
    "        print('this is a college class')\n",
    "    \n",
    "\n",
    "college = College()\n",
    "        "
   ]
  },
  {
   "cell_type": "code",
   "execution_count": null,
   "id": "9c719271",
   "metadata": {},
   "outputs": [],
   "source": []
  }
 ],
 "metadata": {
  "kernelspec": {
   "display_name": "Python 3",
   "language": "python",
   "name": "python3"
  },
  "language_info": {
   "codemirror_mode": {
    "name": "ipython",
    "version": 3
   },
   "file_extension": ".py",
   "mimetype": "text/x-python",
   "name": "python",
   "nbconvert_exporter": "python",
   "pygments_lexer": "ipython3",
   "version": "3.13.5"
  }
 },
 "nbformat": 4,
 "nbformat_minor": 5
}
