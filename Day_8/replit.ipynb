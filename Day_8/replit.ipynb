{
 "cells": [
  {
   "cell_type": "code",
   "execution_count": 2,
   "id": "3965f6aa",
   "metadata": {},
   "outputs": [
    {
     "name": "stdout",
     "output_type": "stream",
     "text": [
      "Hello, arman! Welcome to the program.\n",
      "Thank you for providing your name.\n"
     ]
    }
   ],
   "source": [
    "user_name = input(\"Enter your name: \")\n",
    "print(f\"Hello, {user_name}! Welcome to the program.\")\n",
    "if len(user_name) > 4:\n",
    "    print(\"Thank you for providing your name.\")\n",
    "    if user_name.lower() == \"admin\":\n",
    "        print(\"Hello, Admin! You have special privileges.\")\n",
    "    if user_name.lower() == \"guest\":\n",
    "        print(\"Hello, Guest! You have limited access.\")\n",
    "            \n",
    "else:\n",
    "    print(\"Hello! It seems your name is quite short. Please consider providing a longer name for better interaction.\")"
   ]
  }
 ],
 "metadata": {
  "kernelspec": {
   "display_name": "Python 3",
   "language": "python",
   "name": "python3"
  },
  "language_info": {
   "codemirror_mode": {
    "name": "ipython",
    "version": 3
   },
   "file_extension": ".py",
   "mimetype": "text/x-python",
   "name": "python",
   "nbconvert_exporter": "python",
   "pygments_lexer": "ipython3",
   "version": "3.13.3"
  }
 },
 "nbformat": 4,
 "nbformat_minor": 5
}
