{
 "cells": [
  {
   "cell_type": "code",
   "execution_count": null,
   "id": "691ce316",
   "metadata": {},
   "outputs": [],
   "source": [
    "#Hybrid Inheritance in Python"
   ]
  }
 ],
 "metadata": {
  "language_info": {
   "name": "python"
  }
 },
 "nbformat": 4,
 "nbformat_minor": 5
}
