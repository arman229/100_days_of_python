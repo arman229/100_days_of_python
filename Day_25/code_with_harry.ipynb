{
 "cells": [
  {
   "cell_type": "markdown",
   "id": "640275ac",
   "metadata": {},
   "source": [
    "# Manpulatings Tuple\n",
    "Tuples are immutable(it cannot change) if we want to update it first of all we convert it into list and than we can update it"
   ]
  },
  {
   "cell_type": "code",
   "execution_count": 1,
   "id": "7cc5f5aa",
   "metadata": {},
   "outputs": [
    {
     "ename": "TypeError",
     "evalue": "'tuple' object does not support item assignment",
     "output_type": "error",
     "traceback": [
      "\u001b[31m---------------------------------------------------------------------------\u001b[39m",
      "\u001b[31mTypeError\u001b[39m                                 Traceback (most recent call last)",
      "\u001b[36mCell\u001b[39m\u001b[36m \u001b[39m\u001b[32mIn[1]\u001b[39m\u001b[32m, line 2\u001b[39m\n\u001b[32m      1\u001b[39m no_list = (\u001b[32m1\u001b[39m,\u001b[32m2\u001b[39m,\u001b[32m3\u001b[39m,\u001b[32m4\u001b[39m,\u001b[32m5\u001b[39m,\u001b[32m6\u001b[39m,\u001b[32m7\u001b[39m,\u001b[32m8\u001b[39m,\u001b[32m9\u001b[39m,\u001b[32m10\u001b[39m)\n\u001b[32m----> \u001b[39m\u001b[32m2\u001b[39m \u001b[43mno_list\u001b[49m\u001b[43m[\u001b[49m\u001b[32;43m0\u001b[39;49m\u001b[43m]\u001b[49m=\u001b[32m3\u001b[39m\n\u001b[32m      3\u001b[39m \u001b[38;5;28mprint\u001b[39m(no_list)\n",
      "\u001b[31mTypeError\u001b[39m: 'tuple' object does not support item assignment"
     ]
    }
   ],
   "source": [
    "no_list = (1,2,3,4,5,6,7,8,9,10)\n",
    "no_list[0]=3\n",
    "print(no_list)"
   ]
  },
  {
   "cell_type": "code",
   "execution_count": 3,
   "id": "bfcc718c",
   "metadata": {},
   "outputs": [
    {
     "name": "stdout",
     "output_type": "stream",
     "text": [
      "(3, 2, 3, 4, 5, 6, 7, 8, 9, 10)\n"
     ]
    }
   ],
   "source": [
    "from typing import Tuple\n",
    "\n",
    "no_lists: Tuple[int,...] = (1,2,3,4,5,6,7,8,9,10)  # Define as a generic tuple\n",
    "new_lists = list(no_lists)\n",
    "new_lists[0] = 3\n",
    "updated_no_list = tuple(new_lists)  # Use a different variable name\n",
    "print(updated_no_list)"
   ]
  },
  {
   "cell_type": "code",
   "execution_count": 1,
   "id": "fbc01094",
   "metadata": {},
   "outputs": [
    {
     "name": "stdout",
     "output_type": "stream",
     "text": [
      "2\n",
      "2\n"
     ]
    }
   ],
   "source": [
    "from typing import Tuple\n",
    "my_tuple: Tuple[int,...] = (1, 2, 3, 3, 5, 6, 7, 8, 9, 10)\n",
    "tup_count = my_tuple.count(3)\n",
    "tup_index = my_tuple.index(3)\n",
    "print(tup_count)\n",
    "print(tup_index)"
   ]
  },
  {
   "cell_type": "code",
   "execution_count": 4,
   "id": "04778ab1",
   "metadata": {},
   "outputs": [
    {
     "name": "stdout",
     "output_type": "stream",
     "text": [
      "(1, 2, 3, 4)\n"
     ]
    }
   ],
   "source": [
    "tup_1 = (1,2)\n",
    "tup_2 = (3,4)\n",
    "tup_1 += tup_2\n",
    "print(tup_1)"
   ]
  },
  {
   "cell_type": "code",
   "execution_count": 3,
   "id": "06d92c42",
   "metadata": {},
   "outputs": [
    {
     "name": "stdout",
     "output_type": "stream",
     "text": [
      "(1, 2, 3, 4)\n"
     ]
    }
   ],
   "source": [
    "tup_1 = (1, 2)\n",
    "tup_2 = (3, 4)\n",
    "tup_1 += tup_2  # Concatenate tuples\n",
    "print(tup_1)"
   ]
  }
 ],
 "metadata": {
  "kernelspec": {
   "display_name": "Python 3",
   "language": "python",
   "name": "python3"
  },
  "language_info": {
   "codemirror_mode": {
    "name": "ipython",
    "version": 3
   },
   "file_extension": ".py",
   "mimetype": "text/x-python",
   "name": "python",
   "nbconvert_exporter": "python",
   "pygments_lexer": "ipython3",
   "version": "3.13.3"
  }
 },
 "nbformat": 4,
 "nbformat_minor": 5
}
