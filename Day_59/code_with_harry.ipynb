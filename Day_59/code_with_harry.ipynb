{
 "cells": [
  {
   "cell_type": "code",
   "execution_count": null,
   "id": "4d810463",
   "metadata": {},
   "outputs": [],
   "source": [
    "# Decorator: Decorator is function that takes another function as an argument and extend or modified behaviour \n",
    "# without changing the code of a function.\n",
    "\n",
    "def login_req(fun):\n",
    "    def wrapper(**kwrag):\n",
    "        if kwrag.get('username')=='admin' and kwrag.get('password')=='1234':\n",
    "            return fun(**kwrag)\n",
    "        else:\n",
    "            print('Please provide the correct username and password')\n",
    "    return wrapper   \n",
    "\n",
    "@login_req\n",
    "def home_page(username:str,password:str):\n",
    "    return f'Welcome to {username}'\n",
    "@login_req\n",
    "def about_page(username:str,password:str):\n",
    "    return f'Welcome to {username}'\n",
    "@login_req\n",
    "def order_page(username:str,password:str):\n",
    "    return f'Welcome to {username}'\n",
    "    "
   ]
  },
  {
   "cell_type": "code",
   "execution_count": 13,
   "id": "dd314ecc",
   "metadata": {},
   "outputs": [
    {
     "name": "stdout",
     "output_type": "stream",
     "text": [
      "None\n"
     ]
    }
   ],
   "source": [
    "home=home_page(username='admin',password='1234')\n",
    "print(home)"
   ]
  },
  {
   "cell_type": "code",
   "execution_count": 8,
   "id": "1dae2a9d",
   "metadata": {},
   "outputs": [
    {
     "name": "stdout",
     "output_type": "stream",
     "text": [
      "Please provide the correct username and password\n"
     ]
    }
   ],
   "source": [
    "home=home_page(username='admin',password='1234e')"
   ]
  },
  {
   "cell_type": "code",
   "execution_count": null,
   "id": "d227989b",
   "metadata": {},
   "outputs": [],
   "source": []
  }
 ],
 "metadata": {
  "kernelspec": {
   "display_name": "Python 3",
   "language": "python",
   "name": "python3"
  },
  "language_info": {
   "codemirror_mode": {
    "name": "ipython",
    "version": 3
   },
   "file_extension": ".py",
   "mimetype": "text/x-python",
   "name": "python",
   "nbconvert_exporter": "python",
   "pygments_lexer": "ipython3",
   "version": "3.13.5"
  }
 },
 "nbformat": 4,
 "nbformat_minor": 5
}
