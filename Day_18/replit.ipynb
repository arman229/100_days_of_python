{
 "cells": [
  {
   "cell_type": "code",
   "execution_count": 5,
   "id": "fc723988",
   "metadata": {},
   "outputs": [
    {
     "name": "stdout",
     "output_type": "stream",
     "text": [
      "Your guess is too high. Try again!\n",
      "Your guess is too high. Try again!\n",
      "Congratulations! You guessed the number correctly. in 3 attempts.\n"
     ]
    }
   ],
   "source": [
    "import random\n",
    "import sys\n",
    "computer_no = random.randint(1, 10)\n",
    "attempts = 1\n",
    "while True:\n",
    "    user_no = int(input(\"Guess a number between 1 and 10: \"))\n",
    "    if user_no < 0:\n",
    "        print(\"Please enter a  postive number between 1 and 10.\")\n",
    "        sys.exit() \n",
    "    elif user_no > computer_no:\n",
    "        print(\"Your guess is too high. Try again!\")\n",
    "        attempts += 1 \n",
    "    elif user_no < computer_no:\n",
    "        print(\"Your guess is too low. Try again!\")\n",
    "        attempts += 1\n",
    "    elif user_no == computer_no:\n",
    "        print(\"Congratulations! You guessed the number correctly. in {} attempts.\".format(attempts))\n",
    "        break\n",
    "    else:\n",
    "        print(\"Wrong guess. Try again!\")\n",
    "    "
   ]
  },
  {
   "cell_type": "code",
   "execution_count": null,
   "id": "54231107",
   "metadata": {},
   "outputs": [],
   "source": []
  }
 ],
 "metadata": {
  "kernelspec": {
   "display_name": "Python 3",
   "language": "python",
   "name": "python3"
  },
  "language_info": {
   "codemirror_mode": {
    "name": "ipython",
    "version": 3
   },
   "file_extension": ".py",
   "mimetype": "text/x-python",
   "name": "python",
   "nbconvert_exporter": "python",
   "pygments_lexer": "ipython3",
   "version": "3.13.3"
  }
 },
 "nbformat": 4,
 "nbformat_minor": 5
}
