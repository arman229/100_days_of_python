{
 "cells": [
  {
   "cell_type": "markdown",
   "id": "60452749",
   "metadata": {},
   "source": [
    "# Python while Loop\n",
    "As the name suggests, while loops execute statements while the condition is True. As soon as the condition becomes False, the interpreter comes out of the while loop. \n",
    "## Example:\n",
    "\n",
    "```python \n",
    "count = 5\n",
    "while (count > 0):\n",
    "  print(count)\n",
    "  count = count - 1\n",
    "```\n",
    "## Output:\n",
    "```\n",
    "5\n",
    "4\n",
    "3\n",
    "2\n",
    "1\n",
    "```\n",
    "\n",
    "Here, the count variable is set to 5 which decrements after each iteration. Depending upon the while loop condition, we need to either increment or decrement the counter variable (the variable count, in our case) or the loop will continue forever.\n",
    "\n",
    "# Else with While Loop\n",
    "We can even use the else statement with the while loop. Essentially what the else statement does is that as soon as the while loop condition becomes False, the interpreter comes out of the while loop and the else statement is executed. \n",
    "\n",
    "## Example:\n",
    "\n",
    "```python \n",
    "x = 5\n",
    "while (x > 0):\n",
    "    print(x)\n",
    "    x = x - 1\n",
    "else:\n",
    "    print('counter is 0')\n",
    "```\n",
    "## Output:\n",
    "```\n",
    "5\n",
    "4\n",
    "3\n",
    "2\n",
    "1\n",
    "counter is 0\n",
    "```"
   ]
  },
  {
   "cell_type": "markdown",
   "id": "cc67433e",
   "metadata": {},
   "source": [
    "\n",
    "**Note** This is the primary use case. Imagine you're searching for an item in a list using a while loop.\n",
    "\n",
    "- If you find the item, you'd likely use a break statement to exit the loop early. In this scenario, the else block would not execute.\n",
    "- If the loop finishes checking all items and the item is not found (meaning the loop condition eventually becomes False), then the else block will execute"
   ]
  },
  {
   "cell_type": "code",
   "execution_count": 5,
   "id": "8faf67de",
   "metadata": {},
   "outputs": [
    {
     "name": "stdout",
     "output_type": "stream",
     "text": [
      "Positive number\n"
     ]
    }
   ],
   "source": [
    "flag = True\n",
    "while flag:\n",
    "    user_input = int(input(\"Enter a number  \") )\n",
    "    if user_input > 0:\n",
    "        print(\"Positive number\")    \n",
    "        break\n",
    "    else:\n",
    "        print(\"Negative number or zero\")\n",
    "        flag = False\n",
    "else:\n",
    "    print(\"else block executed\")\n",
    "    "
   ]
  },
  {
   "cell_type": "markdown",
   "id": "94da67ed",
   "metadata": {},
   "source": [
    "# Do-While loop in python\n",
    "do..while is a loop in which a set of instructions will execute at least once (irrespective of the condition) and then the repetition of loop's body will depend on the condition passed at the end of the while loop. It is also known as an exit-controlled loop.\n",
    "# How to emulate do while loop in python?\n",
    "To create a do while loop in Python, you need to modify the while loop a bit in order to get similar behavior to a do while loop.\n",
    "\n",
    "The most common technique to emulate a do-while loop in Python is to use an infinite while loop with a break statement wrapped in an if statement that checks a given condition and breaks the iteration if that condition becomes true:\n",
    "## Example\n",
    "```python \n",
    "while True:\n",
    "  number = int(input(\"Enter a positive number: \"))\n",
    "  print(number)\n",
    "  if not number > 0:\n",
    "    break\n",
    "```\n",
    "## Output\n",
    "```\n",
    "Enter a positive number: 1\n",
    "1\n",
    "Enter a positive number: 4\n",
    "4\n",
    "Enter a positive number: -1\n",
    "-1\n",
    "```\n",
    "## Explanation\n",
    "This loop uses True as its formal condition. This trick turns the loop into an infinite loop. Before the conditional statement, the loop runs all the required processing and updates the breaking condition. If this condition evaluates to true, then the break statement breaks out of the loop, and the program execution continues its normal path. "
   ]
  }
 ],
 "metadata": {
  "kernelspec": {
   "display_name": "Python 3",
   "language": "python",
   "name": "python3"
  },
  "language_info": {
   "codemirror_mode": {
    "name": "ipython",
    "version": 3
   },
   "file_extension": ".py",
   "mimetype": "text/x-python",
   "name": "python",
   "nbconvert_exporter": "python",
   "pygments_lexer": "ipython3",
   "version": "3.13.3"
  }
 },
 "nbformat": 4,
 "nbformat_minor": 5
}
