{
 "cells": [
  {
   "cell_type": "code",
   "execution_count": 1,
   "id": "600f96f3",
   "metadata": {},
   "outputs": [
    {
     "name": "stdout",
     "output_type": "stream",
     "text": [
      "Collecting reportlab\n",
      "  Downloading reportlab-4.4.1-py3-none-any.whl.metadata (1.8 kB)\n",
      "Collecting pillow>=9.0.0 (from reportlab)\n",
      "  Downloading pillow-11.2.1-cp313-cp313-win_amd64.whl.metadata (9.1 kB)\n",
      "Collecting chardet (from reportlab)\n",
      "  Downloading chardet-5.2.0-py3-none-any.whl.metadata (3.4 kB)\n",
      "Downloading reportlab-4.4.1-py3-none-any.whl (2.0 MB)\n",
      "   ---------------------------------------- 0.0/2.0 MB ? eta -:--:--\n",
      "   ---------------------------------------- 0.0/2.0 MB ? eta -:--:--\n",
      "   ---------------------------------------- 0.0/2.0 MB ? eta -:--:--\n",
      "   ----- ---------------------------------- 0.3/2.0 MB ? eta -:--:--\n",
      "   ----- ---------------------------------- 0.3/2.0 MB ? eta -:--:--\n",
      "   ---------- ----------------------------- 0.5/2.0 MB 633.8 kB/s eta 0:00:03\n",
      "   ---------- ----------------------------- 0.5/2.0 MB 633.8 kB/s eta 0:00:03\n",
      "   ---------------- ----------------------- 0.8/2.0 MB 654.8 kB/s eta 0:00:02\n",
      "   ---------------- ----------------------- 0.8/2.0 MB 654.8 kB/s eta 0:00:02\n",
      "   --------------------- ------------------ 1.0/2.0 MB 672.5 kB/s eta 0:00:02\n",
      "   -------------------------- ------------- 1.3/2.0 MB 688.8 kB/s eta 0:00:01\n",
      "   -------------------------- ------------- 1.3/2.0 MB 688.8 kB/s eta 0:00:01\n",
      "   -------------------------------- ------- 1.6/2.0 MB 713.2 kB/s eta 0:00:01\n",
      "   ------------------------------------- -- 1.8/2.0 MB 734.0 kB/s eta 0:00:01\n",
      "   ---------------------------------------- 2.0/2.0 MB 739.5 kB/s eta 0:00:00\n",
      "Downloading pillow-11.2.1-cp313-cp313-win_amd64.whl (2.7 MB)\n",
      "   ---------------------------------------- 0.0/2.7 MB ? eta -:--:--\n",
      "   ---------------------------------------- 0.0/2.7 MB ? eta -:--:--\n",
      "   --- ------------------------------------ 0.3/2.7 MB ? eta -:--:--\n",
      "   ------- -------------------------------- 0.5/2.7 MB 1.0 MB/s eta 0:00:03\n",
      "   ----------- ---------------------------- 0.8/2.7 MB 1.0 MB/s eta 0:00:02\n",
      "   --------------- ------------------------ 1.0/2.7 MB 1.0 MB/s eta 0:00:02\n",
      "   --------------- ------------------------ 1.0/2.7 MB 1.0 MB/s eta 0:00:02\n",
      "   ------------------- -------------------- 1.3/2.7 MB 996.4 kB/s eta 0:00:02\n",
      "   ------------------- -------------------- 1.3/2.7 MB 996.4 kB/s eta 0:00:02\n",
      "   ----------------------- ---------------- 1.6/2.7 MB 927.5 kB/s eta 0:00:02\n",
      "   --------------------------- ------------ 1.8/2.7 MB 959.7 kB/s eta 0:00:01\n",
      "   ------------------------------- -------- 2.1/2.7 MB 986.7 kB/s eta 0:00:01\n",
      "   ----------------------------------- ---- 2.4/2.7 MB 996.6 kB/s eta 0:00:01\n",
      "   ---------------------------------------- 2.7/2.7 MB 995.6 kB/s eta 0:00:00\n",
      "Downloading chardet-5.2.0-py3-none-any.whl (199 kB)\n",
      "Installing collected packages: pillow, chardet, reportlab\n",
      "\n",
      "   ---------------------------------------- 0/3 [pillow]\n",
      "   ---------------------------------------- 0/3 [pillow]\n",
      "   ---------------------------------------- 0/3 [pillow]\n",
      "   ---------------------------------------- 0/3 [pillow]\n",
      "   ---------------------------------------- 0/3 [pillow]\n",
      "   ------------- -------------------------- 1/3 [chardet]\n",
      "   ------------- -------------------------- 1/3 [chardet]\n",
      "   ------------- -------------------------- 1/3 [chardet]\n",
      "   -------------------------- ------------- 2/3 [reportlab]\n",
      "   -------------------------- ------------- 2/3 [reportlab]\n",
      "   -------------------------- ------------- 2/3 [reportlab]\n",
      "   -------------------------- ------------- 2/3 [reportlab]\n",
      "   -------------------------- ------------- 2/3 [reportlab]\n",
      "   -------------------------- ------------- 2/3 [reportlab]\n",
      "   -------------------------- ------------- 2/3 [reportlab]\n",
      "   -------------------------- ------------- 2/3 [reportlab]\n",
      "   -------------------------- ------------- 2/3 [reportlab]\n",
      "   -------------------------- ------------- 2/3 [reportlab]\n",
      "   -------------------------- ------------- 2/3 [reportlab]\n",
      "   -------------------------- ------------- 2/3 [reportlab]\n",
      "   ---------------------------------------- 3/3 [reportlab]\n",
      "\n",
      "Successfully installed chardet-5.2.0 pillow-11.2.1 reportlab-4.4.1\n"
     ]
    }
   ],
   "source": [
    "!pip install reportlab"
   ]
  },
  {
   "cell_type": "code",
   "execution_count": 2,
   "id": "aaea8ac2",
   "metadata": {},
   "outputs": [],
   "source": [
    "from reportlab.pdfgen import canvas\n",
    "def create_pdf(filename,text):\n",
    "    c = canvas.Canvas(filename)\n",
    "    c.drawString(100,750,text)\n",
    "    c.save()\n",
    "create_pdf('sample1.pdf','This is content of PDF 1')    \n",
    "create_pdf('sample2.pdf','This is content of PDF 2')    "
   ]
  },
  {
   "cell_type": "code",
   "execution_count": 7,
   "id": "25eb0da3",
   "metadata": {},
   "outputs": [
    {
     "name": "stdout",
     "output_type": "stream",
     "text": [
      "Collecting pypdf\n",
      "  Downloading pypdf-5.6.0-py3-none-any.whl.metadata (7.2 kB)\n",
      "Downloading pypdf-5.6.0-py3-none-any.whl (304 kB)\n",
      "Installing collected packages: pypdf\n",
      "Successfully installed pypdf-5.6.0\n"
     ]
    }
   ],
   "source": [
    "!pip install pypdf"
   ]
  },
  {
   "cell_type": "code",
   "execution_count": 13,
   "id": "2ecc396f",
   "metadata": {},
   "outputs": [
    {
     "name": "stdout",
     "output_type": "stream",
     "text": [
      "['combined_pdf.pdf', 'sample1.pdf']\n"
     ]
    }
   ],
   "source": [
    "import os\n",
    "from pypdf import PdfReader,PdfWriter,PdfMerger\n",
    "pdf_files = [pdfile  for pdfile in os.listdir() if pdfile.endswith('.pdf')][0:2]\n",
    "print(pdf_files)\n",
    "\n",
    "def mergepdf(pdf_list,output_path):\n",
    "    merger = PdfWriter()\n",
    "    for pdf in pdf_list:\n",
    "        merger.append(pdf)\n",
    "    merger.write(output_path)\n",
    "    merger.close()\n",
    "\n",
    "def add_password(input_pdf,output_pdf,psd):\n",
    "    reader = PdfReader(input_pdf)\n",
    "    writer = PdfWriter()\n",
    "    for page in reader.pages:\n",
    "        writer.add_page(page)\n",
    "    writer.encrypt(psd) \n",
    "    with open(output_pdf,'wb') as f:\n",
    "        writer.write(f)\n",
    "    print(f\"password protected pdf saved\")\n",
    "# add_password('sample1.pdf','sample1_protected.pdf','123')  \n",
    "mergepdf(pdf_files,'combined_pdf.pdf')      "
   ]
  },
  {
   "cell_type": "code",
   "execution_count": null,
   "id": "f4a12827",
   "metadata": {},
   "outputs": [],
   "source": []
  }
 ],
 "metadata": {
  "kernelspec": {
   "display_name": "Python 3",
   "language": "python",
   "name": "python3"
  },
  "language_info": {
   "codemirror_mode": {
    "name": "ipython",
    "version": 3
   },
   "file_extension": ".py",
   "mimetype": "text/x-python",
   "name": "python",
   "nbconvert_exporter": "python",
   "pygments_lexer": "ipython3",
   "version": "3.13.5"
  }
 },
 "nbformat": 4,
 "nbformat_minor": 5
}
