{
 "cells": [
  {
   "cell_type": "code",
   "execution_count": 2,
   "id": "c88c07e4",
   "metadata": {},
   "outputs": [
    {
     "name": "stdout",
     "output_type": "stream",
     "text": [
      "secure login system\n",
      "Login failed! Incorrect username or password.\n"
     ]
    }
   ],
   "source": [
    "from getpass import getpass\n",
    "print('secure login system')\n",
    "input_username = input('Enter username: ')\n",
    "input_password = getpass('Enter password: ')\n",
    "if input_username == 'admin' and input_password == 'secret':\n",
    "    print('Login successful!')\n",
    "else:\n",
    "    print('Login failed! Incorrect username or password.')"
   ]
  }
 ],
 "metadata": {
  "kernelspec": {
   "display_name": "Python 3",
   "language": "python",
   "name": "python3"
  },
  "language_info": {
   "codemirror_mode": {
    "name": "ipython",
    "version": 3
   },
   "file_extension": ".py",
   "mimetype": "text/x-python",
   "name": "python",
   "nbconvert_exporter": "python",
   "pygments_lexer": "ipython3",
   "version": "3.13.3"
  }
 },
 "nbformat": 4,
 "nbformat_minor": 5
}
