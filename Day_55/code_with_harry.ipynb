{
 "cells": [
  {
   "cell_type": "code",
   "execution_count": 1,
   "id": "8f039145",
   "metadata": {},
   "outputs": [
    {
     "name": "stdout",
     "output_type": "stream",
     "text": [
      "computer chose: gun\n",
      "You win!\n"
     ]
    }
   ],
   "source": [
    "# Snake Water Game\n",
    "import random\n",
    "choices = ['water','snake','gun']\n",
    "user_input = input(\n",
    "'choose water, snake, or gun:'\n",
    ").lower()\n",
    "\n",
    "computer_choice = random.choice(choices)\n",
    "print(f\"computer chose: { computer_choice}\")\n",
    "if user_input == 'computer':\n",
    "    print(\"It is a draw\")\n",
    "elif (user_input == 'water' and computer_choice =='gun') or\\\n",
    " (user_input == 'gun' and computer_choice =='snake') or\\\n",
    "  (user_input == 'snake' and computer_choice =='water'):\n",
    "       print('You win!')\n",
    "else:\n",
    "    print(\"You lose!\")"
   ]
  },
  {
   "cell_type": "code",
   "execution_count": null,
   "id": "1e7761a8",
   "metadata": {},
   "outputs": [],
   "source": []
  }
 ],
 "metadata": {
  "kernelspec": {
   "display_name": "Python 3",
   "language": "python",
   "name": "python3"
  },
  "language_info": {
   "codemirror_mode": {
    "name": "ipython",
    "version": 3
   },
   "file_extension": ".py",
   "mimetype": "text/x-python",
   "name": "python",
   "nbconvert_exporter": "python",
   "pygments_lexer": "ipython3",
   "version": "3.13.5"
  }
 },
 "nbformat": 4,
 "nbformat_minor": 5
}
