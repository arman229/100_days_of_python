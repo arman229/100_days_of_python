{
 "cells": [
  {
   "cell_type": "code",
   "execution_count": 10,
   "id": "e1d6ca03",
   "metadata": {},
   "outputs": [
    {
     "name": "stdout",
     "output_type": "stream",
     "text": [
      "\u001b[33m his is a test \u001b[30m\n",
      "arman\n"
     ]
    }
   ],
   "source": [
    "print(\"\\033[33m\", \"his is a test\",\"\\033[30m\")\n",
    "print('arman')\n",
    " "
   ]
  },
  {
   "cell_type": "markdown",
   "id": "4e843416",
   "metadata": {},
   "source": [
    "\\033[ — Escape sequence to start the color command\n",
    "\n",
    "31m, 32m, 33m — Color codes for red, green, yellow\n",
    "\n",
    "\\033[0m — Reset to default color after the colored text"
   ]
  },
  {
   "cell_type": "code",
   "execution_count": 12,
   "id": "f2e352b9",
   "metadata": {},
   "outputs": [
    {
     "name": "stdout",
     "output_type": "stream",
     "text": [
      "\u001b[31mThis text is red\u001b[0m\n",
      "\u001b[31mThis text is red\n",
      "word\n",
      "\u001b[32mThis text is green\u001b[0m\n",
      "\u001b[33mThis text is yellow\u001b[0m\n"
     ]
    }
   ],
   "source": [
    "# Print red text\n",
    "print(\"\\033[31mThis text is red\\033[0m\")\n",
    "print(\"\\033[31mThis text is red\")\n",
    "print('word')\n",
    "\n",
    "# Print green text\n",
    "print(\"\\033[32mThis text is green\\033[0m\")\n",
    "\n",
    "# Print yellow text\n",
    "print(\"\\033[33mThis text is yellow\\033[0m\")\n"
   ]
  },
  {
   "cell_type": "code",
   "execution_count": 14,
   "id": "63684626",
   "metadata": {},
   "outputs": [
    {
     "name": "stdout",
     "output_type": "stream",
     "text": [
      "\u001b[32m i m\n"
     ]
    }
   ],
   "source": [
    "print(\"\\033[32m i m\")"
   ]
  },
  {
   "cell_type": "code",
   "execution_count": null,
   "id": "98f6d36a",
   "metadata": {},
   "outputs": [],
   "source": []
  }
 ],
 "metadata": {
  "kernelspec": {
   "display_name": "Python 3",
   "language": "python",
   "name": "python3"
  },
  "language_info": {
   "codemirror_mode": {
    "name": "ipython",
    "version": 3
   },
   "file_extension": ".py",
   "mimetype": "text/x-python",
   "name": "python",
   "nbconvert_exporter": "python",
   "pygments_lexer": "ipython3",
   "version": "3.13.3"
  }
 },
 "nbformat": 4,
 "nbformat_minor": 5
}
