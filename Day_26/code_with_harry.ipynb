{
 "cells": [
  {
   "cell_type": "code",
   "execution_count": 2,
   "id": "f598b55f",
   "metadata": {},
   "outputs": [
    {
     "name": "stdout",
     "output_type": "stream",
     "text": [
      "Good afternoom\n"
     ]
    }
   ],
   "source": [
    "import time\n",
    "\n",
    "get_hour = time.strftime(\"%H\")\n",
    "if get_hour >= \"5\" and get_hour < \"12\":\n",
    "    print(\"Good morning!\")\n",
    "elif get_hour >= \"12\" and get_hour < \"18\":\n",
    "    print(\"Good afternoom\")\n",
    "else:\n",
    "    print('Good Evining')        "
   ]
  }
 ],
 "metadata": {
  "kernelspec": {
   "display_name": "Python 3",
   "language": "python",
   "name": "python3"
  },
  "language_info": {
   "codemirror_mode": {
    "name": "ipython",
    "version": 3
   },
   "file_extension": ".py",
   "mimetype": "text/x-python",
   "name": "python",
   "nbconvert_exporter": "python",
   "pygments_lexer": "ipython3",
   "version": "3.13.3"
  }
 },
 "nbformat": 4,
 "nbformat_minor": 5
}
