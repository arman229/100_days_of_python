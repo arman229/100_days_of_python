{
 "cells": [
  {
   "cell_type": "code",
   "execution_count": 3,
   "id": "b5a1bc13",
   "metadata": {},
   "outputs": [
    {
     "name": "stdout",
     "output_type": "stream",
     "text": [
      "📊 Exam Grade Calculator\n",
      "\n",
      "\n",
      "✅ You got: 9.09%\n",
      "🏅 Your letter score is: U\n"
     ]
    }
   ],
   "source": [
    "print(\"📊 Exam Grade Calculator\\n\") \n",
    "name_of_exam = input(\"📘 Name of Exam: \")\n",
    "total_score = int(input(\"🎯 Max Possible Score: \"))\n",
    "your_score = int(input(\"✍️ Your Score: \")) \n",
    "percentage = round((your_score / total_score) * 100, 2)\n",
    "print(f\"\\n✅ You got: {percentage}%\")\n",
    " \n",
    "if percentage >= 90:\n",
    "    grade = \"A+\"\n",
    "elif percentage >= 80:\n",
    "    grade = \"A-\"\n",
    "elif percentage >= 70:\n",
    "    grade = \"B\"\n",
    "elif percentage >= 60:\n",
    "    grade = \"C\"\n",
    "elif percentage >= 50:\n",
    "    grade = \"D\"\n",
    "elif percentage >= 0:\n",
    "    grade = \"U\"\n",
    "else:\n",
    "    grade = \"Invalid\"\n",
    "if grade != \"Invalid\":\n",
    "    print(f\"🏅 Your letter score is: {grade}\")\n",
    "else:\n",
    "    print(\"⚠️ Invalid score. Try again!\")\n"
   ]
  }
 ],
 "metadata": {
  "kernelspec": {
   "display_name": "Python 3",
   "language": "python",
   "name": "python3"
  },
  "language_info": {
   "codemirror_mode": {
    "name": "ipython",
    "version": 3
   },
   "file_extension": ".py",
   "mimetype": "text/x-python",
   "name": "python",
   "nbconvert_exporter": "python",
   "pygments_lexer": "ipython3",
   "version": "3.13.3"
  }
 },
 "nbformat": 4,
 "nbformat_minor": 5
}
