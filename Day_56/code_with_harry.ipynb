{
 "cells": [
  {
   "cell_type": "code",
   "execution_count": null,
   "id": "cae5c979",
   "metadata": {},
   "outputs": [],
   "source": [
    "# class : class is a template or blueprint for creating an object, and An object is an instance of a class."
   ]
  }
 ],
 "metadata": {
  "language_info": {
   "name": "python"
  }
 },
 "nbformat": 4,
 "nbformat_minor": 5
}
