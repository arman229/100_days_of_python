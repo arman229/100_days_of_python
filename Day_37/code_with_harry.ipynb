{
 "cells": [
  {
   "cell_type": "markdown",
   "id": "3ccf78ae",
   "metadata": {
    "vscode": {
     "languageId": "plaintext"
    }
   },
   "source": [
    "### Finnaly block\n",
    "Finnaly block alway execute  if we have an error or not in our code logic"
   ]
  },
  {
   "cell_type": "code",
   "execution_count": 1,
   "id": "8a393ebc",
   "metadata": {},
   "outputs": [
    {
     "name": "stdout",
     "output_type": "stream",
     "text": [
      "Error '>=' not supported between instances of 'str' and 'int'\n",
      "Thank you\n"
     ]
    }
   ],
   "source": [
    "try:\n",
    "   user_input = input('Enter your age')\n",
    "   if user_input >= 18:\n",
    "       print(\"You are eligiable for vote casting\")\n",
    "except Exception as e:\n",
    "    print('Error',e)\n",
    "finally:\n",
    "    print('Thank you')           "
   ]
  },
  {
   "cell_type": "code",
   "execution_count": null,
   "id": "e94714a4",
   "metadata": {},
   "outputs": [],
   "source": []
  }
 ],
 "metadata": {
  "kernelspec": {
   "display_name": "Python 3",
   "language": "python",
   "name": "python3"
  },
  "language_info": {
   "codemirror_mode": {
    "name": "ipython",
    "version": 3
   },
   "file_extension": ".py",
   "mimetype": "text/x-python",
   "name": "python",
   "nbconvert_exporter": "python",
   "pygments_lexer": "ipython3",
   "version": "3.13.3"
  }
 },
 "nbformat": 4,
 "nbformat_minor": 5
}
