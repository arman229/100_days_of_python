{
 "cells": [
  {
   "cell_type": "markdown",
   "id": "b16bdb7a",
   "metadata": {},
   "source": [
    "## Module\n",
    "A module in Python is a file that contains Python code — typically functions, classes, and variables — organized together to reuse and structure your code.\n",
    "\n",
    "- built-in-modules (By defualt installed when we install python)\n",
    "- external-modules (these modules are not installed we can install by using pip or other package manager) "
   ]
  },
  {
   "cell_type": "code",
   "execution_count": 4,
   "id": "0370747a",
   "metadata": {},
   "outputs": [
    {
     "name": "stdout",
     "output_type": "stream",
     "text": [
      "b'hello'\n"
     ]
    }
   ],
   "source": [
    "text = \"hello\"\n",
    "b = text.encode()      # Convert string to bytes\n",
    "print(b)               # Output: b'hello'\n"
   ]
  },
  {
   "cell_type": "code",
   "execution_count": 6,
   "id": "44a6fe5e",
   "metadata": {},
   "outputs": [
    {
     "name": "stdout",
     "output_type": "stream",
     "text": [
      "arman\n",
      "b'arman'\n"
     ]
    }
   ],
   "source": [
    "text = \"arman\"        # String (human-readable)\n",
    "b_text = b\"arman\"     # Bytes (computer-readable)\n",
    "\n",
    "print(text)           # Output: arman\n",
    "print(b_text)         # Output: b'arman'\n"
   ]
  },
  {
   "cell_type": "code",
   "execution_count": null,
   "id": "d427f510",
   "metadata": {},
   "outputs": [
    {
     "name": "stdout",
     "output_type": "stream",
     "text": [
      "2\n",
      "c\n",
      "f\n",
      "2\n",
      "4\n",
      "d\n",
      "b\n",
      "a\n",
      "5\n",
      "f\n",
      "b\n",
      "0\n",
      "a\n",
      "3\n",
      "0\n",
      "e\n",
      "2\n",
      "6\n",
      "e\n",
      "8\n",
      "3\n",
      "b\n",
      "2\n",
      "a\n",
      "c\n",
      "5\n",
      "b\n",
      "9\n",
      "e\n",
      "2\n",
      "9\n",
      "e\n",
      "1\n",
      "b\n",
      "1\n",
      "6\n",
      "1\n",
      "e\n",
      "5\n",
      "c\n",
      "1\n",
      "f\n",
      "a\n",
      "7\n",
      "4\n",
      "2\n",
      "5\n",
      "e\n",
      "7\n",
      "3\n",
      "0\n",
      "4\n",
      "3\n",
      "3\n",
      "6\n",
      "2\n",
      "9\n",
      "3\n",
      "8\n",
      "b\n",
      "9\n",
      "8\n",
      "2\n",
      "4\n",
      "<sha256 _hashlib.HASH object @ 0x00000270B90D2BD0>\n"
     ]
    }
   ],
   "source": [
    "import hashlib\n",
    "\n",
    "text = \"hello\"\n",
    "hashed = hashlib.sha256(text.encode())\n",
    "for bye in hashed.hexdigest():\n",
    "    print(bye)   \n",
    "print(hashed)\n"
   ]
  },
  {
   "cell_type": "code",
   "execution_count": 16,
   "id": "b9833319",
   "metadata": {},
   "outputs": [
    {
     "name": "stdout",
     "output_type": "stream",
     "text": [
      "64\n"
     ]
    }
   ],
   "source": [
    "print(len('2cf24dba5fb0a30e26e83b2ac5b9e29e1b161e5c1fa7425e73043362938b9824'))"
   ]
  },
  {
   "cell_type": "code",
   "execution_count": 11,
   "id": "f7490712",
   "metadata": {},
   "outputs": [
    {
     "name": "stdout",
     "output_type": "stream",
     "text": [
      "01100001\n",
      "01110010\n",
      "01101101\n",
      "01100001\n",
      "01101110\n"
     ]
    }
   ],
   "source": [
    "b = b'arman'\n",
    "\n",
    "for byte in b:\n",
    "    print(format(byte, '08b'))   # Each character's 8-bit binary\n"
   ]
  },
  {
   "cell_type": "code",
   "execution_count": 13,
   "id": "010479bc",
   "metadata": {},
   "outputs": [
    {
     "name": "stdout",
     "output_type": "stream",
     "text": [
      "114\n",
      "0b1100001\n"
     ]
    }
   ],
   "source": [
    "b = b'ar'             # b'a' is one byte (ASCII for 'a')\n",
    "print(b[1])          # 97 (ASCII value of 'a')\n",
    "print(bin(b[0]))     # 0b1100001 → binary for 97\n"
   ]
  },
  {
   "cell_type": "markdown",
   "id": "8cfe7c18",
   "metadata": {},
   "source": [
    "# Day 3 - Modules and pip in Python!\n",
    "\n",
    "Module is like a code library which can be used to borrow code written by somebody else in our python program. There are two types of modules in python:\n",
    "1. Built in Modules - These modules are ready to import and use and ships with the python interpreter. there is no need to install such modules explicitly.\n",
    "2. External Modules - These modules are imported from a third party file or can be installed using a package manager like pip or conda. Since this code is written by someone else, we can install different versions of a same module with time.\n",
    "\n",
    "## The pip command\n",
    "\n",
    "It can be used as a package manager [pip](https://pip.pypa.io/en/stable/) to install a python module.\n",
    "Lets install a module called pandas using the following command\n",
    "\n",
    "```bash\n",
    "pip install pandas\n",
    "```\n",
    "\n",
    "## Using a module in Python (Usage)\n",
    "We use the import syntax to import a module in Python. Here is an example code:\n",
    "\n",
    "```python\n",
    "import pandas\n",
    "\n",
    "# Read and work with a file named 'words.csv'\n",
    "df = pandas.read_csv('words.csv')\n",
    "print(df) # This will display first few rows from the words.csv file\n",
    " \n",
    "```\n",
    "\n",
    "Similarly we can install other modules and look into their documentations for usage instructions.\\\n",
    "We will find ourselved doing this often in the later part of this course "
   ]
  }
 ],
 "metadata": {
  "kernelspec": {
   "display_name": "Python 3",
   "language": "python",
   "name": "python3"
  },
  "language_info": {
   "codemirror_mode": {
    "name": "ipython",
    "version": 3
   },
   "file_extension": ".py",
   "mimetype": "text/x-python",
   "name": "python",
   "nbconvert_exporter": "python",
   "pygments_lexer": "ipython3",
   "version": "3.13.3"
  }
 },
 "nbformat": 4,
 "nbformat_minor": 5
}
