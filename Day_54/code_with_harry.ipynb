{
 "cells": [
  {
   "cell_type": "code",
   "execution_count": null,
   "id": "adeb77b0",
   "metadata": {},
   "outputs": [],
   "source": [
    "# is vs == \n",
    "# is it compares the memory location of an object\n",
    "# == it compares the value of an object"
   ]
  },
  {
   "cell_type": "code",
   "execution_count": 24,
   "id": "bb3a87d1",
   "metadata": {},
   "outputs": [
    {
     "name": "stdout",
     "output_type": "stream",
     "text": [
      "1461640740928 1461640748800\n",
      "False\n",
      "True\n"
     ]
    }
   ],
   "source": [
    "a=[1,2,3,4]\n",
    "b=[1,2,3,4,]\n",
    "print(id(a),id(b))\n",
    "print(a is b)\n",
    "print(a==b)"
   ]
  },
  {
   "cell_type": "markdown",
   "id": "87405de8",
   "metadata": {},
   "source": [
    "**Note:** For numbers from -5 to 256: Python uses the same memory location for all occurrences "
   ]
  },
  {
   "cell_type": "code",
   "execution_count": 32,
   "id": "1e4bc317",
   "metadata": {},
   "outputs": [
    {
     "name": "stdout",
     "output_type": "stream",
     "text": [
      "140726800172072 140726800172072\n",
      "True\n",
      "True\n"
     ]
    }
   ],
   "source": [
    "a=5\n",
    "b=5\n",
    "print(id(a),id(b))\n",
    "print(a is b)\n",
    "print(a == b)"
   ]
  },
  {
   "cell_type": "code",
   "execution_count": 33,
   "id": "529fef54",
   "metadata": {},
   "outputs": [
    {
     "name": "stdout",
     "output_type": "stream",
     "text": [
      "140726800180104 140726800180104\n",
      "True\n",
      "True\n"
     ]
    }
   ],
   "source": [
    "a=256\n",
    "b=256\n",
    "print(id(a),id(b))\n",
    "print(a is b)\n",
    "print(a == b)"
   ]
  },
  {
   "cell_type": "code",
   "execution_count": 29,
   "id": "d915dabb",
   "metadata": {},
   "outputs": [
    {
     "name": "stdout",
     "output_type": "stream",
     "text": [
      "1461640370448 1461640367120\n",
      "False\n",
      "True\n"
     ]
    }
   ],
   "source": [
    "a=257\n",
    "b=257\n",
    "print(id(a),id(b))\n",
    "print(a is b)\n",
    "print(a == b)"
   ]
  },
  {
   "cell_type": "code",
   "execution_count": 31,
   "id": "ab4357d4",
   "metadata": {},
   "outputs": [
    {
     "name": "stdout",
     "output_type": "stream",
     "text": [
      "1461640368784 1461640367984\n",
      "False\n",
      "True\n"
     ]
    }
   ],
   "source": [
    "a=-6\n",
    "b=-6\n",
    "print(id(a),id(b))\n",
    "print(a is b)\n",
    "print(a == b)"
   ]
  },
  {
   "cell_type": "markdown",
   "id": "d93ded2f",
   "metadata": {},
   "source": [
    "\n",
    "Python optimizes memory usage for small immutable objects like strings. This is called string interning.\n",
    "Python only interns \"small\" strings — typically short and commonly used strings.\n",
    "This includes strings like \"Hello\", \"True\", \"abc\", etc.\n",
    "Even spaces, punctuation, or slight variations can break interning, e.g., \"Hello \" vs \"Hello\" (different strings)."
   ]
  },
  {
   "cell_type": "code",
   "execution_count": 34,
   "id": "80ff2d60",
   "metadata": {},
   "outputs": [
    {
     "name": "stdout",
     "output_type": "stream",
     "text": [
      "1461640327840 1461640327840\n",
      "True\n",
      "True\n"
     ]
    }
   ],
   "source": [
    " \n",
    "hello1=\"Hello\"\n",
    "hello2=\"Hello\"\n",
    "print(id(hello1),id(hello2))\n",
    "print(hello1 is hello2)\n",
    "print(hello1 == hello2)"
   ]
  },
  {
   "cell_type": "code",
   "execution_count": 35,
   "id": "38c703c9",
   "metadata": {},
   "outputs": [
    {
     "name": "stdout",
     "output_type": "stream",
     "text": [
      "1461640326256 1461640318624\n",
      "False\n",
      "True\n"
     ]
    }
   ],
   "source": [
    " \n",
    "hello1=\"Hello \"\n",
    "hello2=\"Hello \"\n",
    "print(id(hello1),id(hello2))\n",
    "print(hello1 is hello2)\n",
    "print(hello1 == hello2)"
   ]
  },
  {
   "cell_type": "code",
   "execution_count": null,
   "id": "9f2c5ef4",
   "metadata": {},
   "outputs": [],
   "source": []
  },
  {
   "cell_type": "code",
   "execution_count": null,
   "id": "d71e548e",
   "metadata": {},
   "outputs": [],
   "source": [
    "# None is a singleton: There is only one instance of None in Python"
   ]
  },
  {
   "cell_type": "code",
   "execution_count": 36,
   "id": "92386cb9",
   "metadata": {},
   "outputs": [
    {
     "name": "stdout",
     "output_type": "stream",
     "text": [
      "True\n",
      "True\n",
      "True\n",
      "True\n"
     ]
    }
   ],
   "source": [
    "a = None\n",
    "b = None\n",
    "print( a is b)\n",
    "print( a == b)\n",
    "print( a is None )\n",
    "print( a == None)"
   ]
  },
  {
   "cell_type": "code",
   "execution_count": null,
   "id": "70085761",
   "metadata": {},
   "outputs": [],
   "source": []
  }
 ],
 "metadata": {
  "kernelspec": {
   "display_name": "Python 3",
   "language": "python",
   "name": "python3"
  },
  "language_info": {
   "codemirror_mode": {
    "name": "ipython",
    "version": 3
   },
   "file_extension": ".py",
   "mimetype": "text/x-python",
   "name": "python",
   "nbconvert_exporter": "python",
   "pygments_lexer": "ipython3",
   "version": "3.13.5"
  }
 },
 "nbformat": 4,
 "nbformat_minor": 5
}
