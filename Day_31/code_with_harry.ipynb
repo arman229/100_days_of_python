{
 "cells": [
  {
   "cell_type": "markdown",
   "id": "f4892f61",
   "metadata": {},
   "source": [
    "# Set\n",
    "Set is a collection which is unordered, unchangeable and don't allow duplicte values"
   ]
  },
  {
   "cell_type": "code",
   "execution_count": 8,
   "id": "fbdb8cc9",
   "metadata": {},
   "outputs": [
    {
     "name": "stdout",
     "output_type": "stream",
     "text": [
      "<class 'set'>\n",
      "{'arman', 'ali'}\n"
     ]
    }
   ],
   "source": [
    "name_set = {'arman','ali'}\n",
    "print(type(name_set))\n",
    "print(name_set)"
   ]
  },
  {
   "cell_type": "code",
   "execution_count": null,
   "id": "bd0cddd2",
   "metadata": {},
   "outputs": [
    {
     "name": "stdout",
     "output_type": "stream",
     "text": [
      "<class 'set'>\n"
     ]
    }
   ],
   "source": [
    "from typing import Any\n",
    "\n",
    "new_set: set[Any] = set()   \n",
    "print(type(new_set))"
   ]
  },
  {
   "cell_type": "code",
   "execution_count": null,
   "id": "0b1e34ee",
   "metadata": {},
   "outputs": [],
   "source": []
  }
 ],
 "metadata": {
  "kernelspec": {
   "display_name": "Python 3",
   "language": "python",
   "name": "python3"
  },
  "language_info": {
   "codemirror_mode": {
    "name": "ipython",
    "version": 3
   },
   "file_extension": ".py",
   "mimetype": "text/x-python",
   "name": "python",
   "nbconvert_exporter": "python",
   "pygments_lexer": "ipython3",
   "version": "3.13.3"
  }
 },
 "nbformat": 4,
 "nbformat_minor": 5
}
