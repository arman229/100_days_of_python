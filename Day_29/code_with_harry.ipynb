{
 "cells": [
  {
   "cell_type": "code",
   "execution_count": null,
   "id": "ed5adf8e",
   "metadata": {},
   "outputs": [],
   "source": [
    "# DocString in PYthon\n",
    "# A docstring (short for documentation string) in Python is a string literal that occurs as the first statement in a module, function, class, or method definition.\n",
    "# Purpose: Docstrings are used to briefly explain what a piece of code does. They serve as built-in documentation for your Python code.\n",
    "# Accessibility: Unlike regular comments, docstrings are stored as part of the object's __doc__ attribute and can be accessed programmatically \n",
    "# Now a days in llm use this docstring for tools calling"
   ]
  },
  {
   "cell_type": "code",
   "execution_count": 1,
   "id": "5b544cf5",
   "metadata": {},
   "outputs": [
    {
     "name": "stdout",
     "output_type": "stream",
     "text": [
      "sum of two no\n"
     ]
    }
   ],
   "source": [
    "def sum_fun(a,b):\n",
    "    '''sum of two no'''\n",
    "    return a + b \n",
    "\n",
    "print(sum_fun.__doc__)"
   ]
  },
  {
   "cell_type": "markdown",
   "id": "72d79cca",
   "metadata": {},
   "source": [
    "# PEP 8(python Enhancement Proposal) \n",
    "PEP 8 is a document written in 2001 by Guido van Rossum, Barry Warsaw, and Nick Coghlan. \n",
    "It is a document that provides guidelines and best practices on how to write Python code. "
   ]
  },
  {
   "cell_type": "code",
   "execution_count": null,
   "id": "d5f1f81e",
   "metadata": {},
   "outputs": [],
   "source": [
    "# The Zen of Python\n",
    "# import this\n",
    "# The Zen of Python is a collection of aphorisms that capture the philosophy of Python.\n",
    "# It is simple a poem that tells you how to write python code"
   ]
  },
  {
   "cell_type": "code",
   "execution_count": 2,
   "id": "a8692c65",
   "metadata": {},
   "outputs": [
    {
     "name": "stdout",
     "output_type": "stream",
     "text": [
      "The Zen of Python, by Tim Peters\n",
      "\n",
      "Beautiful is better than ugly.\n",
      "Explicit is better than implicit.\n",
      "Simple is better than complex.\n",
      "Complex is better than complicated.\n",
      "Flat is better than nested.\n",
      "Sparse is better than dense.\n",
      "Readability counts.\n",
      "Special cases aren't special enough to break the rules.\n",
      "Although practicality beats purity.\n",
      "Errors should never pass silently.\n",
      "Unless explicitly silenced.\n",
      "In the face of ambiguity, refuse the temptation to guess.\n",
      "There should be one-- and preferably only one --obvious way to do it.\n",
      "Although that way may not be obvious at first unless you're Dutch.\n",
      "Now is better than never.\n",
      "Although never is often better than *right* now.\n",
      "If the implementation is hard to explain, it's a bad idea.\n",
      "If the implementation is easy to explain, it may be a good idea.\n",
      "Namespaces are one honking great idea -- let's do more of those!\n"
     ]
    }
   ],
   "source": [
    "import this"
   ]
  },
  {
   "cell_type": "code",
   "execution_count": null,
   "id": "54c49463",
   "metadata": {},
   "outputs": [],
   "source": []
  }
 ],
 "metadata": {
  "kernelspec": {
   "display_name": "Python 3",
   "language": "python",
   "name": "python3"
  },
  "language_info": {
   "codemirror_mode": {
    "name": "ipython",
    "version": 3
   },
   "file_extension": ".py",
   "mimetype": "text/x-python",
   "name": "python",
   "nbconvert_exporter": "python",
   "pygments_lexer": "ipython3",
   "version": "3.13.3"
  }
 },
 "nbformat": 4,
 "nbformat_minor": 5
}
