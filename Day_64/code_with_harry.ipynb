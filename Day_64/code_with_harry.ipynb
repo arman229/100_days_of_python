{
 "cells": [
  {
   "cell_type": "code",
   "execution_count": null,
   "id": "e2ebb110",
   "metadata": {},
   "outputs": [],
   "source": [
    "# Library exercise"
   ]
  },
  {
   "cell_type": "code",
   "execution_count": 3,
   "id": "e42d909b",
   "metadata": {},
   "outputs": [
    {
     "name": "stdout",
     "output_type": "stream",
     "text": [
      "The library has 1 book\n",
      "math\n"
     ]
    }
   ],
   "source": [
    "class Library:\n",
    "    def __init__(self):\n",
    "        self.no_of_books = 0\n",
    "        self.books = []\n",
    "    def print_all_books(self):\n",
    "        print(f\"The library has {self.no_of_books} book\")\n",
    "        if len(self.books) > 0:\n",
    "            for bk in self.books:\n",
    "                print(bk)\n",
    "    def add_book(self,book):\n",
    "        self.books.append(book)\n",
    "        self.no_of_books = len(self.books)\n",
    "        \n",
    "library = Library()\n",
    "library.add_book('math')\n",
    "library.print_all_books()"
   ]
  },
  {
   "cell_type": "code",
   "execution_count": null,
   "id": "f3962a22",
   "metadata": {},
   "outputs": [],
   "source": []
  }
 ],
 "metadata": {
  "kernelspec": {
   "display_name": "Python 3",
   "language": "python",
   "name": "python3"
  },
  "language_info": {
   "codemirror_mode": {
    "name": "ipython",
    "version": 3
   },
   "file_extension": ".py",
   "mimetype": "text/x-python",
   "name": "python",
   "nbconvert_exporter": "python",
   "pygments_lexer": "ipython3",
   "version": "3.13.5"
  }
 },
 "nbformat": 4,
 "nbformat_minor": 5
}
