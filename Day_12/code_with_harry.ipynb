{
 "cells": [
  {
   "cell_type": "markdown",
   "id": "8181da6b",
   "metadata": {},
   "source": [
    "# String Slicing & Operations on String\n",
    "# Length of a String\n",
    "We can find the length of a string using len() function.\n",
    "\n",
    "## Example:\n",
    "```python\n",
    "fruit = \"Mango\"\n",
    "len1 = len(fruit)\n",
    "print(\"Mango is a\", len1, \"letter word.\")\n",
    "```\n",
    "## Output:\n",
    "Mango is a 5 letter word.\n",
    "# String as an array\n",
    "A string is essentially a sequence of characters also called an array. Thus we can access the elements of this array. \n",
    "\n",
    "## Example:\n",
    "```python\n",
    "pie = \"ApplePie\"\n",
    "print(pie[:5])\n",
    "print(pie[6])\t#returns character at specified index\n",
    "```\n",
    "## Output:\n",
    "```\n",
    "Apple\n",
    "i\n",
    "```\n",
    " \n",
    "\n",
    "Note: This method of specifying the start and end index to specify a part of a string is called slicing. \n",
    "## Slicing Example:\n",
    "```python\n",
    "pie = \"ApplePie\"\n",
    "print(pie[:5])      #Slicing from Start\n",
    "print(pie[5:])      #Slicing till End\n",
    "print(pie[2:6])     #Slicing in between\n",
    "print(pie[-8:])     #Slicing using negative index\n",
    "```\n",
    "## Output:\n",
    "```\n",
    "Apple\n",
    "Pie\n",
    "pleP\n",
    "ApplePie\n",
    "```\n",
    "# Loop through a String:\n",
    "Strings are arrays and arrays are iterable. Thus we can loop through strings.\n",
    "## Example:\n",
    "```python\n",
    "alphabets = \"ABCDE\"\n",
    "for i in alphabets:\n",
    "    print(i)\n",
    "  ```\n",
    "## Output:\n",
    "```\n",
    "A\n",
    "B\n",
    "C\n",
    "D\n",
    "E\n",
    "```  "
   ]
  },
  {
   "cell_type": "code",
   "execution_count": 3,
   "id": "3585d8fe",
   "metadata": {},
   "outputs": [
    {
     "name": "stdout",
     "output_type": "stream",
     "text": [
      "f\n",
      "n as\n"
     ]
    }
   ],
   "source": [
    "name = 'arman ashraf'\n",
    "print(name[-1])\n",
    "print(name[-8:-4])"
   ]
  },
  {
   "cell_type": "code",
   "execution_count": null,
   "id": "3f1b9436",
   "metadata": {},
   "outputs": [],
   "source": []
  }
 ],
 "metadata": {
  "kernelspec": {
   "display_name": "Python 3",
   "language": "python",
   "name": "python3"
  },
  "language_info": {
   "codemirror_mode": {
    "name": "ipython",
    "version": 3
   },
   "file_extension": ".py",
   "mimetype": "text/x-python",
   "name": "python",
   "nbconvert_exporter": "python",
   "pygments_lexer": "ipython3",
   "version": "3.13.3"
  }
 },
 "nbformat": 4,
 "nbformat_minor": 5
}
