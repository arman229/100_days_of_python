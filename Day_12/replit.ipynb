{
 "cells": [
  {
   "cell_type": "code",
   "execution_count": 4,
   "id": "9e6761d1",
   "metadata": {},
   "outputs": [
    {
     "name": "stdout",
     "output_type": "stream",
     "text": [
      "100 Days of Code QUIZ\n",
      "\n",
      "How many can you answer correctly?\n",
      "Correct\n",
      "That's right!\n"
     ]
    }
   ],
   "source": [
    "print(\"100 Days of Code QUIZ\")\n",
    "print()\n",
    "print(\"How many can you answer correctly?\")\n",
    "ans1 = input(\"What language are we writing in?\")\n",
    "if ans1 == \"python\":\n",
    "  print(\"Correct\")\n",
    "else:\n",
    "  print(\"Nope🙈\")\n",
    "ans2 = int(input(\"Which lesson number is this?\"))\n",
    "if(ans2>12):\n",
    "    print(\"We're not quite that far yet\")\n",
    "elif(ans2==12):\n",
    "    print(\"That's right!\")\n",
    "else:\n",
    "    print(\"We've gone well past that!\")"
   ]
  }
 ],
 "metadata": {
  "kernelspec": {
   "display_name": "Python 3",
   "language": "python",
   "name": "python3"
  },
  "language_info": {
   "codemirror_mode": {
    "name": "ipython",
    "version": 3
   },
   "file_extension": ".py",
   "mimetype": "text/x-python",
   "name": "python",
   "nbconvert_exporter": "python",
   "pygments_lexer": "ipython3",
   "version": "3.13.3"
  }
 },
 "nbformat": 4,
 "nbformat_minor": 5
}
