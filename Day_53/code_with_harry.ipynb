{
 "cells": [
  {
   "cell_type": "code",
   "execution_count": null,
   "id": "f1c4b16c",
   "metadata": {},
   "outputs": [
    {
     "name": "stdout",
     "output_type": "stream",
     "text": [
      "[2, 4, 6, 8]\n"
     ]
    }
   ],
   "source": [
    "# map() map function apply on a iterable object and return a new iterable object\n",
    "\n",
    "no_list = [1,2,3,4]\n",
    "doubled = map(lambda x:x*2,no_list)\n",
    "print(list(doubled))"
   ]
  },
  {
   "cell_type": "code",
   "execution_count": 3,
   "id": "ccc170ac",
   "metadata": {},
   "outputs": [
    {
     "name": "stdout",
     "output_type": "stream",
     "text": [
      "[2, 4, 6, 8]\n"
     ]
    }
   ],
   "source": [
    "no_list = (1,2,3,4)\n",
    "doubled = map(lambda x:x*2,no_list)\n",
    "print(list(doubled))"
   ]
  },
  {
   "cell_type": "code",
   "execution_count": 6,
   "id": "75977e91",
   "metadata": {},
   "outputs": [
    {
     "name": "stdout",
     "output_type": "stream",
     "text": [
      "[2]\n"
     ]
    }
   ],
   "source": [
    "no_list = {'1':'one'}\n",
    "doubled = map(lambda x:int(x)*2,no_list)\n",
    "print(list(doubled))"
   ]
  },
  {
   "cell_type": "code",
   "execution_count": 8,
   "id": "69027f08",
   "metadata": {},
   "outputs": [
    {
     "name": "stdout",
     "output_type": "stream",
     "text": [
      "[2, 4]\n"
     ]
    }
   ],
   "source": [
    "# filter() this method apply on a iterable object and give me a new object on the base of condition\n",
    "no_list = [1,2,3,4,5]\n",
    "filtered = filter(lambda x:x%2 == 0 , no_list)\n",
    "print(list(filtered))"
   ]
  },
  {
   "cell_type": "code",
   "execution_count": null,
   "id": "98a8c483",
   "metadata": {},
   "outputs": [
    {
     "name": "stdout",
     "output_type": "stream",
     "text": [
      "[False, True, False, True, False]\n",
      "[2, 4]\n"
     ]
    }
   ],
   "source": [
    "# Difference between map and filter method is that in filter we choose some items but in map we change the items\n",
    "no_list = [1,2,3,4,5]\n",
    "filtered = map(lambda x:x%2 == 0 , no_list)\n",
    "print(list(filtered))\n",
    "no_list = [1,2,3,4,5]\n",
    "filtered = filter(lambda x:x%2 == 0 , no_list)\n",
    "print(list(filtered))"
   ]
  },
  {
   "cell_type": "code",
   "execution_count": null,
   "id": "38a97139",
   "metadata": {},
   "outputs": [
    {
     "name": "stdout",
     "output_type": "stream",
     "text": [
      "3456\n"
     ]
    }
   ],
   "source": [
    "# reduce() The reduce method applies a function cumulatively(step by step, carrying the previous result forward to the next item.) to the items of an\n",
    "#  iterable from left to right so as to reduce  the iterable to a single value.\n",
    "from functools import reduce\n",
    "no_list =[3,4,5,6]\n",
    "final_resp = reduce(lambda x,y:x*10+y, no_list)\n",
    "print(final_resp)"
   ]
  },
  {
   "cell_type": "code",
   "execution_count": null,
   "id": "987c4c26",
   "metadata": {},
   "outputs": [],
   "source": []
  }
 ],
 "metadata": {
  "kernelspec": {
   "display_name": "Python 3",
   "language": "python",
   "name": "python3"
  },
  "language_info": {
   "codemirror_mode": {
    "name": "ipython",
    "version": 3
   },
   "file_extension": ".py",
   "mimetype": "text/x-python",
   "name": "python",
   "nbconvert_exporter": "python",
   "pygments_lexer": "ipython3",
   "version": "3.13.5"
  }
 },
 "nbformat": 4,
 "nbformat_minor": 5
}
