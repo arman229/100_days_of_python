{
 "cells": [
  {
   "cell_type": "code",
   "execution_count": null,
   "id": "375848f7",
   "metadata": {},
   "outputs": [
    {
     "name": "stdout",
     "output_type": "stream",
     "text": [
      "Welcome to our secret game logic\n",
      "arman\n"
     ]
    }
   ],
   "source": [
    "import random\n",
    "import string\n",
    "def secret_code(msg:str,pre:str):\n",
    "    if pre =='encode':\n",
    "        if len(msg)>=3:\n",
    "            remove_3_words = msg[:3]\n",
    "            remaing_words = msg[3:]\n",
    "            append_last = remaing_words + remove_3_words\n",
    "            random_str = \"\".join(random.choices(string.ascii_letters,k=3))\n",
    "            final_string  = random_str + append_last + random_str\n",
    "            return final_string\n",
    "        else:\n",
    "            new_msg = msg[:-1]\n",
    "            return new_msg\n",
    "\n",
    "    elif pre == 'decode' :\n",
    "        if len(msg) >=9:\n",
    "           remove_last_first = msg[3:-3]         \n",
    "           original_string = remove_last_first[-3:] + remove_last_first[:-3]\n",
    "           return original_string   \n",
    "    \n",
    "        else:\n",
    "            new_msg = msg[::-1] \n",
    "            return new_msg       \n",
    "\n",
    "    else:\n",
    "        print('please choose a encode or decode') \n",
    "\n",
    "try:\n",
    "    print('Welcome to our secret game logic')\n",
    "    user_input = input(\"Enter a text that you want to encode or decode\").strip().lower()\n",
    "    user_pre = input(\"What do you want encode or decode\").strip().lower()\n",
    "    if len(user_input)>0 and len(user_pre)>0:\n",
    "        call_secret_code = secret_code(user_input,user_pre)\n",
    "        print(call_secret_code)\n",
    "    else:\n",
    "        print('Either text message or your prefrence cannot be empty please provide it')    \n",
    "except Exception as e:\n",
    "    print('Error',e)    "
   ]
  },
  {
   "cell_type": "code",
   "execution_count": 4,
   "id": "a03ecc8f",
   "metadata": {},
   "outputs": [
    {
     "name": "stdout",
     "output_type": "stream",
     "text": [
      "efq\n"
     ]
    }
   ],
   "source": [
    "import string\n",
    "import random\n",
    "three_str = \"\".join(random.choices(string.ascii_letters,k=3))\n",
    "print(three_str)"
   ]
  },
  {
   "cell_type": "code",
   "execution_count": null,
   "id": "c45a1156",
   "metadata": {},
   "outputs": [],
   "source": []
  }
 ],
 "metadata": {
  "kernelspec": {
   "display_name": "Python 3",
   "language": "python",
   "name": "python3"
  },
  "language_info": {
   "codemirror_mode": {
    "name": "ipython",
    "version": 3
   },
   "file_extension": ".py",
   "mimetype": "text/x-python",
   "name": "python",
   "nbconvert_exporter": "python",
   "pygments_lexer": "ipython3",
   "version": "3.13.5"
  }
 },
 "nbformat": 4,
 "nbformat_minor": 5
}
