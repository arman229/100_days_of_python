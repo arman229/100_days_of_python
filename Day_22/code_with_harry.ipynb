{
 "cells": [
  {
   "cell_type": "markdown",
   "id": "8cd2cea8",
   "metadata": {},
   "source": [
    "# List\n",
    "List is a collection(store multiple values in a single variable) which ordered,changeable and alows duplicate values\n",
    "**Note**:\n",
    "- Lists can contain different data types\n",
    "- we can access item from a list by using the index(it may be postive start from left side and firt index is 0 and it may be negative start from the right side and first index is -1)\n",
    "- We can slicing the list by using this technique [start:end(not include):steps]"
   ]
  },
  {
   "cell_type": "code",
   "execution_count": null,
   "id": "0264e292",
   "metadata": {},
   "outputs": [
    {
     "name": "stdout",
     "output_type": "stream",
     "text": [
      "list_of_10_no: [1, 2, 3, 4, 5, 6, 7, 8, 9, 10]\n"
     ]
    }
   ],
   "source": [
    "# ordered: it means that the order of a list is not changeable it always remains the same\n",
    "list_of_10_no = [1,2,3,4,5,6,7,8,9,10]\n",
    "print(\"list_of_10_no:\", list_of_10_no)"
   ]
  },
  {
   "cell_type": "code",
   "execution_count": 2,
   "id": "66d18a9c",
   "metadata": {},
   "outputs": [
    {
     "name": "stdout",
     "output_type": "stream",
     "text": [
      "list_of_10_no after changing first element: [100, 2, 3, 4, 5, 6, 7, 8, 9, 10]\n"
     ]
    }
   ],
   "source": [
    "# Changleable It means that we can change the value of a list\n",
    "list_of_10_no = [1, 2, 3, 4, 5, 6, 7, 8, 9, 10]\n",
    "list_of_10_no[0] = 100\n",
    "print(\"list_of_10_no after changing first element:\", list_of_10_no)"
   ]
  },
  {
   "cell_type": "code",
   "execution_count": 3,
   "id": "0d3d3d2e",
   "metadata": {},
   "outputs": [
    {
     "name": "stdout",
     "output_type": "stream",
     "text": [
      "list_of_10_no with duplicates: [1, 2, 3, 4, 5, 6, 7, 8, 9, 10, 1]\n"
     ]
    }
   ],
   "source": [
    "#Duplicates: It means that we can have duplicate values in a list\n",
    "list_of_10_no = [1, 2, 3, 4, 5, 6, 7, 8, 9, 10, 1]\n",
    "print(\"list_of_10_no with duplicates:\", list_of_10_no)"
   ]
  },
  {
   "cell_type": "code",
   "execution_count": null,
   "id": "c2bf89eb",
   "metadata": {},
   "outputs": [
    {
     "name": "stdout",
     "output_type": "stream",
     "text": [
      "slice_1: 2\n",
      "slice_2: [1, 2, 3, 4, 5]\n",
      "slice_3: [6, 7, 8, 9, 10]\n",
      "slice_4 [3, 4, 5]\n",
      "slice_5: [1, 3, 5, 7, 9]\n",
      "slice_6: [10, 9, 8, 7, 6, 5, 4, 3, 2, 1]\n",
      "slice_7: [2, 4, 6, 8]\n",
      "slice_8: [10, 9, 8, 7, 6]\n",
      "slice_9: []\n"
     ]
    }
   ],
   "source": [
    "no_list = [1, 2, 3, 4, 5, 6, 7, 8, 9, 10]\n",
    "slice_1 = no_list[1] # output will be 2\n",
    "print(\"slice_1:\", slice_1)\n",
    "slice_2 = no_list[:5]\n",
    "print(\"slice_2:\", slice_2) # output will be [1,2, 3, 4, 5]\n",
    "slice_3 = no_list[5:]\n",
    "print(\"slice_3:\", slice_3) # output will be [6, 7, 8, 9,10]\n",
    "slice_4 = no_list[2:5]\n",
    "print(\"slice_4\",slice_4) # output will be [3, 4, 5]\n",
    "slice_5 = no_list[::2]  \n",
    "print(\"slice_5:\", slice_5) # output will be [1, 3, 5, 7, 9] \n",
    "slice_6 = no_list[::-1]\n",
    "print(\"slice_6:\", slice_6) # output will be [10, 9, 8, 7, 6, 5, 4, 3, 2, 1]\n",
    "slice_7 = no_list[-9:8:2]\n",
    "print(\"slice_7:\", slice_7) # output will be [2, 4, 6, 8]\n",
    "slice_8 = no_list[-1:-6:-1]\n",
    "print(\"slice_8:\", slice_8) # output will be [10, 9, 8, 7, 6]\n",
    "slice_9 = no_list[-1:-6:2]\n",
    "print(\"slice_9:\", slice_9) # output will be [10, 8, 6]\n"
   ]
  },
  {
   "cell_type": "code",
   "execution_count": 8,
   "id": "c7edaf10",
   "metadata": {},
   "outputs": [
    {
     "name": "stdout",
     "output_type": "stream",
     "text": [
      "slice_10: [1, 2, 3, 4, 5, 6, 7, 8, 9]\n",
      "slice_11: [10]\n"
     ]
    }
   ],
   "source": [
    "slice_10 = no_list[:-1]\n",
    "print(\"slice_10:\", slice_10) # output will be [1, 2, 3, 4, 5, 6, 7, 8, 9]\n",
    "slice_11 = no_list[-1:]\n",
    "print(\"slice_11:\", slice_11) # output will be [10] "
   ]
  }
 ],
 "metadata": {
  "kernelspec": {
   "display_name": "Python 3",
   "language": "python",
   "name": "python3"
  },
  "language_info": {
   "codemirror_mode": {
    "name": "ipython",
    "version": 3
   },
   "file_extension": ".py",
   "mimetype": "text/x-python",
   "name": "python",
   "nbconvert_exporter": "python",
   "pygments_lexer": "ipython3",
   "version": "3.13.3"
  }
 },
 "nbformat": 4,
 "nbformat_minor": 5
}
