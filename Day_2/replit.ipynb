{
 "cells": [
  {
   "cell_type": "code",
   "execution_count": 2,
   "id": "e31a909f",
   "metadata": {},
   "outputs": [
    {
     "name": "stdout",
     "output_type": "stream",
     "text": [
      "hi\n",
      "\n",
      "arman\n"
     ]
    }
   ],
   "source": [
    "print(\"hi\")\n",
    "print()\n",
    "print(\"arman\")"
   ]
  },
  {
   "cell_type": "code",
   "execution_count": 2,
   "id": "42567a38",
   "metadata": {},
   "outputs": [
    {
     "name": "stdout",
     "output_type": "stream",
     "text": [
      "Definitely not a Phishing Scam\n",
      "\n",
      "Thanks for logging in\n",
      "Thanks, I definitely wont put\n",
      "cardNumber\n",
      "into Amazon and order anything weird\n",
      "\n",
      "Promise\n",
      "\n",
      "That's cool, I just wanted to know that\n",
      "safia\n",
      "was your Mum's maiden name. Not because the bank requested it or anything, honest.\n"
     ]
    }
   ],
   "source": [
    "print(\"Definitely not a Phishing Scam\")\n",
    "print()\n",
    "input(\"Your Name\")\n",
    "print(\"Thanks for logging in\")\n",
    " \n",
    "cardNumber = input(\"What is your credit card number?\")\n",
    "print(\"Thanks, I definitely wont put\")\n",
    "print(\"cardNumber\")\n",
    "print(\"into Amazon and order anything weird\")\n",
    "print()\n",
    "print(\"Promise\")\n",
    "maidenName = input(\"What is your Mother's maiden name? \")\n",
    "print()\n",
    "print(\"That's cool, I just wanted to know that\")\n",
    "print(maidenName)\n",
    "print(\"\"\"was your Mum's maiden name. Not because the bank requested it or anything, honest.\"\"\")"
   ]
  },
  {
   "cell_type": "code",
   "execution_count": null,
   "id": "33b2d92b",
   "metadata": {},
   "outputs": [],
   "source": []
  }
 ],
 "metadata": {
  "kernelspec": {
   "display_name": "Python 3",
   "language": "python",
   "name": "python3"
  },
  "language_info": {
   "codemirror_mode": {
    "name": "ipython",
    "version": 3
   },
   "file_extension": ".py",
   "mimetype": "text/x-python",
   "name": "python",
   "nbconvert_exporter": "python",
   "pygments_lexer": "ipython3",
   "version": "3.13.3"
  }
 },
 "nbformat": 4,
 "nbformat_minor": 5
}
