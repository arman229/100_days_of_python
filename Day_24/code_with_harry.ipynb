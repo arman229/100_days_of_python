{
 "cells": [
  {
   "cell_type": "markdown",
   "id": "33b3a264",
   "metadata": {},
   "source": [
    "# Tuple\n",
    "Tuple is a collection which is ordered,changeable and allow duplicate values"
   ]
  },
  {
   "cell_type": "code",
   "execution_count": null,
   "id": "449e5765",
   "metadata": {},
   "outputs": [
    {
     "name": "stdout",
     "output_type": "stream",
     "text": [
      "<class 'tuple'>\n",
      "<class 'int'>\n",
      "(1, 2, 3)\n"
     ]
    }
   ],
   "source": [
    "first_tupl = (1, 2, 3)\n",
    "single_item_tup = (1,) # Note if we have one item in our tuple than we must write , after the first item\n",
    "not_tup = (1)\n",
    "print(type(single_item_tup))\n",
    "print(type(not_tup))\n",
    "print(first_tupl)"
   ]
  },
  {
   "cell_type": "code",
   "execution_count": 5,
   "id": "9753e168",
   "metadata": {},
   "outputs": [
    {
     "name": "stdout",
     "output_type": "stream",
     "text": [
      "<class 'tuple'>\n"
     ]
    }
   ],
   "source": [
    "create_tup = tuple([1,2])\n",
    "print(type(create_tup))"
   ]
  },
  {
   "cell_type": "code",
   "execution_count": 2,
   "id": "8295ec99",
   "metadata": {},
   "outputs": [
    {
     "name": "stdout",
     "output_type": "stream",
     "text": [
      "<class 'tuple'>\n"
     ]
    }
   ],
   "source": [
    "create_tups = tuple(['ali','veli'])\n",
    "print(type(create_tups))"
   ]
  },
  {
   "cell_type": "code",
   "execution_count": 8,
   "id": "98a7804a",
   "metadata": {},
   "outputs": [
    {
     "name": "stdout",
     "output_type": "stream",
     "text": [
      "(1,)\n"
     ]
    }
   ],
   "source": [
    "thistuple = tuple((1,            \n",
    "                ))\n",
    "print(thistuple)"
   ]
  },
  {
   "cell_type": "code",
   "execution_count": 6,
   "id": "206fc616",
   "metadata": {},
   "outputs": [
    {
     "name": "stdout",
     "output_type": "stream",
     "text": [
      "<class 'tuple'>\n"
     ]
    }
   ],
   "source": [
    "create_tup = tuple([1])\n",
    "print(type(create_tup))"
   ]
  },
  {
   "cell_type": "code",
   "execution_count": null,
   "id": "796f1b8f",
   "metadata": {},
   "outputs": [],
   "source": []
  }
 ],
 "metadata": {
  "kernelspec": {
   "display_name": "Python 3",
   "language": "python",
   "name": "python3"
  },
  "language_info": {
   "codemirror_mode": {
    "name": "ipython",
    "version": 3
   },
   "file_extension": ".py",
   "mimetype": "text/x-python",
   "name": "python",
   "nbconvert_exporter": "python",
   "pygments_lexer": "ipython3",
   "version": "3.13.3"
  }
 },
 "nbformat": 4,
 "nbformat_minor": 5
}
