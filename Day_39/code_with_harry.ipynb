{
 "cells": [
  {
   "cell_type": "code",
   "execution_count": 6,
   "id": "b52b7d59",
   "metadata": {},
   "outputs": [
    {
     "name": "stdout",
     "output_type": "stream",
     "text": [
      "Welecome to prize win Game Enter correct answer and win the game\n",
      "Who is the current primeMinister of pakistan\n",
      "a ali\n",
      "b imran khan\n",
      "c shahbaz shreef\n",
      "d nawaz shreef\n",
      "you won 1000\n",
      "Thanks for playing this game\n"
     ]
    }
   ],
   "source": [
    "def prizewingame():\n",
    "    questions = [\n",
    "        {\n",
    "            \"question\": \"Who is the current primeMinister of pakistan\",\n",
    "            \"options\": {\n",
    "                \"a\": \"ali\",\n",
    "                \"b\": \"imran khan\",\n",
    "                \"c\": \"shahbaz shreef\",\n",
    "                \"d\": \"nawaz shreef\",\n",
    "            },\n",
    "            \"correct_option\": \"c\",\n",
    "            \"prize_win\": 1000,\n",
    "        }\n",
    "    ]\n",
    "    win_amount = 0\n",
    "    for que in questions:\n",
    "        print(\"Welecome to prize win Game Enter correct answer and win the game\")\n",
    "        print(que['question'])\n",
    "        for op,op_val in que['options'].items():\n",
    "            print(op,op_val)\n",
    "        while True:\n",
    "            user_input = input('Enter the correct answer from a-d').strip().lower()\n",
    "            if user_input in ['a','b','c','d']:\n",
    "                break\n",
    "            else:\n",
    "                print('Please choose the answer from a to d')\n",
    "        \n",
    "        if user_input ==que['correct_option']:\n",
    "            win_amount += que['prize_win']\n",
    "            print(f\"you won {win_amount}\")\n",
    "        else:\n",
    "            print('your answer is incorrect and you have only one chance')    \n",
    "            break\n",
    "    print('Thanks for playing this game')    \n",
    "prizewingame()"
   ]
  },
  {
   "cell_type": "code",
   "execution_count": null,
   "id": "25d6d60d",
   "metadata": {},
   "outputs": [],
   "source": []
  }
 ],
 "metadata": {
  "kernelspec": {
   "display_name": "Python 3",
   "language": "python",
   "name": "python3"
  },
  "language_info": {
   "codemirror_mode": {
    "name": "ipython",
    "version": 3
   },
   "file_extension": ".py",
   "mimetype": "text/x-python",
   "name": "python",
   "nbconvert_exporter": "python",
   "pygments_lexer": "ipython3",
   "version": "3.13.3"
  }
 },
 "nbformat": 4,
 "nbformat_minor": 5
}
