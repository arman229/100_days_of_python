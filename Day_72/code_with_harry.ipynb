{
 "cells": [
  {
   "cell_type": "code",
   "execution_count": null,
   "id": "996730ca",
   "metadata": {},
   "outputs": [
    {
     "name": "stdout",
     "output_type": "stream",
     "text": [
      "Calculating the height\n",
      "height is 3ft\n"
     ]
    }
   ],
   "source": [
    "# super keyword : it is use when we want to call the parent method in child class and child class inherits from multiple parents\n",
    "\n",
    "class Father:\n",
    "    def find_height(self,hi):\n",
    "        print(f'height is {hi}ft')\n",
    "class Mother:\n",
    "    def find_height(self,hi):\n",
    "        print(f'height is {hi}cm')\n",
    "class child(Father,Mother):\n",
    "    def find_height(self,hi):\n",
    "        print('Calculating the height')\n",
    "        super().find_height(hi) # it calls the first parent method\n",
    "\n",
    "arman = child()\n",
    "arman.find_height(3)        \n",
    "        "
   ]
  },
  {
   "cell_type": "code",
   "execution_count": null,
   "id": "d4756de9",
   "metadata": {},
   "outputs": [],
   "source": []
  }
 ],
 "metadata": {
  "kernelspec": {
   "display_name": "Python 3",
   "language": "python",
   "name": "python3"
  },
  "language_info": {
   "codemirror_mode": {
    "name": "ipython",
    "version": 3
   },
   "file_extension": ".py",
   "mimetype": "text/x-python",
   "name": "python",
   "nbconvert_exporter": "python",
   "pygments_lexer": "ipython3",
   "version": "3.13.5"
  }
 },
 "nbformat": 4,
 "nbformat_minor": 5
}
